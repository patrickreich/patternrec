{
 "cells": [
  {
   "cell_type": "markdown",
   "metadata": {},
   "source": [
    "# Coursework 2\n",
    "\n",
    "## Load Data\n",
    "* File is 500mb, load once"
   ]
  },
  {
   "cell_type": "code",
   "execution_count": 1,
   "metadata": {},
   "outputs": [],
   "source": [
    "# Utils\n",
    "\n",
    "from tqdm import tqdm_notebook # Progress bar"
   ]
  },
  {
   "cell_type": "code",
   "execution_count": 2,
   "metadata": {},
   "outputs": [],
   "source": [
    "import numpy as np\n",
    "import matplotlib.pyplot as plt\n",
    "\n",
    "import json\n",
    "from scipy.io import loadmat"
   ]
  },
  {
   "cell_type": "markdown",
   "metadata": {},
   "source": [
    "### Load Features"
   ]
  },
  {
   "cell_type": "code",
   "execution_count": 3,
   "metadata": {},
   "outputs": [
    {
     "name": "stdout",
     "output_type": "stream",
     "text": [
      "Data shape: (14096, 2048)\n"
     ]
    }
   ],
   "source": [
    "with open( \"PR_data/feature_data.json\", \"r\" ) as file:\n",
    "    features = json.load( file )\n",
    "    \n",
    "data = np.asarray( features )\n",
    "\n",
    "print( 'Data shape: {}'.format( data.shape ) )"
   ]
  },
  {
   "cell_type": "markdown",
   "metadata": {},
   "source": [
    "### Load Image Annotations\n",
    "\n",
    "From the file **cuhk03_new_protocol_config_labeled.mat**\n",
    "\n",
    "There are 6 main components of this file:\n",
    "\n",
    "1. camId specidies whether image was taken from camera 1 or camera 2. While evaluating your algorithms, you should not consider images of your current query identity taken from the same camera. For example, when you create ranklist for the first query image (index 22, label 3, camera 1, name \"1_003_1_02.png\"), you should not include images with indexes 21, 23, 24 in this ranking list\n",
    "2. filelist\n",
    "3. gallery_idx, which specifies indexes of the part of the dataset from which you compose your ranklists during testing phase\n",
    "4. labels contains ground truths for each image\n",
    "5. query_idx contains indexes of query images\n",
    "6. train_idx contains indexes of images that can be used for training"
   ]
  },
  {
   "cell_type": "code",
   "execution_count": 4,
   "metadata": {},
   "outputs": [],
   "source": [
    "# Load matfile\n",
    "mat = loadmat( 'PR_data/cuhk03_new_protocol_config_labeled.mat' )"
   ]
  },
  {
   "cell_type": "code",
   "execution_count": 5,
   "metadata": {},
   "outputs": [
    {
     "data": {
      "text/plain": [
       "dict_keys(['__header__', '__version__', '__globals__', 'camId', 'filelist', 'labels', 'query_idx', 'gallery_idx', 'train_idx'])"
      ]
     },
     "execution_count": 5,
     "metadata": {},
     "output_type": "execute_result"
    }
   ],
   "source": [
    "mat.keys()"
   ]
  },
  {
   "cell_type": "code",
   "execution_count": 6,
   "metadata": {},
   "outputs": [
    {
     "name": "stdout",
     "output_type": "stream",
     "text": [
      "Loading Training indexes : (7368,)\n",
      "Loading Query indexes : (1400,)\n",
      "Loading Gallery indexes : (5328,)\n"
     ]
    }
   ],
   "source": [
    "# Load labels\n",
    "labels = mat[ 'labels' ].flatten()\n",
    "\n",
    "# Load camId\n",
    "camIds = mat[ 'camId' ].flatten()\n",
    "\n",
    "# Load indexes\n",
    "train_idxs   = mat[ 'train_idx' ].flatten()\n",
    "query_idxs    = mat[ 'query_idx' ].flatten()\n",
    "gallery_idxs = mat[ 'gallery_idx' ].flatten()\n",
    "\n",
    "# Load training indexes\n",
    "print( \"Loading Training indexes : {}\".format( train_idxs.shape ) )\n",
    "print( \"Loading Query indexes : {}\".format( query_idxs.shape ) )\n",
    "print( \"Loading Gallery indexes : {}\".format( gallery_idxs.shape ) )"
   ]
  },
  {
   "cell_type": "code",
   "execution_count": 7,
   "metadata": {},
   "outputs": [
    {
     "name": "stdout",
     "output_type": "stream",
     "text": [
      "Train Set : (7368, 2048)\n",
      "Train Label : (7368,)\n",
      "\n",
      "Query Set : (1400, 2048)\n",
      "Query Label : (1400,)\n",
      "Query CamId : (1400,)\n",
      "\n",
      "Gallery Set : (5328, 2048)\n",
      "Gallery Label : (5328,)\n",
      "Gallery CamId : (5328,)\n"
     ]
    }
   ],
   "source": [
    "# Create Train Set\n",
    "train_set   = []\n",
    "train_label = []\n",
    "\n",
    "for i in train_idxs:\n",
    "    train_set.append( data[ i - 1 ] )\n",
    "    train_label.append( labels[ i - 1 ] )\n",
    "    \n",
    "train_set   = np.asarray( train_set )\n",
    "train_label = np.asarray( train_label )\n",
    "\n",
    "print( 'Train Set : {}'.format( train_set.shape ) )\n",
    "print( 'Train Label : {}'.format( train_label.shape ) )\n",
    "\n",
    "\n",
    "# Create Query Set\n",
    "query_set   = []\n",
    "query_label = []\n",
    "query_camId = []\n",
    "\n",
    "for i in query_idxs:\n",
    "    query_set.append( data[ i - 1] )\n",
    "    query_label.append( labels[ i - 1 ] )\n",
    "    query_camId.append( camIds[ i - 1 ] )\n",
    "    \n",
    "query_set   = np.asarray( query_set )\n",
    "query_label = np.asarray( query_label )\n",
    "query_camId = np.asarray( query_camId )\n",
    "\n",
    "print( '\\nQuery Set : {}'.format( query_set.shape ) )\n",
    "print( 'Query Label : {}'.format( query_label.shape ) )\n",
    "print( 'Query CamId : {}'.format( query_camId.shape ) )\n",
    "\n",
    "\n",
    "# Create Gallery Set\n",
    "gallery_set   = []\n",
    "gallery_label = []\n",
    "gallery_camId = []\n",
    "\n",
    "for i in gallery_idxs:\n",
    "    gallery_set.append( data[ i - 1] )\n",
    "    gallery_label.append( labels[ i - 1 ] )\n",
    "    gallery_camId.append( camIds[ i - 1 ] )\n",
    "    \n",
    "gallery_set   = np.asarray( gallery_set )\n",
    "gallery_label = np.asarray( gallery_label )\n",
    "gallery_camId = np.asarray( gallery_camId )\n",
    "\n",
    "print( '\\nGallery Set : {}'.format( gallery_set.shape ) )\n",
    "print( 'Gallery Label : {}'.format( gallery_label.shape ) )\n",
    "print( 'Gallery CamId : {}'.format( gallery_camId.shape ) )"
   ]
  },
  {
   "cell_type": "markdown",
   "metadata": {},
   "source": [
    "____\n",
    "\n",
    "## Create Augmented Query and Gallery Sets"
   ]
  },
  {
   "cell_type": "code",
   "execution_count": 8,
   "metadata": {},
   "outputs": [
    {
     "name": "stdout",
     "output_type": "stream",
     "text": [
      "Query Augmented: (1400, 2050)\n",
      "Gallery Augmented: (5328, 2050)\n"
     ]
    }
   ],
   "source": [
    "# Query Augmented\n",
    "qs = query_set.T\n",
    "\n",
    "query_augmented = np.vstack( ( qs, query_camId, query_label ) )\n",
    "query_augmented = query_augmented.T\n",
    "\n",
    "# Gallery Augmented\n",
    "gs = gallery_set.T\n",
    "\n",
    "gallery_augmented = np.vstack( ( gs, gallery_camId, gallery_label ) )\n",
    "gallery_augmented = gallery_augmented.T\n",
    "\n",
    "print( 'Query Augmented: {}'.format( query_augmented.shape ) )\n",
    "print( 'Gallery Augmented: {}'.format( gallery_augmented.shape ) )"
   ]
  },
  {
   "cell_type": "code",
   "execution_count": 9,
   "metadata": {},
   "outputs": [],
   "source": [
    "from sklearn.neighbors import KNeighborsClassifier\n",
    "from sklearn.neighbors import NearestNeighbors"
   ]
  },
  {
   "cell_type": "code",
   "execution_count": 277,
   "metadata": {},
   "outputs": [
    {
     "data": {
      "application/vnd.jupyter.widget-view+json": {
       "model_id": "45d202addaa04e709082b6a8da05ed34",
       "version_major": 2,
       "version_minor": 0
      },
      "text/plain": [
       "HBox(children=(IntProgress(value=0, max=1400), HTML(value='')))"
      ]
     },
     "metadata": {},
     "output_type": "display_data"
    },
    {
     "name": "stdout",
     "output_type": "stream",
     "text": [
      "\n",
      "CPU times: user 19min 10s, sys: 1min 13s, total: 20min 23s\n",
      "Wall time: 20min 22s\n"
     ]
    }
   ],
   "source": [
    "%%time\n",
    "\n",
    "# KNN Parameters\n",
    "knn_n_neighbors = 20\n",
    "knn_metric = 'euclidean'\n",
    "\n",
    "\n",
    "query_rank_list = []\n",
    "\n",
    "# for i in range( 2,4 ):\n",
    "for i in tqdm_notebook( range( query_augmented.shape[ 0 ] ) ):\n",
    "\n",
    "    \n",
    "    query_label = query_augmented[ i, -1 ].astype( int )\n",
    "\n",
    "    # Remove rows which have the same camId AND label\n",
    "    gallery_reduced = gallery_augmented[ ~np.logical_and( ( gallery_augmented[ :, -1 ] == query_augmented[ i ][ -1 ] ),\n",
    "                                                          ( gallery_augmented[ :, -2 ] == query_augmented[ i ][ -2 ] )\n",
    "                                      ) ]\n",
    "    \n",
    "    # Train KNN\n",
    "    X = gallery_reduced[ :, : - 2 ] # All rows, but in each row, remove last 2 columns ( camId and label )\n",
    "    Y = gallery_reduced[ :, - 1 ] # All rows in the last column ( the labels )\n",
    "    \n",
    "    KNN = NearestNeighbors( n_neighbors = knn_n_neighbors, metric = knn_metric )\n",
    "    KNN.fit( X, Y )    \n",
    "    \n",
    "    # Test query point\n",
    "    X_test = query_augmented[ i ][ : -2 ].reshape( 1, -1 ) # Remove last 2 columns ( camId and label )\n",
    "    \n",
    "    distances, indices = KNN.kneighbors( X_test ) # Neighbours are ordered closest to furthest\n",
    "    \n",
    "    # Compare\n",
    "    distances = distances.flatten()\n",
    "    indices   = indices.flatten()\n",
    "    \n",
    "    rank_list = [ gallery_reduced[ ind, -1 ].astype( int ) == query_label for ind in indices ]\n",
    "    query_rank_list.append( rank_list )\n",
    "    \n",
    "    #count += ( gallery_reduced[ indices[ 0 ], -1 ].astype( int ) == query_augmented[ i, -1 ].astype( int ) )  \n",
    "    \n",
    "query_rank_list = np.asarray( query_rank_list )"
   ]
  },
  {
   "cell_type": "code",
   "execution_count": 10,
   "metadata": {},
   "outputs": [
    {
     "ename": "NameError",
     "evalue": "name 'query_rank_list' is not defined",
     "output_type": "error",
     "traceback": [
      "\u001b[0;31m---------------------------------------------------------------------------\u001b[0m",
      "\u001b[0;31mNameError\u001b[0m                                 Traceback (most recent call last)",
      "\u001b[0;32m<ipython-input-10-1445a284685d>\u001b[0m in \u001b[0;36m<module>\u001b[0;34m()\u001b[0m\n\u001b[0;32m----> 1\u001b[0;31m \u001b[0mquery_rank_list\u001b[0m \u001b[0;34m=\u001b[0m \u001b[0mquery_rank_list\u001b[0m\u001b[0;34m.\u001b[0m\u001b[0mastype\u001b[0m\u001b[0;34m(\u001b[0m \u001b[0mint\u001b[0m \u001b[0;34m)\u001b[0m\u001b[0;34m\u001b[0m\u001b[0m\n\u001b[0m\u001b[1;32m      2\u001b[0m \u001b[0;34m\u001b[0m\u001b[0m\n\u001b[1;32m      3\u001b[0m \u001b[0;31m# Save as CSV so we dont have to fucking run that 20 minute code anymore\u001b[0m\u001b[0;34m\u001b[0m\u001b[0;34m\u001b[0m\u001b[0m\n\u001b[1;32m      4\u001b[0m \u001b[0mnp\u001b[0m\u001b[0;34m.\u001b[0m\u001b[0msavetxt\u001b[0m\u001b[0;34m(\u001b[0m \u001b[0;34m'query_rank_list.csv'\u001b[0m\u001b[0;34m,\u001b[0m \u001b[0mquery_rank_list\u001b[0m\u001b[0;34m,\u001b[0m \u001b[0mfmt\u001b[0m\u001b[0;34m=\u001b[0m\u001b[0;34m'%i'\u001b[0m\u001b[0;34m,\u001b[0m \u001b[0mdelimiter\u001b[0m\u001b[0;34m=\u001b[0m \u001b[0;34m','\u001b[0m \u001b[0;34m)\u001b[0m\u001b[0;34m\u001b[0m\u001b[0m\n",
      "\u001b[0;31mNameError\u001b[0m: name 'query_rank_list' is not defined"
     ]
    }
   ],
   "source": [
    "query_rank_list = query_rank_list.astype( int )\n",
    "\n",
    "# Save as CSV so we dont have to fucking run that 20 minute code anymore\n",
    "np.savetxt( 'query_rank_list.csv', query_rank_list, fmt='%i', delimiter= ',' )"
   ]
  },
  {
   "cell_type": "code",
   "execution_count": 11,
   "metadata": {},
   "outputs": [
    {
     "data": {
      "text/plain": [
       "(1400, 20)"
      ]
     },
     "execution_count": 11,
     "metadata": {},
     "output_type": "execute_result"
    }
   ],
   "source": [
    "# Load csv file\n",
    "query_rank_list = np.loadtxt( 'query_rank_list.csv', delimiter = ',' )\n",
    "\n",
    "query_rank_list.shape"
   ]
  },
  {
   "cell_type": "markdown",
   "metadata": {},
   "source": [
    "### CMC\n",
    "https://www.reddit.com/r/computervision/comments/10oc4x/need_help_understanding_cumulative_match_score/"
   ]
  },
  {
   "cell_type": "code",
   "execution_count": 12,
   "metadata": {},
   "outputs": [
    {
     "name": "stdout",
     "output_type": "stream",
     "text": [
      "rank@1: 47.0%\n",
      "rank@5: 66.85714285714286%\n",
      "rank@10: 74.92857142857143%\n"
     ]
    }
   ],
   "source": [
    "rankAt1  = query_rank_list.T[ 0 ]\n",
    "rankAt5  = query_rank_list.T[ : 5 ].T\n",
    "rankAt10 = query_rank_list.T[ : 10 ].T\n",
    "\n",
    "cmc1  = rankAt1\n",
    "cmc5  = np.sum( rankAt5, axis = 1 ) > 0 # Dirty python trick: sum across rows, if sum > 0, set to 1\n",
    "cmc10 = np.sum( rankAt10, axis = 1 ) > 0\n",
    "\n",
    "print( 'rank@1: {}%'.format( np.sum( cmc1 ) / cmc1.shape[ 0 ] * 100 ) )\n",
    "print( 'rank@5: {}%'.format( np.sum( cmc5 ) / cmc5.shape[ 0 ] * 100 ) )\n",
    "print( 'rank@10: {}%'.format( np.sum( cmc10 ) / cmc10.shape[ 0 ] * 100 ) )"
   ]
  },
  {
   "cell_type": "markdown",
   "metadata": {},
   "source": [
    "### mAP\n",
    "\n",
    "[Calculating mAP](https://medium.com/@jonathan_hui/map-mean-average-precision-for-object-detection-45c121a31173)"
   ]
  },
  {
   "cell_type": "code",
   "execution_count": 67,
   "metadata": {},
   "outputs": [
    {
     "data": {
      "image/png": "[encoded data removed]",
      "text/plain": [
       "<Figure size 432x288 with 1 Axes>"
      ]
     },
     "metadata": {
      "needs_background": "light"
     },
     "output_type": "display_data"
    },
    {
     "name": "stdout",
     "output_type": "stream",
     "text": [
      "[1.0, 1.0, 0.6666666666666666, 0.5, 0.4, 0.5, 0.5714285714285714, 0.5, 0.4444444444444444, 0.5]\n",
      "[0.2, 0.4, 0.4, 0.4, 0.4, 0.6, 0.8, 0.8, 0.8, 1.0]\n"
     ]
    }
   ],
   "source": [
    "qrl = np.array( [ 1, 1, 0, 0, 0, 1, 1, 0, 0, 1 ] )\n",
    "\n",
    "\n",
    "precisions = []\n",
    "recalls    = []\n",
    "\n",
    "for i in range( len( qrl ) ):\n",
    "    rl = qrl[ : i + 1]\n",
    "    \n",
    "    # Precision at i\n",
    "    p = np.sum( rl ) / ( i + 1 )\n",
    "    \n",
    "    # Recall\n",
    "    r = np.sum( rl ) / np.sum( qrl )\n",
    "    \n",
    "    precisions.append( p )\n",
    "    recalls.append( r )\n",
    "\n",
    "\n",
    "plt.plot( recalls, precisions, 'o-')\n",
    "plt.grid()\n",
    "plt.show()\n",
    "\n",
    "print( precisions )\n",
    "print( recalls )"
   ]
  },
  {
   "cell_type": "code",
   "execution_count": 101,
   "metadata": {},
   "outputs": [
    {
     "data": {
      "image/png": "[encoded data removed]",
      "text/plain": [
       "<Figure size 432x288 with 1 Axes>"
      ]
     },
     "metadata": {
      "needs_background": "light"
     },
     "output_type": "display_data"
    },
    {
     "name": "stdout",
     "output_type": "stream",
     "text": [
      "[0.2, 0.4, 0.6, 0.8, 1.0]\n",
      "dict_values([1.0, 1.0, 0.5, 0.5714285714285714, 0.5])\n"
     ]
    }
   ],
   "source": [
    "fuckAss = dict()\n",
    "\n",
    "for r,p in zip( recalls, precisions ):\n",
    "    \n",
    "    if r in fuckAss:\n",
    "        fuckAss[ r ] = max( fuckAss[ r ], p )\n",
    "    else:\n",
    "        fuckAss[ r ] = p\n",
    "        \n",
    "plt.plot( fuckAss.keys(), fuckAss.values(), 'o-')\n",
    "plt.grid()\n",
    "plt.show()\n",
    "\n",
    "print( list( fuckAss.keys() ) )\n",
    "print( fuckAss.values() ) "
   ]
  },
  {
   "cell_type": "code",
   "execution_count": 116,
   "metadata": {},
   "outputs": [
    {
     "data": {
      "image/png": "[encoded data removed]",
      "text/plain": [
       "<Figure size 432x288 with 1 Axes>"
      ]
     },
     "metadata": {
      "needs_background": "light"
     },
     "output_type": "display_data"
    },
    {
     "name": "stdout",
     "output_type": "stream",
     "text": [
      "[(0.0, 1.0), (0.1, 1.0), (0.2, 1.0), (0.3, 1.0), (0.4, 1.0), (0.5, 0.5), (0.6, 0.5), (0.7, 0.5714285714285714), (0.8, 0.5714285714285714), (0.9, 0.5), (1.0, 0.5)]\n"
     ]
    }
   ],
   "source": [
    "from scipy.interpolate import interp1d\n",
    "\n",
    "x = [ i/10 for i in range( 11 ) ]\n",
    "# y = np.interp( x, list( fuckAss.keys() ), list( fuckAss.values() ) )\n",
    "\n",
    "f = interp1d( list( fuckAss.keys() ), list( fuckAss.values() ), kind = 'next', fill_value = 'extrapolate' )\n",
    "\n",
    "y = f( x )\n",
    "    \n",
    "plt.plot( x, y, 'o-')\n",
    "plt.grid()\n",
    "plt.show()\n",
    "\n",
    "print( [ i for i in zip( x, y ) ] )\n"
   ]
  },
  {
   "cell_type": "markdown",
   "metadata": {},
   "source": [
    "___"
   ]
  },
  {
   "cell_type": "code",
   "execution_count": 49,
   "metadata": {},
   "outputs": [
    {
     "data": {
      "text/plain": [
       "(20,)"
      ]
     },
     "execution_count": 49,
     "metadata": {},
     "output_type": "execute_result"
    }
   ],
   "source": [
    "from sklearn.metrics import average_precision_score\n",
    "\n",
    "y_true = query_rank_list[ 2 ]\n",
    "y_pred = np.asarray( [ 1 for i in range( 0, 20 ) ] )\n",
    "\n",
    "average_precision_score( y_true, )"
   ]
  },
  {
   "cell_type": "code",
   "execution_count": 51,
   "metadata": {},
   "outputs": [
    {
     "data": {
      "application/vnd.jupyter.widget-view+json": {
       "model_id": "5676df743ea141b480226a9964b2ca78",
       "version_major": 2,
       "version_minor": 0
      },
      "text/plain": [
       "HBox(children=(IntProgress(value=0, max=1400), HTML(value='')))"
      ]
     },
     "metadata": {},
     "output_type": "display_data"
    },
    {
     "name": "stdout",
     "output_type": "stream",
     "text": [
      "\n",
      "mAP: 8.500309943646855%\n"
     ]
    }
   ],
   "source": [
    "total_sum = 0\n",
    "\n",
    "for row in tqdm_notebook( query_rank_list ):\n",
    "    \n",
    "    row_sum = 0\n",
    "    \n",
    "    for i in range( len( row ) ):\n",
    "        rl = row[ : i + 1 ]\n",
    "        \n",
    "        p  = np.sum( rl ) / ( i + 1 )\n",
    "        cr = 1/len( row ) if rl[ i ] else 0\n",
    "        \n",
    "        row_sum += p*cr\n",
    "        \n",
    "    total_sum += row_sum\n",
    "\n",
    "print( 'mAP: {}%'.format( total_sum / query_rank_list.shape[ 0 ] * 100 ) )\n",
    "    \n",
    "    "
   ]
  },
  {
   "cell_type": "code",
   "execution_count": null,
   "metadata": {},
   "outputs": [],
   "source": []
  }
 ],
 "metadata": {
  "kernelspec": {
   "display_name": "Python 3",
   "language": "python",
   "name": "python3"
  },
  "language_info": {
   "codemirror_mode": {
    "name": "ipython",
    "version": 3
   },
   "file_extension": ".py",
   "mimetype": "text/x-python",
   "name": "python",
   "nbconvert_exporter": "python",
   "pygments_lexer": "ipython3",
   "version": "3.6.4"
  }
 },
 "nbformat": 4,
 "nbformat_minor": 2
}
