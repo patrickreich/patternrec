{
 "cells": [
  {
   "cell_type": "code",
   "execution_count": 44,
   "metadata": {},
   "outputs": [],
   "source": [
    "import scipy.io as sc\n",
    "faces = sc.loadmat('face.mat')"
   ]
  },
  {
   "cell_type": "code",
   "execution_count": 18,
   "metadata": {},
   "outputs": [
    {
     "data": {
      "text/plain": [
       "{'X': array([[106, 130, 191, ...,  70, 183,  77],\n",
       "        [103, 129, 185, ...,  62, 250,  72],\n",
       "        [103, 130, 174, ...,  83, 163,  68],\n",
       "        ...,\n",
       "        [ 37,  40,  22, ...,  87, 102,  93],\n",
       "        [ 36,  36,  19, ...,  89,  95, 103],\n",
       "        [ 41,  35,  17, ...,  94, 106, 110]], dtype=uint8),\n",
       " '__globals__': [],\n",
       " '__header__': b'MATLAB 5.0 MAT-file, Platform: PCWIN, Created on: Sat May 27 02:07:24 2006',\n",
       " '__version__': '1.0',\n",
       " 'l': array([[ 1,  1,  1,  1,  1,  1,  1,  1,  1,  1,  2,  2,  2,  2,  2,  2,\n",
       "          2,  2,  2,  2,  3,  3,  3,  3,  3,  3,  3,  3,  3,  3,  4,  4,\n",
       "          4,  4,  4,  4,  4,  4,  4,  4,  5,  5,  5,  5,  5,  5,  5,  5,\n",
       "          5,  5,  6,  6,  6,  6,  6,  6,  6,  6,  6,  6,  7,  7,  7,  7,\n",
       "          7,  7,  7,  7,  7,  7,  8,  8,  8,  8,  8,  8,  8,  8,  8,  8,\n",
       "          9,  9,  9,  9,  9,  9,  9,  9,  9,  9, 10, 10, 10, 10, 10, 10,\n",
       "         10, 10, 10, 10, 11, 11, 11, 11, 11, 11, 11, 11, 11, 11, 12, 12,\n",
       "         12, 12, 12, 12, 12, 12, 12, 12, 13, 13, 13, 13, 13, 13, 13, 13,\n",
       "         13, 13, 14, 14, 14, 14, 14, 14, 14, 14, 14, 14, 15, 15, 15, 15,\n",
       "         15, 15, 15, 15, 15, 15, 16, 16, 16, 16, 16, 16, 16, 16, 16, 16,\n",
       "         17, 17, 17, 17, 17, 17, 17, 17, 17, 17, 18, 18, 18, 18, 18, 18,\n",
       "         18, 18, 18, 18, 19, 19, 19, 19, 19, 19, 19, 19, 19, 19, 20, 20,\n",
       "         20, 20, 20, 20, 20, 20, 20, 20, 21, 21, 21, 21, 21, 21, 21, 21,\n",
       "         21, 21, 22, 22, 22, 22, 22, 22, 22, 22, 22, 22, 23, 23, 23, 23,\n",
       "         23, 23, 23, 23, 23, 23, 24, 24, 24, 24, 24, 24, 24, 24, 24, 24,\n",
       "         25, 25, 25, 25, 25, 25, 25, 25, 25, 25, 26, 26, 26, 26, 26, 26,\n",
       "         26, 26, 26, 26, 27, 27, 27, 27, 27, 27, 27, 27, 27, 27, 28, 28,\n",
       "         28, 28, 28, 28, 28, 28, 28, 28, 29, 29, 29, 29, 29, 29, 29, 29,\n",
       "         29, 29, 30, 30, 30, 30, 30, 30, 30, 30, 30, 30, 31, 31, 31, 31,\n",
       "         31, 31, 31, 31, 31, 31, 32, 32, 32, 32, 32, 32, 32, 32, 32, 32,\n",
       "         33, 33, 33, 33, 33, 33, 33, 33, 33, 33, 34, 34, 34, 34, 34, 34,\n",
       "         34, 34, 34, 34, 35, 35, 35, 35, 35, 35, 35, 35, 35, 35, 36, 36,\n",
       "         36, 36, 36, 36, 36, 36, 36, 36, 37, 37, 37, 37, 37, 37, 37, 37,\n",
       "         37, 37, 38, 38, 38, 38, 38, 38, 38, 38, 38, 38, 39, 39, 39, 39,\n",
       "         39, 39, 39, 39, 39, 39, 40, 40, 40, 40, 40, 40, 40, 40, 40, 40,\n",
       "         41, 41, 41, 41, 41, 41, 41, 41, 41, 41, 42, 42, 42, 42, 42, 42,\n",
       "         42, 42, 42, 42, 43, 43, 43, 43, 43, 43, 43, 43, 43, 43, 44, 44,\n",
       "         44, 44, 44, 44, 44, 44, 44, 44, 45, 45, 45, 45, 45, 45, 45, 45,\n",
       "         45, 45, 46, 46, 46, 46, 46, 46, 46, 46, 46, 46, 47, 47, 47, 47,\n",
       "         47, 47, 47, 47, 47, 47, 48, 48, 48, 48, 48, 48, 48, 48, 48, 48,\n",
       "         49, 49, 49, 49, 49, 49, 49, 49, 49, 49, 50, 50, 50, 50, 50, 50,\n",
       "         50, 50, 50, 50, 51, 51, 51, 51, 51, 51, 51, 51, 51, 51, 52, 52,\n",
       "         52, 52, 52, 52, 52, 52, 52, 52]], dtype=uint8)}"
      ]
     },
     "execution_count": 18,
     "metadata": {},
     "output_type": "execute_result"
    }
   ],
   "source": [
    "import scipy.io as sio\n",
    "import numpy as np\n",
    "import matplotlib.pyplot as plt\n",
    "faces_content = sio.loadmat('face.mat')\n",
    "faces_content\n"
   ]
  },
  {
   "cell_type": "markdown",
   "metadata": {},
   "source": [
    "## Now we will split data into training and test using ratio of 80%-20%"
   ]
  },
  {
   "cell_type": "code",
   "execution_count": 19,
   "metadata": {},
   "outputs": [
    {
     "name": "stdout",
     "output_type": "stream",
     "text": [
      "(2576, 416)\n",
      "(2576, 104)\n",
      "[[221  99  58 ...  93 227 100]\n",
      " [225 100  58 ...  95 232 102]\n",
      " [226 100  57 ...  81 235 132]\n",
      " ...\n",
      " [ 79 114 167 ...  88  43  44]\n",
      " [ 78 118 171 ... 100  45  44]\n",
      " [ 80 120 171 ...  91  46  47]]\n",
      "[[38 40  6 28  7 41 32 24  8 22  1 44 36 30 32 51 48 17  1 25 46  1 42 47\n",
      "  23 33 18 33 20 15 13 46  6 20 42 44 52 42 28  6 50 22  4 39 30 21 20  6\n",
      "   8  3 22  1 46 43 40  1 15 27 14 22 13  3  7  3 48  2 18 41 48 20  7 52\n",
      "  26  9 38 32 19 51 49 17 51 40 21 23 34 51  6 20 25 31 36 17 11 34  7 37\n",
      "  19 46 47 32  9 44 35 42 10 52 49 46 30 10  2 35 20 15 16 16 50 51 17  9\n",
      "  25 29  7 33 32 15 11 42  1 44 23  2 15 28 52  4 12 49 11 28 33 18 27 12\n",
      "  17 45 13 41 12 38 37 35 14 37 26 30 41 42 26 24 14  4 51  5  7 20 29 48\n",
      "  31 22  8  4 31  3 39 52 49 22  3 36 31 16 36 37 14 22 11 42 37 40 22 41\n",
      "  19 22 45 21 24 26  7  3 22 31 23 13 12 17 45 42  5 28 46  8 33 34  2 29\n",
      "  44 26 23 17  9 12 51 12 15 16  2 36 34 11 38 14 24 27 41 32 33 43 25 35\n",
      "  41  2 33 30 27 23 41  1 37 13 29 29  8 19 44 51 28 30 50 19 48  9 31 26\n",
      "   2 37 40  9 27  4 52  6  5 28  6 21 43 47 45 13 23  7 40 38 14 19  3 40\n",
      "   5 47  1 39 21 37 46 10 39 35 31 30 18 37 26 10 50 10 48 17  7 31  5 35\n",
      "  38 40 21 28 23 15 15 34 19 36 14 48  5 27 33 21  9 43 13 52 47 50 49 39\n",
      "  10  9 44 27 12 36 30  6 43 33 26 38 48 45  5 11 39 50 28 48  4 39  6 43\n",
      "  47 13 30  3 19 38 46 17 16 25 21  4  4 13 19 51 45 29 43 40 49 15 29 50\n",
      "  18 52 10 34 45 44 34 20 25 47 12 41 27  8 34  3 17 34  9 18  9  4 49 20\n",
      "  32 40 48  8 28  1 36 20]]\n",
      "[[43 11 26 24 32  2 14 27 39 10 44 42 16 45 38  8 33 14 43 30  4 10 35 24\n",
      "  36 23  5 35 21  3  5 31 32 18 50 11 16 49 49 18 16 25 35 51 32 35 27 25\n",
      "  16 50 14 47 13 23 37  1  8  2 12 26 47 24 19 24 15 25 11 38  8 46 41 29\n",
      "   2 43 31 39 29  7 45 36 10 12 25 42 46 39 52 18 49 29 52 34 24 50 21 45\n",
      "  44 18  6 24 47  5 11 16]]\n",
      "[[38 40  6 28  7 41 32 24  8 22  1 44 36 30 32 51 48 17  1 25 46  1 42 47\n",
      "  23 33 18 33 20 15 13 46  6 20 42 44 52 42 28  6 50 22  4 39 30 21 20  6\n",
      "   8  3 22  1 46 43 40  1 15 27 14 22 13  3  7  3 48  2 18 41 48 20  7 52\n",
      "  26  9 38 32 19 51 49 17 51 40 21 23 34 51  6 20 25 31 36 17 11 34  7 37\n",
      "  19 46 47 32  9 44 35 42 10 52 49 46 30 10  2 35 20 15 16 16 50 51 17  9\n",
      "  25 29  7 33 32 15 11 42  1 44 23  2 15 28 52  4 12 49 11 28 33 18 27 12\n",
      "  17 45 13 41 12 38 37 35 14 37 26 30 41 42 26 24 14  4 51  5  7 20 29 48\n",
      "  31 22  8  4 31  3 39 52 49 22  3 36 31 16 36 37 14 22 11 42 37 40 22 41\n",
      "  19 22 45 21 24 26  7  3 22 31 23 13 12 17 45 42  5 28 46  8 33 34  2 29\n",
      "  44 26 23 17  9 12 51 12 15 16  2 36 34 11 38 14 24 27 41 32 33 43 25 35\n",
      "  41  2 33 30 27 23 41  1 37 13 29 29  8 19 44 51 28 30 50 19 48  9 31 26\n",
      "   2 37 40  9 27  4 52  6  5 28  6 21 43 47 45 13 23  7 40 38 14 19  3 40\n",
      "   5 47  1 39 21 37 46 10 39 35 31 30 18 37 26 10 50 10 48 17  7 31  5 35\n",
      "  38 40 21 28 23 15 15 34 19 36 14 48  5 27 33 21  9 43 13 52 47 50 49 39\n",
      "  10  9 44 27 12 36 30  6 43 33 26 38 48 45  5 11 39 50 28 48  4 39  6 43\n",
      "  47 13 30  3 19 38 46 17 16 25 21  4  4 13 19 51 45 29 43 40 49 15 29 50\n",
      "  18 52 10 34 45 44 34 20 25 47 12 41 27  8 34  3 17 34  9 18  9  4 49 20\n",
      "  32 40 48  8 28  1 36 20]]\n"
     ]
    },
    {
     "data": {
      "image/png": "[encoded data removed]",
      "text/plain": [
       "<matplotlib.figure.Figure at 0x1a08ad2978>"
      ]
     },
     "metadata": {},
     "output_type": "display_data"
    }
   ],
   "source": [
    "from sklearn.utils import shuffle\n",
    "from sklearn.model_selection import train_test_split\n",
    "import collections \n",
    "from itertools import groupby\n",
    "\n",
    "face_data = faces_content['X']\n",
    "face_id = faces_content['l']\n",
    "\n",
    "X_train, X_test = train_test_split(face_data.T, test_size = 0.2, random_state = 0)\n",
    "Y_train, Y_test = train_test_split(face_id.T, test_size = 0.2, random_state = 0)\n",
    "\n",
    "face_train = X_train.T\n",
    "face_train_id = Y_train.T\n",
    "face_test = X_test.T\n",
    "face_test_id = Y_test.T\n",
    "\n",
    "print(face_train.shape)\n",
    "print(face_test.shape)\n",
    "print(face_train)\n",
    "print(face_train_id)\n",
    "print(face_test_id)\n",
    "\n",
    "face_5 = np.reshape(face_train[:,50],(46,56))\n",
    "plt.imshow(face_5.T, cmap = 'gist_gray')\n",
    "\n",
    "#face_n = np.reshape(face_data[:,379],(46,56))\n",
    "#plt.imshow(face_n.T, cmap = 'gist_gray')\n",
    "\n",
    "#idx_trainid=np.argsort(np.abs(face_train_id)) #sort the eigenavalues in descending order\n",
    "#face_train_id_sort = face_train_id[idx_trainid]\n",
    "print(face_train_id)\n",
    "\n",
    "#print([len(list(group)) for key, group in groupby(face_train_id)])\n",
    "\n",
    "\n",
    "    "
   ]
  },
  {
   "cell_type": "markdown",
   "metadata": {
    "collapsed": true
   },
   "source": [
    "### As can be seen, the training data of pixels corresponds to the training data of IDs. Next up, we will perform PCA, ie find the eigenvectors and eigenvalues. We don't need to normalise and centralise the data."
   ]
  },
  {
   "cell_type": "code",
   "execution_count": 20,
   "metadata": {},
   "outputs": [
    {
     "name": "stdout",
     "output_type": "stream",
     "text": [
      "(2576,)\n",
      "(2576,)\n"
     ]
    },
    {
     "data": {
      "image/png": "[encoded data removed]",
      "text/plain": [
       "<matplotlib.figure.Figure at 0x180774c438>"
      ]
     },
     "metadata": {},
     "output_type": "display_data"
    }
   ],
   "source": [
    "average_face=np.average(face_train.T, axis = 0)\n",
    "print(average_face.shape)\n",
    "face_aver = np.reshape(average_face,(46,56))\n",
    "plt.imshow(face_aver.T, cmap = 'gist_gray')\n",
    "\n",
    "average_face_test = np.average(face_test.T, axis = 0)\n",
    "print(average_face_test.shape)\n",
    "#face_aver_test = np.reshape(average_face_test,(46,56))\n",
    "#plt.imshow(face_aver_test.T, cmap = 'gist_gray')"
   ]
  },
  {
   "cell_type": "markdown",
   "metadata": {},
   "source": [
    "### Average looks alright"
   ]
  },
  {
   "cell_type": "code",
   "execution_count": 21,
   "metadata": {},
   "outputs": [
    {
     "name": "stdout",
     "output_type": "stream",
     "text": [
      "[[ 97.05288462 -24.94711538 -65.94711538 ... -30.94711538 103.05288462\n",
      "  -23.94711538]\n",
      " [101.25480769 -23.74519231 -65.74519231 ... -28.74519231 108.25480769\n",
      "  -21.74519231]\n",
      " [105.19471154 -20.80528846 -63.80528846 ... -39.80528846 114.19471154\n",
      "   11.19471154]\n",
      " ...\n",
      " [ -7.82932692  27.17067308  80.17067308 ...   1.17067308 -43.82932692\n",
      "  -42.82932692]\n",
      " [ -6.69471154  33.30528846  86.30528846 ...  15.30528846 -39.69471154\n",
      "  -40.69471154]\n",
      " [ -3.04086538  36.95913462  87.95913462 ...   7.95913462 -37.04086538\n",
      "  -36.04086538]]\n",
      "suka\n",
      "[[ 97.05288462 -24.94711538 -65.94711538 ... -30.94711538 103.05288462\n",
      "  -23.94711538]\n",
      " [101.25480769 -23.74519231 -65.74519231 ... -28.74519231 108.25480769\n",
      "  -21.74519231]\n",
      " [105.19471154 -20.80528846 -63.80528846 ... -39.80528846 114.19471154\n",
      "   11.19471154]\n",
      " ...\n",
      " [ -7.82932692  27.17067308  80.17067308 ...   1.17067308 -43.82932692\n",
      "  -42.82932692]\n",
      " [ -6.69471154  33.30528846  86.30528846 ...  15.30528846 -39.69471154\n",
      "  -40.69471154]\n",
      " [ -3.04086538  36.95913462  87.95913462 ...   7.95913462 -37.04086538\n",
      "  -36.04086538]]\n",
      "(2576, 416)\n"
     ]
    }
   ],
   "source": [
    "norm_face_t = face_train.T - average_face.T\n",
    "norm_face = norm_face_t.T\n",
    "print(norm_face)\n",
    "print('suka')\n",
    "print(norm_face)\n",
    "print(norm_face.shape)"
   ]
  },
  {
   "cell_type": "markdown",
   "metadata": {},
   "source": [
    "### covariance matrix S"
   ]
  },
  {
   "cell_type": "code",
   "execution_count": 22,
   "metadata": {},
   "outputs": [
    {
     "name": "stdout",
     "output_type": "stream",
     "text": [
      "[[2717.76643399 2574.59950536 2344.8671066  ... -539.14123752\n",
      "  -585.75412583 -572.52908885]\n",
      " [2574.59950536 2794.33891919 2634.29894369 ... -533.05550804\n",
      "  -576.92153985 -569.14824103]\n",
      " [2344.8671066  2634.29894369 2752.85872203 ... -530.12457817\n",
      "  -569.28540472 -551.53050458]\n",
      " ...\n",
      " [-539.14123752 -533.05550804 -530.12457817 ... 2877.43000532\n",
      "  2743.60654933 2622.85312847]\n",
      " [-585.75412583 -576.92153985 -569.28540472 ... 2743.60654933\n",
      "  2963.05343357 2858.15430265]\n",
      " [-572.52908885 -569.14824103 -551.53050458 ... 2622.85312847\n",
      "  2858.15430265 3003.77958002]]\n",
      "(2576, 2576)\n"
     ]
    }
   ],
   "source": [
    "N=416\n",
    "\n",
    "S = np.dot(norm_face,norm_face.T)/N\n",
    "print(S)\n",
    "print(S.shape)"
   ]
  },
  {
   "cell_type": "markdown",
   "metadata": {},
   "source": [
    "### find eigvals and eigvecs of S\n"
   ]
  },
  {
   "cell_type": "code",
   "execution_count": 23,
   "metadata": {},
   "outputs": [
    {
     "name": "stdout",
     "output_type": "stream",
     "text": [
      "[ 9.56846588e+05+0.j  5.31930209e+05+0.j  4.55028542e+05+0.j ...\n",
      " -8.03938822e-14+0.j  1.43613511e-13+0.j  9.47626104e-14+0.j]\n",
      "suka\n",
      "[[-1.14878149e-02+0.j  1.78896422e-02+0.j -1.52988695e-02+0.j ...\n",
      "   7.25045416e-04+0.j -1.13614457e-03+0.j  8.00404069e-04+0.j]\n",
      " [-1.24027394e-02+0.j  1.75147272e-02+0.j -1.62413323e-02+0.j ...\n",
      "   1.38671296e-04+0.j -4.41190631e-04+0.j  3.40457594e-04+0.j]\n",
      " [-1.30041096e-02+0.j  1.65703203e-02+0.j -1.86062571e-02+0.j ...\n",
      "   9.07569072e-05+0.j -2.05312051e-04+0.j  1.71830159e-04+0.j]\n",
      " ...\n",
      " [ 2.85477901e-03+0.j -4.96944794e-02+0.j -1.62049717e-03+0.j ...\n",
      "   2.69652490e-03+0.j  4.67455385e-03+0.j -8.82099720e-03+0.j]\n",
      " [ 2.64786517e-03+0.j -4.86687095e-02+0.j -1.53852128e-03+0.j ...\n",
      "  -2.79952215e-02+0.j -1.87884519e-02+0.j  1.85797064e-02+0.j]\n",
      " [ 2.25930783e-03+0.j -4.97091470e-02+0.j -6.67263909e-05+0.j ...\n",
      "   2.71343890e-02+0.j  9.38745015e-04+0.j  2.64035748e-03+0.j]]\n",
      "(2576,)\n",
      "(2576, 2576)\n"
     ]
    },
    {
     "name": "stderr",
     "output_type": "stream",
     "text": [
      "/Users/adilzhannussipzhan/anaconda3/lib/python3.6/site-packages/ipykernel_launcher.py:9: ComplexWarning: Casting complex values to real discards the imaginary part\n",
      "  if __name__ == '__main__':\n"
     ]
    }
   ],
   "source": [
    "eigvals, eigvecs = np.linalg.eig(S)\n",
    "\n",
    "print(eigvals)\n",
    "print('suka')\n",
    "print(eigvecs)\n",
    "print(eigvals.shape)\n",
    "print(eigvecs.shape)\n",
    "\n",
    "eigvecs_float = eigvecs.astype('float64')"
   ]
  },
  {
   "cell_type": "code",
   "execution_count": 24,
   "metadata": {},
   "outputs": [
    {
     "name": "stderr",
     "output_type": "stream",
     "text": [
      "/Users/adilzhannussipzhan/anaconda3/lib/python3.6/site-packages/numpy/core/numeric.py:492: ComplexWarning: Casting complex values to real discards the imaginary part\n",
      "  return array(a, dtype, copy=False, order=order)\n"
     ]
    },
    {
     "data": {
      "text/plain": [
       "[<matplotlib.lines.Line2D at 0x1a202feba8>]"
      ]
     },
     "execution_count": 24,
     "metadata": {},
     "output_type": "execute_result"
    },
    {
     "data": {
      "image/png": "[encoded data removed]",
      "text/plain": [
       "<matplotlib.figure.Figure at 0x1a0e570550>"
      ]
     },
     "metadata": {},
     "output_type": "display_data"
    }
   ],
   "source": [
    "x=np.arange(0, 2576, 1)\n",
    "\n",
    "\n",
    "plt.axis([0,276,0,1000000])\n",
    "plt.plot(eigvals)"
   ]
  },
  {
   "cell_type": "markdown",
   "metadata": {},
   "source": [
    "### calculating M"
   ]
  },
  {
   "cell_type": "code",
   "execution_count": 25,
   "metadata": {},
   "outputs": [
    {
     "name": "stdout",
     "output_type": "stream",
     "text": [
      "[ 9.56846588e+05+0.j  5.31930209e+05+0.j  4.55028542e+05+0.j ...\n",
      "  1.43613511e-13+0.j  9.47626104e-14+0.j -8.03938822e-14+0.j]\n",
      "[[-1.14878149e-02+0.j  1.78896422e-02+0.j -1.52988695e-02+0.j ...\n",
      "   7.25045416e-04+0.j -1.13614457e-03+0.j  8.00404069e-04+0.j]\n",
      " [-1.24027394e-02+0.j  1.75147272e-02+0.j -1.62413323e-02+0.j ...\n",
      "   1.38671296e-04+0.j -4.41190631e-04+0.j  3.40457594e-04+0.j]\n",
      " [-1.30041096e-02+0.j  1.65703203e-02+0.j -1.86062571e-02+0.j ...\n",
      "   9.07569072e-05+0.j -2.05312051e-04+0.j  1.71830159e-04+0.j]\n",
      " ...\n",
      " [ 2.64786517e-03+0.j -4.86687095e-02+0.j -1.53852128e-03+0.j ...\n",
      "  -2.79952215e-02+0.j -1.87884519e-02+0.j  1.85797064e-02+0.j]\n",
      " [ 2.25930783e-03+0.j -4.97091470e-02+0.j -6.67263909e-05+0.j ...\n",
      "   2.71343890e-02+0.j  9.38745015e-04+0.j  2.64035748e-03+0.j]\n",
      " [ 2.85477901e-03+0.j -4.96944794e-02+0.j -1.62049717e-03+0.j ...\n",
      "   2.69652490e-03+0.j  4.67455385e-03+0.j -8.82099720e-03+0.j]]\n",
      "(4453595.684160045+0j)\n",
      "(0.7056450621729968+0j)\n",
      "(0.8012852161774592+0j)\n",
      "(0.900596652973705+0j)\n",
      "(0.9500941016674986+0j)\n",
      "(0.9900354968035794+0j)\n"
     ]
    }
   ],
   "source": [
    "idx=np.argsort(np.abs(eigvals))[::-1] #sort the eigenavalues in descending order\n",
    "eigvals_sort = eigvals[idx]\n",
    "print(eigvals_sort)\n",
    "eigvecs_sort = eigvecs[idx]\n",
    "print(eigvecs_sort)\n",
    "\n",
    "\n",
    "\n",
    "b = sum(eigvals)\n",
    "print(b)\n",
    "\n",
    "b_14 = sum(eigvals[0:13]) #13 eigenvalues give 70.56% reconstruction accuracy\n",
    "print(b_14/b)\n",
    "\n",
    "b_27 = sum(eigvals[0:26]) #13 eigenvalues give 80.12% reconstruction accuracy\n",
    "print(b_27/b)\n",
    "\n",
    "b_66 = sum(eigvals[0:65]) #13 eigenvalues give 90.06% reconstruction accuracy\n",
    "print(b_66/b)\n",
    "\n",
    "b_123 = sum(eigvals[0:122]) #13 eigenvalues give 95.01% reconstruction accuracy\n",
    "print(b_123/b)\n",
    "\n",
    "b_270 = sum(eigvals[0:269]) #13 eigenvalues give 99.00% reconstruction accuracy\n",
    "print(b_270/b)\n",
    "\n"
   ]
  },
  {
   "cell_type": "markdown",
   "metadata": {},
   "source": [
    "#### low-dimensional computation of eigenspace"
   ]
  },
  {
   "cell_type": "markdown",
   "metadata": {},
   "source": [
    "##### covariance S for low-dimensional"
   ]
  },
  {
   "cell_type": "code",
   "execution_count": 26,
   "metadata": {},
   "outputs": [
    {
     "name": "stdout",
     "output_type": "stream",
     "text": [
      "[[11120.31315522 -2214.71980521  1658.43828234 ...  3244.83321809\n",
      "   2407.66392607 -2700.20243511]\n",
      " [-2214.71980521  8490.92992667  -794.74371655 ... -2851.31993465\n",
      "    514.4675041  -1111.58876092]\n",
      " [ 1658.43828234  -794.74371655 12801.05139024 ...  7184.66988368\n",
      "  -2507.10277373 -2554.08932722]\n",
      " ...\n",
      " [ 3244.83321809 -2851.31993465  7184.66988368 ... 10984.01433865\n",
      "  -1217.92658799 -3357.46842993]\n",
      " [ 2407.66392607   514.4675041  -2507.10277373 ... -1217.92658799\n",
      "   8587.78633153   583.93198958]\n",
      " [-2700.20243511 -1111.58876092 -2554.08932722 ... -3357.46842993\n",
      "    583.93198958 10609.20985918]]\n",
      "(416, 416)\n"
     ]
    }
   ],
   "source": [
    "N=416\n",
    "\n",
    "S_l = np.dot(norm_face.T, norm_face)/N\n",
    "print(S_l)\n",
    "print(S_l.shape)"
   ]
  },
  {
   "cell_type": "markdown",
   "metadata": {},
   "source": [
    "#### find eigvals and eigvecs of low-dimensional "
   ]
  },
  {
   "cell_type": "code",
   "execution_count": 27,
   "metadata": {},
   "outputs": [
    {
     "name": "stdout",
     "output_type": "stream",
     "text": [
      "[9.56846588e+05 5.31930209e+05 4.55028542e+05 2.47519052e+05\n",
      " 2.17529060e+05 1.50795820e+05 1.25404454e+05 1.08171761e+05\n",
      " 9.18498578e+04 8.05238976e+04 6.36102099e+04 5.77240021e+04\n",
      " 5.57243495e+04 5.19129505e+04 4.47718605e+04 4.31749014e+04\n",
      " 3.64876109e+04 3.50021286e+04 3.40560838e+04 3.05874009e+04\n",
      " 2.88847080e+04 2.61001995e+04 2.56341239e+04 2.44990669e+04\n",
      " 2.35450175e+04 2.12865247e+04 2.06115479e+04 1.93673065e+04\n",
      " 1.89236049e+04 1.86146507e+04 1.79129756e+04 1.67184004e+04\n",
      " 1.58131487e+04 1.55308035e+04 1.49946296e+04 1.35850897e+04\n",
      " 1.34292370e+04 1.31343746e+04 1.26001094e+04 1.26542655e+04\n",
      " 1.21000313e+04 1.18295913e+04 1.09578825e+04 1.06277944e+04\n",
      " 1.04290716e+04 1.00995160e+04 9.96023898e+03 9.65659389e+03\n",
      " 9.49928860e+03 9.32976629e+03 8.96974821e+03 8.83025841e+03\n",
      " 8.56746244e+03 8.34148517e+03 8.07180128e+03 7.89363256e+03\n",
      " 7.70072242e+03 7.68016086e+03 7.36615272e+03 7.29063341e+03\n",
      " 6.98979097e+03 6.75036454e+03 6.63617135e+03 6.54093958e+03\n",
      " 6.28374332e+03 6.21721304e+03 6.00962617e+03 5.94352109e+03\n",
      " 5.86072545e+03 5.73856397e+03 5.50379817e+03 5.47492383e+03\n",
      " 5.37097583e+03 5.11320385e+03 5.21101427e+03 2.94689289e-12\n",
      " 4.94271145e+03 4.92319406e+03 4.83865468e+03 4.81534619e+03\n",
      " 4.68885155e+03 4.60258919e+03 4.48860866e+03 4.33368446e+03\n",
      " 4.29234649e+03 4.23525549e+03 4.18917122e+03 4.12321766e+03\n",
      " 4.04448642e+03 3.93567895e+03 3.89550372e+03 3.86123846e+03\n",
      " 3.77835850e+03 3.72892104e+03 3.66832575e+03 3.57804380e+03\n",
      " 3.54411412e+03 3.47756887e+03 3.44112406e+03 3.35696787e+03\n",
      " 3.32456700e+03 3.27105777e+03 3.19574625e+03 3.15564461e+03\n",
      " 3.13233987e+03 3.07945468e+03 3.02862456e+03 2.87706236e+03\n",
      " 2.98645213e+03 2.94060393e+03 2.81861839e+03 2.78891139e+03\n",
      " 2.75465012e+03 2.73012253e+03 2.70916253e+03 2.63036900e+03\n",
      " 2.66934110e+03 2.66666564e+03 2.55080787e+03 2.53275912e+03\n",
      " 2.49686602e+03 2.44962207e+03 2.42464665e+03 2.40234021e+03\n",
      " 2.39523802e+03 2.36317713e+03 2.33252287e+03 2.32361817e+03\n",
      " 2.08930300e+03 2.10655837e+03 2.14717942e+03 2.27619453e+03\n",
      " 2.18142214e+03 2.21283572e+03 2.22287468e+03 2.23395474e+03\n",
      " 2.04711570e+03 2.02069310e+03 2.01157024e+03 1.97827377e+03\n",
      " 1.94462944e+03 1.94066922e+03 1.90904079e+03 1.88516771e+03\n",
      " 1.86055972e+03 1.83079932e+03 1.81775555e+03 1.68091098e+03\n",
      " 1.79166255e+03 1.69863308e+03 1.77668665e+03 1.72061547e+03\n",
      " 1.72968311e+03 1.75518033e+03 1.75238891e+03 1.65320048e+03\n",
      " 1.64784146e+03 1.62994922e+03 1.60676938e+03 1.58129582e+03\n",
      " 1.55975635e+03 1.54918583e+03 1.52830294e+03 1.50437827e+03\n",
      " 1.48953751e+03 1.47269882e+03 1.41859155e+03 1.44876681e+03\n",
      " 1.43905705e+03 1.42972779e+03 1.41194513e+03 1.38235415e+03\n",
      " 1.36622270e+03 1.35839357e+03 1.22828840e+03 1.23098656e+03\n",
      " 1.24461034e+03 1.25787477e+03 1.27647760e+03 1.33090294e+03\n",
      " 1.29109484e+03 1.30280793e+03 1.31067421e+03 1.31396798e+03\n",
      " 1.21831014e+03 1.21055690e+03 1.19387483e+03 1.17094549e+03\n",
      " 1.08596050e+03 1.15725520e+03 1.15479935e+03 1.14009271e+03\n",
      " 1.09768142e+03 1.12446899e+03 1.10915175e+03 1.11910568e+03\n",
      " 1.11354352e+03 1.08317262e+03 1.07014065e+03 1.05613530e+03\n",
      " 1.03925198e+03 1.01481306e+03 1.01969760e+03 1.02191282e+03\n",
      " 9.78370974e+02 9.89697991e+02 9.82836039e+02 9.85524704e+02\n",
      " 9.65565709e+02 9.56548633e+02 9.54449787e+02 9.40516918e+02\n",
      " 9.35259706e+02 9.13530256e+02 9.11583830e+02 8.65871518e+02\n",
      " 8.73629977e+02 8.78504344e+02 8.83411680e+02 8.86590370e+02\n",
      " 9.02636925e+02 8.97129366e+02 8.66799797e+01 9.54094175e+01\n",
      " 1.01179066e+02 1.07854829e+02 8.51742693e+02 8.40782567e+02\n",
      " 8.31082159e+02 8.22552047e+02 8.16213768e+02 8.13072961e+02\n",
      " 8.01273310e+02 7.94322508e+02 7.77756157e+02 7.70551894e+02\n",
      " 7.85306507e+02 1.11512449e+02 1.19540957e+02 1.24019039e+02\n",
      " 1.26725148e+02 1.27402781e+02 1.32033209e+02 1.36123717e+02\n",
      " 1.33313516e+02 7.70031905e+02 7.62151559e+02 7.60409982e+02\n",
      " 7.56545452e+02 7.53550058e+02 7.40077163e+02 7.36122405e+02\n",
      " 7.25478352e+02 7.17817520e+02 7.02513752e+02 7.06894357e+02\n",
      " 7.10585624e+02 1.38223076e+02 1.39364909e+02 1.43628640e+02\n",
      " 1.45920226e+02 1.52787297e+02 1.48263154e+02 1.49386833e+02\n",
      " 1.55680175e+02 1.57082255e+02 6.93603471e+02 6.88886887e+02\n",
      " 6.86800380e+02 6.80526191e+02 6.70402634e+02 6.63006598e+02\n",
      " 6.60159036e+02 6.49727904e+02 6.44865039e+02 6.38596845e+02\n",
      " 6.27331074e+02 6.29230529e+02 6.20351178e+02 6.15318757e+02\n",
      " 6.11020955e+02 5.64238196e+02 6.00760644e+02 5.98973912e+02\n",
      " 5.74962124e+02 5.81697132e+02 5.86375784e+02 5.90503314e+02\n",
      " 1.58429367e+02 1.63583504e+02 1.65750918e+02 1.69004858e+02\n",
      " 1.70193196e+02 1.73200832e+02 1.89753833e+02 1.88716889e+02\n",
      " 1.85821457e+02 1.76235330e+02 1.80360189e+02 1.78020820e+02\n",
      " 1.79278205e+02 5.37673607e+02 5.60421589e+02 5.67736673e+02\n",
      " 1.94577874e+02 1.95483787e+02 1.95169588e+02 5.45797140e+02\n",
      " 5.51886829e+02 5.54483565e+02 5.59157754e+02 2.04562709e+02\n",
      " 2.00677953e+02 1.98837358e+02 5.31983389e+02 5.19269666e+02\n",
      " 5.24875231e+02 5.27075256e+02 2.11181877e+02 2.09306514e+02\n",
      " 2.06249845e+02 1.99804742e+02 2.14214561e+02 2.17848412e+02\n",
      " 2.22835136e+02 2.24518068e+02 4.82017348e+02 4.86192350e+02\n",
      " 4.90189685e+02 4.94062201e+02 4.99946598e+02 5.06727937e+02\n",
      " 5.12931772e+02 5.13831715e+02 4.96875741e+02 2.19691529e+02\n",
      " 2.29145593e+02 2.34835730e+02 2.33434661e+02 2.32108292e+02\n",
      " 2.41252724e+02 2.43472344e+02 4.78571000e+02 4.38615717e+02\n",
      " 4.42130299e+02 4.73296985e+02 4.67719425e+02 4.64795208e+02\n",
      " 4.57656302e+02 4.61360854e+02 4.49575371e+02 4.51989065e+02\n",
      " 4.75044303e+02 2.29545517e+02 2.49613003e+02 2.53025149e+02\n",
      " 2.55820592e+02 2.58948156e+02 2.63744471e+02 4.32208644e+02\n",
      " 4.29161349e+02 3.84235197e+02 3.91169612e+02 3.95449928e+02\n",
      " 4.00675783e+02 4.11992902e+02 4.14447637e+02 4.17327867e+02\n",
      " 4.21769517e+02 2.69082374e+02 2.77453064e+02 2.80666704e+02\n",
      " 2.84282903e+02 2.65558698e+02 2.96330575e+02 2.98542119e+02\n",
      " 3.45016288e+02 3.47684867e+02 3.87801107e+02 3.68141241e+02\n",
      " 3.74177366e+02 4.07177372e+02 3.79405366e+02 3.77971742e+02\n",
      " 4.47534917e+02 2.46658396e+02 2.46844641e+02 2.64630055e+02\n",
      " 2.74425284e+02 2.88090582e+02 2.86787302e+02 4.19517815e+02\n",
      " 3.05466941e+02 3.16794565e+02 4.03446087e+02 3.29750304e+02\n",
      " 3.36464488e+02 3.39248197e+02 3.62975108e+02 3.61130883e+02\n",
      " 3.64846792e+02 2.67795104e+02 3.56612352e+02 3.52040054e+02\n",
      " 3.54453773e+02 2.91168835e+02 2.93423757e+02 3.33584369e+02\n",
      " 3.40588868e+02 3.22637334e+02 3.09847410e+02 3.11019094e+02\n",
      " 3.12436018e+02 3.06462316e+02 3.26104562e+02 3.24282595e+02]\n",
      "suka_l\n",
      "[[ 0.03682305  0.02209753 -0.05244275 ... -0.00240229 -0.00270005\n",
      "  -0.00121191]\n",
      " [-0.05198864  0.01003228  0.06231998 ...  0.06714776 -0.01869994\n",
      "   0.01371267]\n",
      " [ 0.06096035  0.08496223  0.0645004  ...  0.03935992  0.09956939\n",
      "   0.10355784]\n",
      " ...\n",
      " [ 0.06257424  0.07929688 -0.00934272 ... -0.03679704  0.04816534\n",
      "   0.02107324]\n",
      " [-0.01480523 -0.04346086 -0.02549111 ... -0.04429055  0.07959246\n",
      "  -0.0325707 ]\n",
      " [ 0.01368386 -0.08389392  0.03492622 ... -0.00866656 -0.05945409\n",
      "  -0.00782143]]\n",
      "(416,)\n",
      "(416, 416)\n"
     ]
    }
   ],
   "source": [
    "eigvals_l, eigvecs_l = np.linalg.eig(S_l)\n",
    "\n",
    "print(eigvals_l)\n",
    "print('suka_l')\n",
    "print(eigvecs_l)\n",
    "print(eigvals_l.shape)\n",
    "print(eigvecs_l.shape)\n"
   ]
  },
  {
   "cell_type": "code",
   "execution_count": 28,
   "metadata": {},
   "outputs": [
    {
     "name": "stdout",
     "output_type": "stream",
     "text": [
      "(5.587935447692871e-09+0j)\n"
     ]
    }
   ],
   "source": [
    "#checking that first 416 eigvals are the same\n",
    "su = sum(eigvals[0:415])\n",
    "su_l = sum(eigvals_l)\n",
    "\n",
    "print(su-su_l)\n",
    "\n"
   ]
  },
  {
   "cell_type": "markdown",
   "metadata": {},
   "source": [
    "# Reconstructed face "
   ]
  },
  {
   "cell_type": "code",
   "execution_count": 78,
   "metadata": {},
   "outputs": [
    {
     "name": "stdout",
     "output_type": "stream",
     "text": [
      "(2576, 2576)\n",
      "(2576, 100)\n",
      "(2576, 416)\n",
      "(100,)\n"
     ]
    }
   ],
   "source": [
    "M=100\n",
    "\n",
    "PCA = np.array([eigvecs[:,i] for i in range (M)])\n",
    "print(eigvecs_sort.shape)\n",
    "print(PCA.T.shape)\n",
    "\n",
    "#A = norm_face[:,55].T*(eigvecs[:,1]+eigvecs[:,2]+eigvecs[:,3]+eigvecs[:,4]+eigvecs[:,5]+eigvecs[:,6]+eigvecs[:,7]+eigvecs[:,8]+eigvecs[:,9]+eigvecs[:,10]+eigvecs[:,11]+eigvecs[:,12]+eigvecs[:,13]+eigvecs[:,14]+eigvecs[:,15]+eigvecs[:,16]+eigvecs[:,17]+eigvecs[:,18]+eigvecs[:,19])\n",
    "\n",
    "print(norm_face.shape)\n",
    "\n",
    "A = np.dot(norm_face[:,1].T, PCA.T)\n",
    "print(A.shape)\n"
   ]
  },
  {
   "cell_type": "code",
   "execution_count": 79,
   "metadata": {},
   "outputs": [
    {
     "name": "stdout",
     "output_type": "stream",
     "text": [
      "[109.04841948 106.74693888 101.51041468 ...  99.25766002  92.67459186\n",
      "  97.10274888]\n",
      "(2576,)\n"
     ]
    },
    {
     "data": {
      "text/plain": [
       "<matplotlib.image.AxesImage at 0x1a244ae5f8>"
      ]
     },
     "execution_count": 79,
     "metadata": {},
     "output_type": "execute_result"
    },
    {
     "data": {
      "image/png": "[encoded data removed]",
      "text/plain": [
       "<matplotlib.figure.Figure at 0x1a2033c2e8>"
      ]
     },
     "metadata": {},
     "output_type": "display_data"
    }
   ],
   "source": [
    "A_reconstruct = average_face + np.dot(A, PCA)\n",
    "\n",
    "print(A_reconstruct.real)\n",
    "print(A_reconstruct.shape)\n",
    "\n",
    "A_reconstruct = A_reconstruct.real\n",
    "\n",
    "\n",
    "face_recon = A_reconstruct.reshape(46,56)\n",
    "plt.imshow(face_recon.T, cmap = 'gist_gray')"
   ]
  },
  {
   "cell_type": "markdown",
   "metadata": {},
   "source": [
    "## Nearest Neighbor Classification"
   ]
  },
  {
   "cell_type": "code",
   "execution_count": 80,
   "metadata": {},
   "outputs": [
    {
     "name": "stdout",
     "output_type": "stream",
     "text": [
      "(2576, 104)\n"
     ]
    }
   ],
   "source": [
    "face_test_n_transform = face_test.T - average_face_test.T\n",
    "face_test_n = face_test_n_transform.T\n",
    "print(face_test_n.shape)\n",
    "\n"
   ]
  },
  {
   "cell_type": "code",
   "execution_count": 218,
   "metadata": {},
   "outputs": [
    {
     "name": "stdout",
     "output_type": "stream",
     "text": [
      "(1, 416)\n",
      "(416, 100)\n",
      "(100,)\n",
      "(416,)\n",
      "[3157.04908885 2471.54741848 3802.71055268 2097.43157505 3601.44664224\n",
      " 2729.91977843 2396.63027743 3252.00330975 2732.77712632 3865.12930757\n",
      " 3845.28292447 3073.01915258 2176.57731397 2807.78693097 2350.59453926\n",
      " 2877.4098162  2077.14544548 2603.24183055 3286.02997976 2591.48293931\n",
      " 2465.1532714  3389.99060473 2723.84759795 3084.85644676 2642.09928688\n",
      " 3251.18497414 3581.32609259 2399.36868459 3184.90804411 3112.20620945\n",
      " 3217.32886114 2552.18392377 3390.41394652 2554.59501304 2697.21887805\n",
      " 3247.78342265 2367.437294   2819.43543306 2265.27189016 2609.9966422\n",
      " 2117.13796214 3882.68906736 3461.01098019 3806.20823898 3213.8385797\n",
      " 2174.52017107 3186.6219599  2528.13829381 2038.28580907 3239.17430003\n",
      " 2962.58650565 1684.66536558 3293.76178384 2471.26854248 1902.08744882\n",
      " 2378.77358923 3555.98387837 2387.62753659 2324.93667969 3715.7763272\n",
      " 3372.38793076 2257.88791345 3625.66166911 3009.91709857 1627.88178827\n",
      " 2159.09949441 2769.38942562 2038.45086667 2856.30349294 2562.50225655\n",
      " 3038.57227035 2719.4945096  2422.47781709 2702.92489055 2985.79396441\n",
      " 2508.03236508 3873.02937716 3156.99746386 2347.56589094 3124.76377463\n",
      " 2707.85988191 2771.47486834 3583.7919298  2660.45778644 2735.20409663\n",
      " 2556.06460481 3417.90348348 3394.79343628 3086.50213866 1757.68670796\n",
      " 2963.07052734 2596.26066374 3359.51303064 2440.08945287 2584.20829489\n",
      " 2082.72820374 3908.56758781 1919.03204476 2997.68090202 2335.61151292\n",
      " 2440.23055299 2135.57148161 1807.12601604 2670.20141792 1989.9252009\n",
      " 3099.14287348 2600.14182648 2147.41981244 2299.30294456 2945.49829165\n",
      " 2209.10683355 2817.69768294 3127.17423018 2816.24575552 3279.22707543\n",
      " 2777.97440861 2045.91285926 3101.45737994 3264.0608023  2897.8661788\n",
      " 3021.93214803 1685.62525798 3682.83085531 2433.39485221 2507.86255541\n",
      " 3501.08017169 2941.42833876 2511.85840873 2025.49759208 2301.03976689\n",
      " 2753.64822875 3142.31939533 3015.47547962 3016.3137721  2935.23547689\n",
      " 3545.49800212 2381.61415938 3486.89406971 2217.7907049  2499.24035959\n",
      " 2759.75171953 3541.71766668 2725.38171194 2678.92744965 3662.355597\n",
      " 3039.94501032 3755.68807128 2122.07718219 3106.43919347 2888.4579931\n",
      " 2366.88581536 2722.04409133 3042.6962022  2286.15481138 2839.09391663\n",
      " 2499.44651421 2776.26533618 2695.02455633 2463.30658057 3428.93952232\n",
      " 2288.31947921 3201.7349991  3125.88388185 2026.49528841 3733.41907125\n",
      " 3298.44365228 1997.75513036 2135.75521077 2537.84782362 3849.10882157\n",
      " 2247.11591355 3071.34614975 2336.06341133 3140.06401556 3496.70712638\n",
      " 2407.40992094 2881.52348683 3496.61905749 2784.93450687 1562.33867499\n",
      " 2194.01343984 3193.76788371 3001.47468771 2404.11505853 3246.55053554\n",
      " 3128.04707813 2690.86173122 3251.9098404  2057.03800765 2117.60623785\n",
      " 3063.36640476 2835.38198651 3665.75461853 2900.62089739 3402.13383265\n",
      " 2778.91938138 3393.75357307 3644.86697449 3567.77699188 2374.98121072\n",
      " 3863.3948508  2471.9813455  2398.46597105 3217.13274307 2631.45590229\n",
      " 3200.65042383 2826.36306993 4012.11589703 2525.40672775 2373.32372805\n",
      " 2356.10147888 3076.65777199 2686.52335289 2713.99548214 3082.50389418\n",
      " 2032.1926111  2503.8849881  2215.21726659 2503.55126012 2967.71571655\n",
      " 2697.45360369 2950.45410888 2640.28928671 2887.87121501 3113.29274875\n",
      " 2481.51128414 2684.13500028 2076.67134481 3202.92160945 2768.57720175\n",
      " 3067.30623876 2787.25736603 3715.09572152 2495.63024994 2759.42408746\n",
      " 2533.11788313 2674.86287244 3151.98951433 3188.31320595 2626.28079929\n",
      " 3501.74165806 2828.48480058 2848.69601029 2668.11750802 2459.51038275\n",
      " 2961.13657741 2938.78274392 2151.8881773  2555.50808967 3085.77354233\n",
      " 2588.75429112 2138.33657923 3056.82992416 3371.00714217 2735.09715665\n",
      " 2722.67881931 1975.41005633 2077.24977834 3857.86984    3194.86404092\n",
      " 3003.28589379 2557.74052207 2007.25978354 3654.34673096 3148.56528991\n",
      " 2789.72777328 2259.81057143 2672.00133162 2222.30111355 3836.03700884\n",
      " 3231.13511645 3215.95924465 2643.1102774  2297.69522717 3170.48405901\n",
      " 3436.46594469 3129.76035356 2743.49326581 2862.78120266 2463.72715615\n",
      " 2590.63146455 3286.59970807 2472.7358192  2701.52135328 3658.90711892\n",
      " 3223.71832072 2167.6608407  2523.05319391 1924.7953085  2756.36363211\n",
      " 2558.76265368 2245.03310688 3192.88180556 2329.00433833 2289.32020231\n",
      " 3071.96250594 3652.75647782 2804.08266577 2250.34485637 2981.53094834\n",
      " 3472.65798244 2402.54152078 3494.59682803 2069.74931837 3540.3614671\n",
      " 1951.4295938  2564.86338914 3415.11245817 3528.24128995 1825.39467829\n",
      " 2541.04318113 2703.27453825 2833.22110561 2651.63428421 3738.41209564\n",
      " 3669.82707706 2623.53111513 2700.24419993 2927.69123772 1762.65189139\n",
      " 3158.22942547 3648.1686223  3166.33175314 3123.19278772 2656.14961448\n",
      " 2677.02077235 2349.86327399 2981.83360057 3192.59875596 2658.37997672\n",
      " 4293.58504038 2422.43679611 2488.22081848 3821.29928624 1790.19480015\n",
      " 2067.29807229 2995.08663211 2591.9324694  2461.46252761 2679.91881575\n",
      " 3097.62541836 2504.34363089 3115.60213993 3152.09195152 2686.46004737\n",
      " 2708.65892136 3502.22957479 3475.78830626 2116.47021999 3399.1760664\n",
      " 2567.33371276 2131.80859032 3797.05410292 2144.04946595 2415.45679068\n",
      " 1568.00819833 4173.86816972 3894.29987049 2854.78183348 2788.8942886\n",
      " 2019.38834527 3056.66501725 2456.46613407 3119.57735176 2692.65859331\n",
      " 2468.68903024 2452.62481798 3128.63708508 2833.75528819 2170.0982102\n",
      " 2880.13681528 3617.78695379 3666.36231443 3163.80142732 3571.60093525\n",
      " 3141.81776681 2465.47981444 2015.08438573 2098.37396877 2618.88242743\n",
      " 2343.57225649 3252.49591426 2540.25995181 2385.35051657 3917.87674883\n",
      " 2520.50748715 3061.72064863 2547.52579462 2188.25523784 2660.82836271\n",
      " 2255.0354765  2783.96840902 2768.99378668 2185.50788327 2221.81958199\n",
      " 1724.26842549 2423.18467587 2581.83012278 2626.30643105 2548.92292489\n",
      " 2843.753704   3015.59529147 2498.32960292 2553.23670804 2777.45478734\n",
      " 4107.53046266 2992.53453185 2982.7167382  1784.52310229 2261.35146825\n",
      " 2466.60919881 2678.86771088 2521.70042003 3405.03228079 2384.48014775\n",
      " 2952.25285459]\n",
      "1562.3386749875965\n",
      "179\n"
     ]
    }
   ],
   "source": [
    "from sklearn.neighbors import KNeighborsClassifier\n",
    "\n",
    "N = 416\n",
    "P = 24\n",
    "\n",
    "PCA = np.array([eigvecs[:,i] for i in range (M)])\n",
    "W = np.dot(face_test_n[:,P].T, PCA.T)\n",
    "\n",
    "#W_i = np.array([norm_face[:,i] for i in range (N)])\n",
    "\n",
    "Wn = np.dot(norm_face.T, PCA.T) \n",
    "\n",
    "             \n",
    "print(face_train_id.shape) \n",
    "print(Wn.shape)\n",
    "print(W.shape)\n",
    "\n",
    "# Wn= Wn.reshape(1,-1)\n",
    "\n",
    "#classifier = KNeighborsClassifier(n_neighbors = 1)\n",
    "#classifier.fit(Wn.T, face_train_id.T.ravel())\n",
    "#face_predict = classifier.predict(face_test)\n",
    "\n",
    "\n",
    "Norm = np.array([np.linalg.norm(W - Wn[i,:]) for i in range (N)]) \n",
    "print(Norm.shape)\n",
    "print(Norm)\n",
    "min_norm = min(Norm)\n",
    "print(min_norm)\n",
    "index_min = Norm.argmin()\n",
    "print(index_min)\n",
    "\n"
   ]
  },
  {
   "cell_type": "code",
   "execution_count": 219,
   "metadata": {},
   "outputs": [
    {
     "name": "stdout",
     "output_type": "stream",
     "text": [
      "(1, 416)\n",
      "36\n"
     ]
    }
   ],
   "source": [
    "print(face_train_id.shape)\n",
    "face_train_id_arg = face_train_id[0, index_min]\n",
    "print(face_train_id_arg)\n"
   ]
  },
  {
   "cell_type": "code",
   "execution_count": 233,
   "metadata": {},
   "outputs": [
    {
     "data": {
      "text/plain": [
       "<matplotlib.image.AxesImage at 0x1a1e5c1b70>"
      ]
     },
     "execution_count": 233,
     "metadata": {},
     "output_type": "execute_result"
    },
    {
     "data": {
      "image/png": "[encoded data removed]",
      "text/plain": [
       "<matplotlib.figure.Figure at 0x1a1e4ed6d8>"
      ]
     },
     "metadata": {},
     "output_type": "display_data"
    }
   ],
   "source": [
    "test_image_nn = face_test[:,P].reshape(46,56)\n",
    "plt.imshow(test_image_nn.T, cmap = 'gist_gray')"
   ]
  },
  {
   "cell_type": "code",
   "execution_count": 221,
   "metadata": {},
   "outputs": [
    {
     "data": {
      "text/plain": [
       "<matplotlib.image.AxesImage at 0x1a1e43ebe0>"
      ]
     },
     "execution_count": 221,
     "metadata": {},
     "output_type": "execute_result"
    },
    {
     "data": {
      "image/png": "[encoded data removed]",
      "text/plain": [
       "<matplotlib.figure.Figure at 0x1a1e393748>"
      ]
     },
     "metadata": {},
     "output_type": "display_data"
    }
   ],
   "source": [
    "train_image_nn = face_train[:,index_min].reshape(46,56)\n",
    "plt.imshow(train_image_nn.T, cmap = 'gist_gray')"
   ]
  },
  {
   "cell_type": "code",
   "execution_count": 236,
   "metadata": {},
   "outputs": [
    {
     "ename": "TypeError",
     "evalue": "Singleton array 36 cannot be considered a valid collection.",
     "output_type": "error",
     "traceback": [
      "\u001b[0;31m---------------------------------------------------------------------------\u001b[0m",
      "\u001b[0;31mTypeError\u001b[0m                                 Traceback (most recent call last)",
      "\u001b[0;32m<ipython-input-236-e89bf5bc1076>\u001b[0m in \u001b[0;36m<module>\u001b[0;34m()\u001b[0m\n\u001b[1;32m      1\u001b[0m \u001b[0;32mfrom\u001b[0m \u001b[0msklearn\u001b[0m\u001b[0;34m.\u001b[0m\u001b[0mmetrics\u001b[0m \u001b[0;32mimport\u001b[0m \u001b[0maccuracy_score\u001b[0m\u001b[0;34m\u001b[0m\u001b[0m\n\u001b[1;32m      2\u001b[0m \u001b[0;34m\u001b[0m\u001b[0m\n\u001b[0;32m----> 3\u001b[0;31m \u001b[0maccuracy_score\u001b[0m\u001b[0;34m(\u001b[0m\u001b[0mface_train_id_arg\u001b[0m\u001b[0;34m,\u001b[0m \u001b[0mface_test_id\u001b[0m\u001b[0;34m[\u001b[0m\u001b[0;34m:\u001b[0m\u001b[0;34m,\u001b[0m\u001b[0;36m0\u001b[0m\u001b[0;34m]\u001b[0m\u001b[0;34m)\u001b[0m\u001b[0;34m\u001b[0m\u001b[0m\n\u001b[0m",
      "\u001b[0;32m~/anaconda3/lib/python3.6/site-packages/sklearn/metrics/classification.py\u001b[0m in \u001b[0;36maccuracy_score\u001b[0;34m(y_true, y_pred, normalize, sample_weight)\u001b[0m\n\u001b[1;32m    174\u001b[0m \u001b[0;34m\u001b[0m\u001b[0m\n\u001b[1;32m    175\u001b[0m     \u001b[0;31m# Compute accuracy for each possible representation\u001b[0m\u001b[0;34m\u001b[0m\u001b[0;34m\u001b[0m\u001b[0m\n\u001b[0;32m--> 176\u001b[0;31m     \u001b[0my_type\u001b[0m\u001b[0;34m,\u001b[0m \u001b[0my_true\u001b[0m\u001b[0;34m,\u001b[0m \u001b[0my_pred\u001b[0m \u001b[0;34m=\u001b[0m \u001b[0m_check_targets\u001b[0m\u001b[0;34m(\u001b[0m\u001b[0my_true\u001b[0m\u001b[0;34m,\u001b[0m \u001b[0my_pred\u001b[0m\u001b[0;34m)\u001b[0m\u001b[0;34m\u001b[0m\u001b[0m\n\u001b[0m\u001b[1;32m    177\u001b[0m     \u001b[0;32mif\u001b[0m \u001b[0my_type\u001b[0m\u001b[0;34m.\u001b[0m\u001b[0mstartswith\u001b[0m\u001b[0;34m(\u001b[0m\u001b[0;34m'multilabel'\u001b[0m\u001b[0;34m)\u001b[0m\u001b[0;34m:\u001b[0m\u001b[0;34m\u001b[0m\u001b[0m\n\u001b[1;32m    178\u001b[0m         \u001b[0mdiffering_labels\u001b[0m \u001b[0;34m=\u001b[0m \u001b[0mcount_nonzero\u001b[0m\u001b[0;34m(\u001b[0m\u001b[0my_true\u001b[0m \u001b[0;34m-\u001b[0m \u001b[0my_pred\u001b[0m\u001b[0;34m,\u001b[0m \u001b[0maxis\u001b[0m\u001b[0;34m=\u001b[0m\u001b[0;36m1\u001b[0m\u001b[0;34m)\u001b[0m\u001b[0;34m\u001b[0m\u001b[0m\n",
      "\u001b[0;32m~/anaconda3/lib/python3.6/site-packages/sklearn/metrics/classification.py\u001b[0m in \u001b[0;36m_check_targets\u001b[0;34m(y_true, y_pred)\u001b[0m\n\u001b[1;32m     69\u001b[0m     \u001b[0my_pred\u001b[0m \u001b[0;34m:\u001b[0m \u001b[0marray\u001b[0m \u001b[0;32mor\u001b[0m \u001b[0mindicator\u001b[0m \u001b[0mmatrix\u001b[0m\u001b[0;34m\u001b[0m\u001b[0m\n\u001b[1;32m     70\u001b[0m     \"\"\"\n\u001b[0;32m---> 71\u001b[0;31m     \u001b[0mcheck_consistent_length\u001b[0m\u001b[0;34m(\u001b[0m\u001b[0my_true\u001b[0m\u001b[0;34m,\u001b[0m \u001b[0my_pred\u001b[0m\u001b[0;34m)\u001b[0m\u001b[0;34m\u001b[0m\u001b[0m\n\u001b[0m\u001b[1;32m     72\u001b[0m     \u001b[0mtype_true\u001b[0m \u001b[0;34m=\u001b[0m \u001b[0mtype_of_target\u001b[0m\u001b[0;34m(\u001b[0m\u001b[0my_true\u001b[0m\u001b[0;34m)\u001b[0m\u001b[0;34m\u001b[0m\u001b[0m\n\u001b[1;32m     73\u001b[0m     \u001b[0mtype_pred\u001b[0m \u001b[0;34m=\u001b[0m \u001b[0mtype_of_target\u001b[0m\u001b[0;34m(\u001b[0m\u001b[0my_pred\u001b[0m\u001b[0;34m)\u001b[0m\u001b[0;34m\u001b[0m\u001b[0m\n",
      "\u001b[0;32m~/anaconda3/lib/python3.6/site-packages/sklearn/utils/validation.py\u001b[0m in \u001b[0;36mcheck_consistent_length\u001b[0;34m(*arrays)\u001b[0m\n\u001b[1;32m    198\u001b[0m     \"\"\"\n\u001b[1;32m    199\u001b[0m \u001b[0;34m\u001b[0m\u001b[0m\n\u001b[0;32m--> 200\u001b[0;31m     \u001b[0mlengths\u001b[0m \u001b[0;34m=\u001b[0m \u001b[0;34m[\u001b[0m\u001b[0m_num_samples\u001b[0m\u001b[0;34m(\u001b[0m\u001b[0mX\u001b[0m\u001b[0;34m)\u001b[0m \u001b[0;32mfor\u001b[0m \u001b[0mX\u001b[0m \u001b[0;32min\u001b[0m \u001b[0marrays\u001b[0m \u001b[0;32mif\u001b[0m \u001b[0mX\u001b[0m \u001b[0;32mis\u001b[0m \u001b[0;32mnot\u001b[0m \u001b[0;32mNone\u001b[0m\u001b[0;34m]\u001b[0m\u001b[0;34m\u001b[0m\u001b[0m\n\u001b[0m\u001b[1;32m    201\u001b[0m     \u001b[0muniques\u001b[0m \u001b[0;34m=\u001b[0m \u001b[0mnp\u001b[0m\u001b[0;34m.\u001b[0m\u001b[0munique\u001b[0m\u001b[0;34m(\u001b[0m\u001b[0mlengths\u001b[0m\u001b[0;34m)\u001b[0m\u001b[0;34m\u001b[0m\u001b[0m\n\u001b[1;32m    202\u001b[0m     \u001b[0;32mif\u001b[0m \u001b[0mlen\u001b[0m\u001b[0;34m(\u001b[0m\u001b[0muniques\u001b[0m\u001b[0;34m)\u001b[0m \u001b[0;34m>\u001b[0m \u001b[0;36m1\u001b[0m\u001b[0;34m:\u001b[0m\u001b[0;34m\u001b[0m\u001b[0m\n",
      "\u001b[0;32m~/anaconda3/lib/python3.6/site-packages/sklearn/utils/validation.py\u001b[0m in \u001b[0;36m<listcomp>\u001b[0;34m(.0)\u001b[0m\n\u001b[1;32m    198\u001b[0m     \"\"\"\n\u001b[1;32m    199\u001b[0m \u001b[0;34m\u001b[0m\u001b[0m\n\u001b[0;32m--> 200\u001b[0;31m     \u001b[0mlengths\u001b[0m \u001b[0;34m=\u001b[0m \u001b[0;34m[\u001b[0m\u001b[0m_num_samples\u001b[0m\u001b[0;34m(\u001b[0m\u001b[0mX\u001b[0m\u001b[0;34m)\u001b[0m \u001b[0;32mfor\u001b[0m \u001b[0mX\u001b[0m \u001b[0;32min\u001b[0m \u001b[0marrays\u001b[0m \u001b[0;32mif\u001b[0m \u001b[0mX\u001b[0m \u001b[0;32mis\u001b[0m \u001b[0;32mnot\u001b[0m \u001b[0;32mNone\u001b[0m\u001b[0;34m]\u001b[0m\u001b[0;34m\u001b[0m\u001b[0m\n\u001b[0m\u001b[1;32m    201\u001b[0m     \u001b[0muniques\u001b[0m \u001b[0;34m=\u001b[0m \u001b[0mnp\u001b[0m\u001b[0;34m.\u001b[0m\u001b[0munique\u001b[0m\u001b[0;34m(\u001b[0m\u001b[0mlengths\u001b[0m\u001b[0;34m)\u001b[0m\u001b[0;34m\u001b[0m\u001b[0m\n\u001b[1;32m    202\u001b[0m     \u001b[0;32mif\u001b[0m \u001b[0mlen\u001b[0m\u001b[0;34m(\u001b[0m\u001b[0muniques\u001b[0m\u001b[0;34m)\u001b[0m \u001b[0;34m>\u001b[0m \u001b[0;36m1\u001b[0m\u001b[0;34m:\u001b[0m\u001b[0;34m\u001b[0m\u001b[0m\n",
      "\u001b[0;32m~/anaconda3/lib/python3.6/site-packages/sklearn/utils/validation.py\u001b[0m in \u001b[0;36m_num_samples\u001b[0;34m(x)\u001b[0m\n\u001b[1;32m    117\u001b[0m         \u001b[0;32mif\u001b[0m \u001b[0mlen\u001b[0m\u001b[0;34m(\u001b[0m\u001b[0mx\u001b[0m\u001b[0;34m.\u001b[0m\u001b[0mshape\u001b[0m\u001b[0;34m)\u001b[0m \u001b[0;34m==\u001b[0m \u001b[0;36m0\u001b[0m\u001b[0;34m:\u001b[0m\u001b[0;34m\u001b[0m\u001b[0m\n\u001b[1;32m    118\u001b[0m             raise TypeError(\"Singleton array %r cannot be considered\"\n\u001b[0;32m--> 119\u001b[0;31m                             \" a valid collection.\" % x)\n\u001b[0m\u001b[1;32m    120\u001b[0m         \u001b[0;32mreturn\u001b[0m \u001b[0mx\u001b[0m\u001b[0;34m.\u001b[0m\u001b[0mshape\u001b[0m\u001b[0;34m[\u001b[0m\u001b[0;36m0\u001b[0m\u001b[0;34m]\u001b[0m\u001b[0;34m\u001b[0m\u001b[0m\n\u001b[1;32m    121\u001b[0m     \u001b[0;32melse\u001b[0m\u001b[0;34m:\u001b[0m\u001b[0;34m\u001b[0m\u001b[0m\n",
      "\u001b[0;31mTypeError\u001b[0m: Singleton array 36 cannot be considered a valid collection."
     ]
    }
   ],
   "source": [
    "from sklearn.metrics import accuracy_score\n",
    "\n",
    "accuracy_score(face_train_id_arg, face_test_id[:,0])\n"
   ]
  }
 ],
 "metadata": {
  "kernelspec": {
   "display_name": "Python 3",
   "language": "python",
   "name": "python3"
  },
  "language_info": {
   "codemirror_mode": {
    "name": "ipython",
    "version": 3
   },
   "file_extension": ".py",
   "mimetype": "text/x-python",
   "name": "python",
   "nbconvert_exporter": "python",
   "pygments_lexer": "ipython3",
   "version": "3.6.4"
  }
 },
 "nbformat": 4,
 "nbformat_minor": 2
}
