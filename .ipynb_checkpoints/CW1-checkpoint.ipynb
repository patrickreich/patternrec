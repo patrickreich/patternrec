{
 "cells": [
  {
   "cell_type": "code",
   "execution_count": 44,
   "metadata": {},
   "outputs": [],
   "source": [
    "import scipy.io as sc\n",
    "faces = sc.loadmat('face.mat')"
   ]
  },
  {
   "cell_type": "code",
   "execution_count": 45,
   "metadata": {},
   "outputs": [
    {
     "data": {
      "text/plain": [
       "{'__header__': b'MATLAB 5.0 MAT-file, Platform: PCWIN, Created on: Sat May 27 02:07:24 2006',\n",
       " '__version__': '1.0',\n",
       " '__globals__': [],\n",
       " 'X': array([[106, 130, 191, ...,  70, 183,  77],\n",
       "        [103, 129, 185, ...,  62, 250,  72],\n",
       "        [103, 130, 174, ...,  83, 163,  68],\n",
       "        ...,\n",
       "        [ 37,  40,  22, ...,  87, 102,  93],\n",
       "        [ 36,  36,  19, ...,  89,  95, 103],\n",
       "        [ 41,  35,  17, ...,  94, 106, 110]], dtype=uint8),\n",
       " 'l': array([[ 1,  1,  1,  1,  1,  1,  1,  1,  1,  1,  2,  2,  2,  2,  2,  2,\n",
       "          2,  2,  2,  2,  3,  3,  3,  3,  3,  3,  3,  3,  3,  3,  4,  4,\n",
       "          4,  4,  4,  4,  4,  4,  4,  4,  5,  5,  5,  5,  5,  5,  5,  5,\n",
       "          5,  5,  6,  6,  6,  6,  6,  6,  6,  6,  6,  6,  7,  7,  7,  7,\n",
       "          7,  7,  7,  7,  7,  7,  8,  8,  8,  8,  8,  8,  8,  8,  8,  8,\n",
       "          9,  9,  9,  9,  9,  9,  9,  9,  9,  9, 10, 10, 10, 10, 10, 10,\n",
       "         10, 10, 10, 10, 11, 11, 11, 11, 11, 11, 11, 11, 11, 11, 12, 12,\n",
       "         12, 12, 12, 12, 12, 12, 12, 12, 13, 13, 13, 13, 13, 13, 13, 13,\n",
       "         13, 13, 14, 14, 14, 14, 14, 14, 14, 14, 14, 14, 15, 15, 15, 15,\n",
       "         15, 15, 15, 15, 15, 15, 16, 16, 16, 16, 16, 16, 16, 16, 16, 16,\n",
       "         17, 17, 17, 17, 17, 17, 17, 17, 17, 17, 18, 18, 18, 18, 18, 18,\n",
       "         18, 18, 18, 18, 19, 19, 19, 19, 19, 19, 19, 19, 19, 19, 20, 20,\n",
       "         20, 20, 20, 20, 20, 20, 20, 20, 21, 21, 21, 21, 21, 21, 21, 21,\n",
       "         21, 21, 22, 22, 22, 22, 22, 22, 22, 22, 22, 22, 23, 23, 23, 23,\n",
       "         23, 23, 23, 23, 23, 23, 24, 24, 24, 24, 24, 24, 24, 24, 24, 24,\n",
       "         25, 25, 25, 25, 25, 25, 25, 25, 25, 25, 26, 26, 26, 26, 26, 26,\n",
       "         26, 26, 26, 26, 27, 27, 27, 27, 27, 27, 27, 27, 27, 27, 28, 28,\n",
       "         28, 28, 28, 28, 28, 28, 28, 28, 29, 29, 29, 29, 29, 29, 29, 29,\n",
       "         29, 29, 30, 30, 30, 30, 30, 30, 30, 30, 30, 30, 31, 31, 31, 31,\n",
       "         31, 31, 31, 31, 31, 31, 32, 32, 32, 32, 32, 32, 32, 32, 32, 32,\n",
       "         33, 33, 33, 33, 33, 33, 33, 33, 33, 33, 34, 34, 34, 34, 34, 34,\n",
       "         34, 34, 34, 34, 35, 35, 35, 35, 35, 35, 35, 35, 35, 35, 36, 36,\n",
       "         36, 36, 36, 36, 36, 36, 36, 36, 37, 37, 37, 37, 37, 37, 37, 37,\n",
       "         37, 37, 38, 38, 38, 38, 38, 38, 38, 38, 38, 38, 39, 39, 39, 39,\n",
       "         39, 39, 39, 39, 39, 39, 40, 40, 40, 40, 40, 40, 40, 40, 40, 40,\n",
       "         41, 41, 41, 41, 41, 41, 41, 41, 41, 41, 42, 42, 42, 42, 42, 42,\n",
       "         42, 42, 42, 42, 43, 43, 43, 43, 43, 43, 43, 43, 43, 43, 44, 44,\n",
       "         44, 44, 44, 44, 44, 44, 44, 44, 45, 45, 45, 45, 45, 45, 45, 45,\n",
       "         45, 45, 46, 46, 46, 46, 46, 46, 46, 46, 46, 46, 47, 47, 47, 47,\n",
       "         47, 47, 47, 47, 47, 47, 48, 48, 48, 48, 48, 48, 48, 48, 48, 48,\n",
       "         49, 49, 49, 49, 49, 49, 49, 49, 49, 49, 50, 50, 50, 50, 50, 50,\n",
       "         50, 50, 50, 50, 51, 51, 51, 51, 51, 51, 51, 51, 51, 51, 52, 52,\n",
       "         52, 52, 52, 52, 52, 52, 52, 52]], dtype=uint8)}"
      ]
     },
     "execution_count": 45,
     "metadata": {},
     "output_type": "execute_result"
    }
   ],
   "source": [
    "import scipy.io as sio\n",
    "import numpy as np\n",
    "import matplotlib.pyplot as plt\n",
    "faces_content = sio.loadmat('face.mat')\n",
    "faces_content\n"
   ]
  },
  {
   "cell_type": "markdown",
   "metadata": {},
   "source": [
    "## Now we will split data into training and test using ratio of 80%-20%"
   ]
  },
  {
   "cell_type": "code",
   "execution_count": 241,
   "metadata": {},
   "outputs": [
    {
     "name": "stdout",
     "output_type": "stream",
     "text": [
      "(2576, 416)\n",
      "(2576, 104)\n",
      "[[221  99  58 ...  93 227 100]\n",
      " [225 100  58 ...  95 232 102]\n",
      " [226 100  57 ...  81 235 132]\n",
      " ...\n",
      " [ 79 114 167 ...  88  43  44]\n",
      " [ 78 118 171 ... 100  45  44]\n",
      " [ 80 120 171 ...  91  46  47]]\n",
      "[[38 40  6 28  7 41 32 24  8 22  1 44 36 30 32 51 48 17  1 25 46  1 42 47\n",
      "  23 33 18 33 20 15 13 46  6 20 42 44 52 42 28  6 50 22  4 39 30 21 20  6\n",
      "   8  3 22  1 46 43 40  1 15 27 14 22 13  3  7  3 48  2 18 41 48 20  7 52\n",
      "  26  9 38 32 19 51 49 17 51 40 21 23 34 51  6 20 25 31 36 17 11 34  7 37\n",
      "  19 46 47 32  9 44 35 42 10 52 49 46 30 10  2 35 20 15 16 16 50 51 17  9\n",
      "  25 29  7 33 32 15 11 42  1 44 23  2 15 28 52  4 12 49 11 28 33 18 27 12\n",
      "  17 45 13 41 12 38 37 35 14 37 26 30 41 42 26 24 14  4 51  5  7 20 29 48\n",
      "  31 22  8  4 31  3 39 52 49 22  3 36 31 16 36 37 14 22 11 42 37 40 22 41\n",
      "  19 22 45 21 24 26  7  3 22 31 23 13 12 17 45 42  5 28 46  8 33 34  2 29\n",
      "  44 26 23 17  9 12 51 12 15 16  2 36 34 11 38 14 24 27 41 32 33 43 25 35\n",
      "  41  2 33 30 27 23 41  1 37 13 29 29  8 19 44 51 28 30 50 19 48  9 31 26\n",
      "   2 37 40  9 27  4 52  6  5 28  6 21 43 47 45 13 23  7 40 38 14 19  3 40\n",
      "   5 47  1 39 21 37 46 10 39 35 31 30 18 37 26 10 50 10 48 17  7 31  5 35\n",
      "  38 40 21 28 23 15 15 34 19 36 14 48  5 27 33 21  9 43 13 52 47 50 49 39\n",
      "  10  9 44 27 12 36 30  6 43 33 26 38 48 45  5 11 39 50 28 48  4 39  6 43\n",
      "  47 13 30  3 19 38 46 17 16 25 21  4  4 13 19 51 45 29 43 40 49 15 29 50\n",
      "  18 52 10 34 45 44 34 20 25 47 12 41 27  8 34  3 17 34  9 18  9  4 49 20\n",
      "  32 40 48  8 28  1 36 20]]\n",
      "[[43 11 26 24 32  2 14 27 39 10 44 42 16 45 38  8 33 14 43 30  4 10 35 24\n",
      "  36 23  5 35 21  3  5 31 32 18 50 11 16 49 49 18 16 25 35 51 32 35 27 25\n",
      "  16 50 14 47 13 23 37  1  8  2 12 26 47 24 19 24 15 25 11 38  8 46 41 29\n",
      "   2 43 31 39 29  7 45 36 10 12 25 42 46 39 52 18 49 29 52 34 24 50 21 45\n",
      "  44 18  6 24 47  5 11 16]]\n",
      "[[38 40  6 28  7 41 32 24  8 22  1 44 36 30 32 51 48 17  1 25 46  1 42 47\n",
      "  23 33 18 33 20 15 13 46  6 20 42 44 52 42 28  6 50 22  4 39 30 21 20  6\n",
      "   8  3 22  1 46 43 40  1 15 27 14 22 13  3  7  3 48  2 18 41 48 20  7 52\n",
      "  26  9 38 32 19 51 49 17 51 40 21 23 34 51  6 20 25 31 36 17 11 34  7 37\n",
      "  19 46 47 32  9 44 35 42 10 52 49 46 30 10  2 35 20 15 16 16 50 51 17  9\n",
      "  25 29  7 33 32 15 11 42  1 44 23  2 15 28 52  4 12 49 11 28 33 18 27 12\n",
      "  17 45 13 41 12 38 37 35 14 37 26 30 41 42 26 24 14  4 51  5  7 20 29 48\n",
      "  31 22  8  4 31  3 39 52 49 22  3 36 31 16 36 37 14 22 11 42 37 40 22 41\n",
      "  19 22 45 21 24 26  7  3 22 31 23 13 12 17 45 42  5 28 46  8 33 34  2 29\n",
      "  44 26 23 17  9 12 51 12 15 16  2 36 34 11 38 14 24 27 41 32 33 43 25 35\n",
      "  41  2 33 30 27 23 41  1 37 13 29 29  8 19 44 51 28 30 50 19 48  9 31 26\n",
      "   2 37 40  9 27  4 52  6  5 28  6 21 43 47 45 13 23  7 40 38 14 19  3 40\n",
      "   5 47  1 39 21 37 46 10 39 35 31 30 18 37 26 10 50 10 48 17  7 31  5 35\n",
      "  38 40 21 28 23 15 15 34 19 36 14 48  5 27 33 21  9 43 13 52 47 50 49 39\n",
      "  10  9 44 27 12 36 30  6 43 33 26 38 48 45  5 11 39 50 28 48  4 39  6 43\n",
      "  47 13 30  3 19 38 46 17 16 25 21  4  4 13 19 51 45 29 43 40 49 15 29 50\n",
      "  18 52 10 34 45 44 34 20 25 47 12 41 27  8 34  3 17 34  9 18  9  4 49 20\n",
      "  32 40 48  8 28  1 36 20]]\n"
     ]
    },
    {
     "data": {
      "image/png": "[encoded data removed]",
      "text/plain": [
       "<Figure size 432x288 with 1 Axes>"
      ]
     },
     "metadata": {
      "needs_background": "light"
     },
     "output_type": "display_data"
    }
   ],
   "source": [
    "from sklearn.utils import shuffle\n",
    "from sklearn.model_selection import train_test_split\n",
    "import collections \n",
    "from itertools import groupby\n",
    "\n",
    "face_data = faces_content['X']\n",
    "face_id = faces_content['l']\n",
    "\n",
    "X_train, X_test = train_test_split(face_data.T, test_size = 0.2, random_state = 0)\n",
    "Y_train, Y_test = train_test_split(face_id.T, test_size = 0.2, random_state = 0)\n",
    "\n",
    "face_train = X_train.T\n",
    "face_train_id = Y_train.T\n",
    "face_test = X_test.T\n",
    "face_test_id = Y_test.T\n",
    "\n",
    "print(face_train.shape)\n",
    "print(face_test.shape)\n",
    "print(face_train)\n",
    "print(face_train_id)\n",
    "print(face_test_id)\n",
    "\n",
    "face_5 = np.reshape(face_train[:,50],(46,56))\n",
    "plt.imshow(face_5.T, cmap = 'gist_gray')\n",
    "\n",
    "#face_n = np.reshape(face_data[:,379],(46,56))\n",
    "#plt.imshow(face_n.T, cmap = 'gist_gray')\n",
    "\n",
    "#idx_trainid=np.argsort(np.abs(face_train_id)) #sort the eigenavalues in descending order\n",
    "#face_train_id_sort = face_train_id[idx_trainid]\n",
    "print(face_train_id)\n",
    "\n",
    "#print([len(list(group)) for key, group in groupby(face_train_id)])\n",
    "\n",
    "\n",
    "    "
   ]
  },
  {
   "cell_type": "markdown",
   "metadata": {
    "collapsed": true
   },
   "source": [
    "### As can be seen, the training data of pixels corresponds to the training data of IDs. Next up, we will perform PCA, ie find the eigenvectors and eigenvalues. We don't need to normalise and centralise the data."
   ]
  },
  {
   "cell_type": "code",
   "execution_count": 283,
   "metadata": {},
   "outputs": [
    {
     "name": "stdout",
     "output_type": "stream",
     "text": [
      "(2576,)\n",
      "(2576,)\n"
     ]
    },
    {
     "data": {
      "image/png": "[encoded data removed]",
      "text/plain": [
       "<Figure size 432x288 with 1 Axes>"
      ]
     },
     "metadata": {
      "needs_background": "light"
     },
     "output_type": "display_data"
    }
   ],
   "source": [
    "average_face=np.average(face_train.T, axis = 0)\n",
    "print(average_face.shape)\n",
    "face_aver = np.reshape(average_face,(46,56))\n",
    "plt.imshow(face_aver.T, cmap = 'gist_gray')\n",
    "\n",
    "average_face_test = np.average(face_test.T, axis = 0)\n",
    "print(average_face_test.shape)\n",
    "#face_aver_test = np.reshape(average_face_test,(46,56))\n",
    "#plt.imshow(face_aver_test.T, cmap = 'gist_gray')"
   ]
  },
  {
   "cell_type": "markdown",
   "metadata": {},
   "source": [
    "### Average looks alright"
   ]
  },
  {
   "cell_type": "code",
   "execution_count": 5,
   "metadata": {},
   "outputs": [
    {
     "name": "stdout",
     "output_type": "stream",
     "text": [
      "[[ 97.05288462 -24.94711538 -65.94711538 ... -30.94711538 103.05288462\n",
      "  -23.94711538]\n",
      " [101.25480769 -23.74519231 -65.74519231 ... -28.74519231 108.25480769\n",
      "  -21.74519231]\n",
      " [105.19471154 -20.80528846 -63.80528846 ... -39.80528846 114.19471154\n",
      "   11.19471154]\n",
      " ...\n",
      " [ -7.82932692  27.17067308  80.17067308 ...   1.17067308 -43.82932692\n",
      "  -42.82932692]\n",
      " [ -6.69471154  33.30528846  86.30528846 ...  15.30528846 -39.69471154\n",
      "  -40.69471154]\n",
      " [ -3.04086538  36.95913462  87.95913462 ...   7.95913462 -37.04086538\n",
      "  -36.04086538]]\n",
      "suka\n",
      "[[ 97.05288462 -24.94711538 -65.94711538 ... -30.94711538 103.05288462\n",
      "  -23.94711538]\n",
      " [101.25480769 -23.74519231 -65.74519231 ... -28.74519231 108.25480769\n",
      "  -21.74519231]\n",
      " [105.19471154 -20.80528846 -63.80528846 ... -39.80528846 114.19471154\n",
      "   11.19471154]\n",
      " ...\n",
      " [ -7.82932692  27.17067308  80.17067308 ...   1.17067308 -43.82932692\n",
      "  -42.82932692]\n",
      " [ -6.69471154  33.30528846  86.30528846 ...  15.30528846 -39.69471154\n",
      "  -40.69471154]\n",
      " [ -3.04086538  36.95913462  87.95913462 ...   7.95913462 -37.04086538\n",
      "  -36.04086538]]\n",
      "(2576, 416)\n"
     ]
    }
   ],
   "source": [
    "norm_face_t = face_train.T - average_face.T\n",
    "norm_face = norm_face_t.T\n",
    "print(norm_face)\n",
    "print('suka')\n",
    "print(norm_face)\n",
    "print(norm_face.shape)"
   ]
  },
  {
   "cell_type": "markdown",
   "metadata": {},
   "source": [
    "### covariance matrix S"
   ]
  },
  {
   "cell_type": "code",
   "execution_count": 6,
   "metadata": {},
   "outputs": [
    {
     "name": "stdout",
     "output_type": "stream",
     "text": [
      "[[2717.76643399 2574.59950536 2344.8671066  ... -539.14123752\n",
      "  -585.75412583 -572.52908885]\n",
      " [2574.59950536 2794.33891919 2634.29894369 ... -533.05550804\n",
      "  -576.92153985 -569.14824103]\n",
      " [2344.8671066  2634.29894369 2752.85872203 ... -530.12457817\n",
      "  -569.28540472 -551.53050458]\n",
      " ...\n",
      " [-539.14123752 -533.05550804 -530.12457817 ... 2877.43000532\n",
      "  2743.60654933 2622.85312847]\n",
      " [-585.75412583 -576.92153985 -569.28540472 ... 2743.60654933\n",
      "  2963.05343357 2858.15430265]\n",
      " [-572.52908885 -569.14824103 -551.53050458 ... 2622.85312847\n",
      "  2858.15430265 3003.77958002]]\n",
      "(2576, 2576)\n"
     ]
    }
   ],
   "source": [
    "N=416\n",
    "\n",
    "S = np.dot(norm_face,norm_face.T)/N\n",
    "print(S)\n",
    "print(S.shape)"
   ]
  },
  {
   "cell_type": "markdown",
   "metadata": {},
   "source": [
    "### find eigvals and eigvecs of S\n"
   ]
  },
  {
   "cell_type": "code",
   "execution_count": 7,
   "metadata": {},
   "outputs": [
    {
     "name": "stdout",
     "output_type": "stream",
     "text": [
      "[ 9.56846588e+05+0.0000000e+00j  5.31930209e+05+0.0000000e+00j\n",
      "  4.55028542e+05+0.0000000e+00j ...  2.33215619e-13+5.2746482e-14j\n",
      "  2.33215619e-13-5.2746482e-14j -7.96684020e-14+0.0000000e+00j]\n",
      "suka\n",
      "[[-1.14878149e-02+0.j          1.78896422e-02+0.j\n",
      "  -1.52988695e-02+0.j         ... -3.74288638e-05+0.00123131j\n",
      "  -3.74288638e-05-0.00123131j -4.79804257e-04+0.j        ]\n",
      " [-1.24027394e-02+0.j          1.75147272e-02+0.j\n",
      "  -1.62413323e-02+0.j         ... -1.90379107e-04+0.00040518j\n",
      "  -1.90379107e-04-0.00040518j -4.06430253e-04+0.j        ]\n",
      " [-1.30041096e-02+0.j          1.65703203e-02+0.j\n",
      "  -1.86062571e-02+0.j         ... -1.62617279e-04+0.00039535j\n",
      "  -1.62617279e-04-0.00039535j -4.34285555e-05+0.j        ]\n",
      " ...\n",
      " [ 2.85477901e-03+0.j         -4.96944794e-02+0.j\n",
      "  -1.62049717e-03+0.j         ... -9.37833049e-03+0.01602432j\n",
      "  -9.37833049e-03-0.01602432j -7.49886640e-03+0.j        ]\n",
      " [ 2.64786517e-03+0.j         -4.86687095e-02+0.j\n",
      "  -1.53852128e-03+0.j         ... -4.37742162e-03-0.00977295j\n",
      "  -4.37742162e-03+0.00977295j -5.74605506e-03+0.j        ]\n",
      " [ 2.25930783e-03+0.j         -4.97091470e-02+0.j\n",
      "  -6.67263909e-05+0.j         ... -2.51831932e-03-0.008388j\n",
      "  -2.51831932e-03+0.008388j    7.99009499e-03+0.j        ]]\n",
      "(2576,)\n",
      "(2576, 2576)\n"
     ]
    },
    {
     "name": "stderr",
     "output_type": "stream",
     "text": [
      "/Users/Freshbox/anaconda3/lib/python3.7/site-packages/ipykernel_launcher.py:9: ComplexWarning: Casting complex values to real discards the imaginary part\n",
      "  if __name__ == '__main__':\n"
     ]
    }
   ],
   "source": [
    "eigvals, eigvecs = np.linalg.eig(S)\n",
    "\n",
    "print(eigvals)\n",
    "print('suka')\n",
    "print(eigvecs)\n",
    "print(eigvals.shape)\n",
    "print(eigvecs.shape)\n",
    "\n",
    "eigvecs_float = eigvecs.astype('float64')"
   ]
  },
  {
   "cell_type": "code",
   "execution_count": 8,
   "metadata": {},
   "outputs": [
    {
     "name": "stderr",
     "output_type": "stream",
     "text": [
      "/Users/Freshbox/anaconda3/lib/python3.7/site-packages/numpy/core/numeric.py:501: ComplexWarning: Casting complex values to real discards the imaginary part\n",
      "  return array(a, dtype, copy=False, order=order)\n"
     ]
    },
    {
     "data": {
      "text/plain": [
       "[<matplotlib.lines.Line2D at 0x1a18b272e8>]"
      ]
     },
     "execution_count": 8,
     "metadata": {},
     "output_type": "execute_result"
    },
    {
     "data": {
      "image/png": "[encoded data removed]",
      "text/plain": [
       "<Figure size 432x288 with 1 Axes>"
      ]
     },
     "metadata": {
      "needs_background": "light"
     },
     "output_type": "display_data"
    }
   ],
   "source": [
    "x=np.arange(0, 2576, 1)\n",
    "\n",
    "\n",
    "plt.axis([0,276,0,1000000])\n",
    "plt.plot(eigvals)"
   ]
  },
  {
   "cell_type": "markdown",
   "metadata": {},
   "source": [
    "### calculating M"
   ]
  },
  {
   "cell_type": "code",
   "execution_count": 158,
   "metadata": {},
   "outputs": [
    {
     "name": "stdout",
     "output_type": "stream",
     "text": [
      "[ 9.56846588e+05+0.00000000e+00j  5.31930209e+05+0.00000000e+00j\n",
      "  4.55028542e+05+0.00000000e+00j ...  2.64761094e-14+1.12638798e-13j\n",
      "  2.64761094e-14-1.12638798e-13j -7.96684020e-14+0.00000000e+00j]\n",
      "[[-1.14878149e-02+0.j          1.78896422e-02+0.j\n",
      "  -1.52988695e-02+0.j         ... -3.74288638e-05+0.00123131j\n",
      "  -3.74288638e-05-0.00123131j -4.79804257e-04+0.j        ]\n",
      " [-1.24027394e-02+0.j          1.75147272e-02+0.j\n",
      "  -1.62413323e-02+0.j         ... -1.90379107e-04+0.00040518j\n",
      "  -1.90379107e-04-0.00040518j -4.06430253e-04+0.j        ]\n",
      " [-1.30041096e-02+0.j          1.65703203e-02+0.j\n",
      "  -1.86062571e-02+0.j         ... -1.62617279e-04+0.00039535j\n",
      "  -1.62617279e-04-0.00039535j -4.34285555e-05+0.j        ]\n",
      " ...\n",
      " [ 1.71548238e-03+0.j         -4.78414604e-02+0.j\n",
      "  -1.14228590e-04+0.j         ... -7.70919765e-03+0.02043041j\n",
      "  -7.70919765e-03-0.02043041j -3.04643776e-02+0.j        ]\n",
      " [ 2.78029560e-03+0.j         -4.90756773e-02+0.j\n",
      "  -8.74324780e-04+0.j         ...  2.61798322e-02+0.00222233j\n",
      "   2.61798322e-02-0.00222233j -3.79674337e-04+0.j        ]\n",
      " [ 2.25930783e-03+0.j         -4.97091470e-02+0.j\n",
      "  -6.67263909e-05+0.j         ... -2.51831932e-03-0.008388j\n",
      "  -2.51831932e-03+0.008388j    7.99009499e-03+0.j        ]]\n",
      "(4453595.684160045+0j)\n",
      "(0.7056450621729969+0j)\n",
      "(0.8012852161774592+0j)\n",
      "(0.9005966529737048+0j)\n",
      "(0.9500941016674986+0j)\n",
      "(0.9900387805431519+0j)\n"
     ]
    }
   ],
   "source": [
    "idx=np.argsort(np.abs(eigvals))[::-1] #sort the eigenavalues in descending order\n",
    "eigvals_sort = eigvals[idx]\n",
    "print(eigvals_sort)\n",
    "eigvecs_sort = eigvecs[idx]\n",
    "print(eigvecs_sort)\n",
    "\n",
    "\n",
    "\n",
    "b = sum(eigvals)\n",
    "print(b)\n",
    "\n",
    "b_14 = sum(eigvals[0:13]) #13 eigenvalues give 70.56% reconstruction accuracy\n",
    "print(b_14/b)\n",
    "\n",
    "b_27 = sum(eigvals[0:26]) #13 eigenvalues give 80.12% reconstruction accuracy\n",
    "print(b_27/b)\n",
    "\n",
    "b_66 = sum(eigvals[0:65]) #13 eigenvalues give 90.06% reconstruction accuracy\n",
    "print(b_66/b)\n",
    "\n",
    "b_123 = sum(eigvals[0:122]) #13 eigenvalues give 95.01% reconstruction accuracy\n",
    "print(b_123/b)\n",
    "\n",
    "b_270 = sum(eigvals[0:269]) #13 eigenvalues give 99.00% reconstruction accuracy\n",
    "print(b_270/b)\n",
    "\n"
   ]
  },
  {
   "cell_type": "markdown",
   "metadata": {},
   "source": [
    "#### low-dimensional computation of eigenspace"
   ]
  },
  {
   "cell_type": "markdown",
   "metadata": {},
   "source": [
    "##### covariance S for low-dimensional"
   ]
  },
  {
   "cell_type": "code",
   "execution_count": 10,
   "metadata": {},
   "outputs": [
    {
     "name": "stdout",
     "output_type": "stream",
     "text": [
      "[[11120.31315522 -2214.71980521  1658.43828234 ...  3244.83321809\n",
      "   2407.66392607 -2700.20243511]\n",
      " [-2214.71980521  8490.92992667  -794.74371655 ... -2851.31993465\n",
      "    514.4675041  -1111.58876092]\n",
      " [ 1658.43828234  -794.74371655 12801.05139024 ...  7184.66988368\n",
      "  -2507.10277373 -2554.08932722]\n",
      " ...\n",
      " [ 3244.83321809 -2851.31993465  7184.66988368 ... 10984.01433865\n",
      "  -1217.92658799 -3357.46842993]\n",
      " [ 2407.66392607   514.4675041  -2507.10277373 ... -1217.92658799\n",
      "   8587.78633153   583.93198958]\n",
      " [-2700.20243511 -1111.58876092 -2554.08932722 ... -3357.46842993\n",
      "    583.93198958 10609.20985918]]\n",
      "(416, 416)\n"
     ]
    }
   ],
   "source": [
    "N=416\n",
    "\n",
    "S_l = np.dot(norm_face.T, norm_face)/N\n",
    "print(S_l)\n",
    "print(S_l.shape)"
   ]
  },
  {
   "cell_type": "markdown",
   "metadata": {},
   "source": [
    "#### find eigvals and eigvecs of low-dimensional "
   ]
  },
  {
   "cell_type": "code",
   "execution_count": 11,
   "metadata": {},
   "outputs": [
    {
     "name": "stdout",
     "output_type": "stream",
     "text": [
      "[ 9.56846588e+05  5.31930209e+05  4.55028542e+05  2.47519052e+05\n",
      "  2.17529060e+05  1.50795820e+05  1.25404454e+05  1.08171761e+05\n",
      "  9.18498578e+04  8.05238976e+04  6.36102099e+04  5.77240021e+04\n",
      "  5.57243495e+04  5.19129505e+04  4.47718605e+04  4.31749014e+04\n",
      "  3.64876109e+04  3.50021286e+04  3.40560838e+04  3.05874009e+04\n",
      "  2.88847080e+04  2.61001995e+04  2.56341239e+04  2.44990669e+04\n",
      "  2.35450175e+04  2.12865247e+04  2.06115479e+04  1.93673065e+04\n",
      "  1.89236049e+04  1.86146507e+04  1.79129756e+04  1.67184004e+04\n",
      "  1.58131487e+04  1.55308035e+04  1.49946296e+04  1.35850897e+04\n",
      "  1.34292370e+04  1.31343746e+04  1.26001094e+04  1.26542655e+04\n",
      "  1.21000313e+04  1.18295913e+04  1.09578825e+04  1.06277944e+04\n",
      "  1.04290716e+04  1.00995160e+04  9.96023898e+03  9.65659389e+03\n",
      "  9.49928860e+03  9.32976629e+03  8.96974821e+03  8.83025841e+03\n",
      "  8.56746244e+03  8.34148517e+03  8.07180128e+03  7.89363256e+03\n",
      "  7.70072242e+03  7.68016086e+03  7.36615272e+03  7.29063341e+03\n",
      "  6.98979097e+03  6.75036454e+03  6.63617135e+03  6.54093958e+03\n",
      "  6.28374332e+03  6.21721304e+03  6.00962617e+03  5.94352109e+03\n",
      "  5.86072545e+03  5.73856397e+03  5.37097583e+03  5.50379817e+03\n",
      "  5.47492383e+03 -7.06164169e-12  5.21101427e+03  5.11320385e+03\n",
      "  4.94271145e+03  4.92319406e+03  4.83865468e+03  4.81534619e+03\n",
      "  4.68885155e+03  4.60258919e+03  4.48860866e+03  4.33368446e+03\n",
      "  4.29234649e+03  4.23525549e+03  4.18917122e+03  4.12321766e+03\n",
      "  4.04448642e+03  3.93567895e+03  3.89550372e+03  3.86123846e+03\n",
      "  3.77835850e+03  3.72892104e+03  3.66832575e+03  3.57804380e+03\n",
      "  3.54411412e+03  3.47756887e+03  3.44112406e+03  3.35696787e+03\n",
      "  3.32456700e+03  3.27105777e+03  2.98645213e+03  3.02862456e+03\n",
      "  3.19574625e+03  3.07945468e+03  3.13233987e+03  3.15564461e+03\n",
      "  2.94060393e+03  2.87706236e+03  2.81861839e+03  2.78891139e+03\n",
      "  2.75465012e+03  2.73012253e+03  2.70916253e+03  2.63036900e+03\n",
      "  2.66934110e+03  2.66666564e+03  2.55080787e+03  2.53275912e+03\n",
      "  2.49686602e+03  2.10655837e+03  2.44962207e+03  2.42464665e+03\n",
      "  2.40234021e+03  2.39523802e+03  2.36317713e+03  2.33252287e+03\n",
      "  2.32361817e+03  2.14717942e+03  2.27619453e+03  2.18142214e+03\n",
      "  2.21283572e+03  2.23395474e+03  2.22287468e+03  2.08930300e+03\n",
      "  2.04711570e+03  2.02069310e+03  2.01157024e+03  1.97827377e+03\n",
      "  1.94462944e+03  1.94066922e+03  1.90904079e+03  1.88516771e+03\n",
      "  1.86055972e+03  1.83079932e+03  1.81775555e+03  1.68091098e+03\n",
      "  1.79166255e+03  1.69863308e+03  1.77668665e+03  1.72061547e+03\n",
      "  1.72968311e+03  1.75518033e+03  1.75238891e+03  1.65320048e+03\n",
      "  1.64784146e+03  1.62994922e+03  1.60676938e+03  1.58129582e+03\n",
      "  1.55975635e+03  1.54918583e+03  1.52830294e+03  1.38235415e+03\n",
      "  1.50437827e+03  1.48953751e+03  1.47269882e+03  1.44876681e+03\n",
      "  1.41194513e+03  1.41859155e+03  1.43905705e+03  1.42972779e+03\n",
      "  1.36622270e+03  1.35839357e+03  1.33090294e+03  1.31396798e+03\n",
      "  1.31067421e+03  1.30280793e+03  1.29109484e+03  1.27647760e+03\n",
      "  1.25787477e+03  1.19387483e+03  1.24461034e+03  1.21055690e+03\n",
      "  1.21831014e+03  1.23098656e+03  1.22828840e+03  1.01969760e+03\n",
      "  1.03925198e+03  1.17094549e+03  1.05613530e+03  1.15725520e+03\n",
      "  1.15479935e+03  1.14009271e+03  1.07014065e+03  1.08317262e+03\n",
      "  1.08596050e+03  1.09768142e+03  1.12446899e+03  1.10915175e+03\n",
      "  1.11910568e+03  1.11354352e+03  1.02191282e+03  1.01481306e+03\n",
      "  8.86590370e+02  9.02636925e+02  9.11583830e+02  9.13530256e+02\n",
      "  9.35259706e+02  9.40516918e+02  9.54449787e+02  9.56548633e+02\n",
      "  9.65565709e+02  9.89697991e+02  9.78370974e+02  9.85524704e+02\n",
      "  9.82836039e+02  8.66799797e+01  9.54094175e+01  1.01179066e+02\n",
      "  8.97129366e+02  8.83411680e+02  8.78504344e+02  8.73629977e+02\n",
      "  8.65871518e+02  8.51742693e+02  8.40782567e+02  8.31082159e+02\n",
      "  8.22552047e+02  8.16213768e+02  8.13072961e+02  8.01273310e+02\n",
      "  7.94322508e+02  1.07854829e+02  1.11512449e+02  1.19540957e+02\n",
      "  1.24019039e+02  1.26725148e+02  1.27402781e+02  1.32033209e+02\n",
      "  1.33313516e+02  7.85306507e+02  7.77756157e+02  7.70551894e+02\n",
      "  7.70031905e+02  7.62151559e+02  7.60409982e+02  7.56545452e+02\n",
      "  7.53550058e+02  7.40077163e+02  7.36122405e+02  7.25478352e+02\n",
      "  7.17817520e+02  7.10585624e+02  7.02513752e+02  7.06894357e+02\n",
      "  6.80526191e+02  6.93603471e+02  6.88886887e+02  6.86800380e+02\n",
      "  6.70402634e+02  6.63006598e+02  6.60159036e+02  6.49727904e+02\n",
      "  6.44865039e+02  6.38596845e+02  1.36123717e+02  1.38223076e+02\n",
      "  1.39364909e+02  1.43628640e+02  1.45920226e+02  1.48263154e+02\n",
      "  1.49386833e+02  1.52787297e+02  1.55680175e+02  1.57082255e+02\n",
      "  6.27331074e+02  6.29230529e+02  6.20351178e+02  6.15318757e+02\n",
      "  6.11020955e+02  5.74962124e+02  6.00760644e+02  5.98973912e+02\n",
      "  5.81697132e+02  5.86375784e+02  5.90503314e+02  1.58429367e+02\n",
      "  1.63583504e+02  1.65750918e+02  1.69004858e+02  1.70193196e+02\n",
      "  1.89753833e+02  1.88716889e+02  1.73200832e+02  1.85821457e+02\n",
      "  1.76235330e+02  1.78020820e+02  1.79278205e+02  1.80360189e+02\n",
      "  5.64238196e+02  5.60421589e+02  5.67736673e+02  5.37673607e+02\n",
      "  5.45797140e+02  5.51886829e+02  5.54483565e+02  5.59157754e+02\n",
      "  2.00677953e+02  1.98837358e+02  1.94577874e+02  1.95483787e+02\n",
      "  1.95169588e+02  5.31983389e+02  5.24875231e+02  5.27075256e+02\n",
      "  2.09306514e+02  2.06249845e+02  2.04562709e+02  1.99804742e+02\n",
      "  2.11181877e+02  2.14214561e+02  2.17848412e+02  2.22835136e+02\n",
      "  5.19269666e+02  4.90189685e+02  4.94062201e+02  4.99946598e+02\n",
      "  5.06727937e+02  5.12931772e+02  5.13831715e+02  4.96875741e+02\n",
      "  4.86192350e+02  4.82017348e+02  4.78571000e+02  4.73296985e+02\n",
      "  4.67719425e+02  4.64795208e+02  2.24518068e+02  2.29145593e+02\n",
      "  2.34835730e+02  2.33434661e+02  2.32108292e+02  2.19691529e+02\n",
      "  2.41252724e+02  2.43472344e+02  2.53025149e+02  2.49613003e+02\n",
      "  4.29161349e+02  4.32208644e+02  4.38615717e+02  4.42130299e+02\n",
      "  4.57656302e+02  4.61360854e+02  4.49575371e+02  4.51989065e+02\n",
      "  4.75044303e+02  2.55820592e+02  2.58948156e+02  2.63744471e+02\n",
      "  2.69082374e+02  2.77453064e+02  2.80666704e+02  4.00675783e+02\n",
      "  3.95449928e+02  3.84235197e+02  3.91169612e+02  3.87801107e+02\n",
      "  4.11992902e+02  4.14447637e+02  4.17327867e+02  4.21769517e+02\n",
      "  2.29545517e+02  2.84282903e+02  2.65558698e+02  2.96330575e+02\n",
      "  2.98542119e+02  4.47534917e+02  3.45016288e+02  3.47684867e+02\n",
      "  3.68141241e+02  3.74177366e+02  4.07177372e+02  3.79405366e+02\n",
      "  3.77971742e+02  2.46658396e+02  2.46844641e+02  2.64630055e+02\n",
      "  2.74425284e+02  2.88090582e+02  2.86787302e+02  4.19517815e+02\n",
      "  3.05466941e+02  3.16794565e+02  4.03446087e+02  3.29750304e+02\n",
      "  3.36464488e+02  3.39248197e+02  3.62975108e+02  3.61130883e+02\n",
      "  3.64846792e+02  2.67795104e+02  3.56612352e+02  3.52040054e+02\n",
      "  3.54453773e+02  2.91168835e+02  2.93423757e+02  3.40588868e+02\n",
      "  3.33584369e+02  3.22637334e+02  3.09847410e+02  3.11019094e+02\n",
      "  3.12436018e+02  3.06462316e+02  3.26104562e+02  3.24282595e+02]\n",
      "suka_l\n",
      "[[ 0.03682305  0.02209753 -0.05244275 ...  0.00240229  0.00270005\n",
      "   0.00121191]\n",
      " [-0.05198864  0.01003228  0.06231998 ... -0.06714776  0.01869994\n",
      "  -0.01371267]\n",
      " [ 0.06096035  0.08496223  0.0645004  ... -0.03935992 -0.09956939\n",
      "  -0.10355784]\n",
      " ...\n",
      " [ 0.06257424  0.07929688 -0.00934272 ...  0.03679704 -0.04816534\n",
      "  -0.02107324]\n",
      " [-0.01480523 -0.04346086 -0.02549111 ...  0.04429055 -0.07959246\n",
      "   0.0325707 ]\n",
      " [ 0.01368386 -0.08389392  0.03492622 ...  0.00866656  0.05945409\n",
      "   0.00782143]]\n",
      "(416,)\n",
      "(416, 416)\n"
     ]
    }
   ],
   "source": [
    "eigvals_l, eigvecs_l = np.linalg.eig(S_l)\n",
    "\n",
    "print(eigvals_l)\n",
    "print('suka_l')\n",
    "print(eigvecs_l)\n",
    "print(eigvals_l.shape)\n",
    "print(eigvecs_l.shape)\n"
   ]
  },
  {
   "cell_type": "code",
   "execution_count": 12,
   "metadata": {},
   "outputs": [
    {
     "name": "stdout",
     "output_type": "stream",
     "text": [
      "(4.6566128730773926e-09+0j)\n"
     ]
    }
   ],
   "source": [
    "#checking that first 416 eigvals are the same\n",
    "su = sum(eigvals[0:415])\n",
    "su_l = sum(eigvals_l)\n",
    "\n",
    "print(su-su_l)\n",
    "\n"
   ]
  },
  {
   "cell_type": "markdown",
   "metadata": {},
   "source": [
    "# Reconstructed face "
   ]
  },
  {
   "cell_type": "code",
   "execution_count": 301,
   "metadata": {},
   "outputs": [
    {
     "name": "stdout",
     "output_type": "stream",
     "text": [
      "(2576, 2576)\n",
      "(2576, 123)\n",
      "(2576, 416)\n",
      "(123,)\n"
     ]
    }
   ],
   "source": [
    "M=123\n",
    "\n",
    "PCA = np.array([eigvecs[:,i] for i in range (M)])\n",
    "print(eigvecs_sort.shape)\n",
    "print(PCA.T.shape)\n",
    "\n",
    "#A = norm_face[:,55].T*(eigvecs[:,1]+eigvecs[:,2]+eigvecs[:,3]+eigvecs[:,4]+eigvecs[:,5]+eigvecs[:,6]+eigvecs[:,7]+eigvecs[:,8]+eigvecs[:,9]+eigvecs[:,10]+eigvecs[:,11]+eigvecs[:,12]+eigvecs[:,13]+eigvecs[:,14]+eigvecs[:,15]+eigvecs[:,16]+eigvecs[:,17]+eigvecs[:,18]+eigvecs[:,19])\n",
    "\n",
    "print(norm_face.shape)\n",
    "\n",
    "A = np.dot(norm_face[:,1].T, PCA.T)\n",
    "print(A.shape)\n"
   ]
  },
  {
   "cell_type": "code",
   "execution_count": 302,
   "metadata": {},
   "outputs": [
    {
     "name": "stdout",
     "output_type": "stream",
     "text": [
      "[ 97.6620465  101.88472047 100.54421737 ... 100.74658597  97.21518329\n",
      " 100.569291  ]\n",
      "(2576,)\n"
     ]
    },
    {
     "data": {
      "text/plain": [
       "<matplotlib.image.AxesImage at 0x1a2e7b90f0>"
      ]
     },
     "execution_count": 302,
     "metadata": {},
     "output_type": "execute_result"
    },
    {
     "data": {
      "image/png": "[encoded data removed]",
      "text/plain": [
       "<Figure size 432x288 with 1 Axes>"
      ]
     },
     "metadata": {
      "needs_background": "light"
     },
     "output_type": "display_data"
    }
   ],
   "source": [
    "A_reconstruct = average_face + np.dot(A, PCA)\n",
    "\n",
    "print(A_reconstruct.real)\n",
    "print(A_reconstruct.shape)\n",
    "\n",
    "A_reconstruct = A_reconstruct.real\n",
    "\n",
    "\n",
    "face_recon = A_reconstruct.reshape(46,56)\n",
    "plt.imshow(face_recon.T, cmap = 'gist_gray')"
   ]
  },
  {
   "cell_type": "markdown",
   "metadata": {},
   "source": [
    "## Nearest Neighbor Classification"
   ]
  },
  {
   "cell_type": "code",
   "execution_count": 303,
   "metadata": {},
   "outputs": [
    {
     "name": "stdout",
     "output_type": "stream",
     "text": [
      "(2576, 104)\n"
     ]
    }
   ],
   "source": [
    "face_test_n_transform = face_test.T - average_face_test.T\n",
    "face_test_n = face_test_n_transform.T\n",
    "print(face_test_n.shape)\n",
    "\n"
   ]
  },
  {
   "cell_type": "code",
   "execution_count": 312,
   "metadata": {},
   "outputs": [
    {
     "ename": "ValueError",
     "evalue": "Expected 2D array, got 1D array instead:\narray=[ 5.75176780e+02+0.j -3.71624219e+02+0.j  1.31813148e+03+0.j\n  9.13552753e+02+0.j -1.76372287e+02+0.j  7.80575212e+00+0.j\n -4.55187906e+02+0.j -6.74820723e+02+0.j -2.52478335e+02+0.j\n  2.30872896e+02+0.j  4.53774817e+02+0.j  3.77541332e+02+0.j\n -2.50829234e+02+0.j  3.50616034e+02+0.j -2.88208243e+02+0.j\n  3.48797186e+02+0.j  7.56477576e+01+0.j  2.70918060e+02+0.j\n  2.92232819e+02+0.j -1.74185893e+02+0.j  3.07602222e+01+0.j\n  3.76830015e+02+0.j  1.66244735e+02+0.j -2.31079304e+02+0.j\n -5.05663909e+01+0.j  1.55322203e+02+0.j -3.64086584e+01+0.j\n  4.12042504e+01+0.j  6.72168214e+01+0.j  9.65751347e+01+0.j\n -3.35034116e+01+0.j -8.43101311e+01+0.j -2.93100894e+02+0.j\n  1.00285464e+02+0.j -3.47790217e+01+0.j  1.14901108e+02+0.j\n -6.31580200e+01+0.j -1.09283308e+00+0.j  4.11883513e+00+0.j\n  1.36532384e+02+0.j  2.85153065e+01+0.j -6.73008362e+01+0.j\n  3.10834785e+01+0.j -9.92701422e+01+0.j  5.04563271e+01+0.j\n -1.54829733e+02+0.j -4.71150963e+01+0.j -3.96928927e+01+0.j\n  8.45007515e+01+0.j  1.05382888e+02+0.j -8.60823544e+01+0.j\n -2.46717249e+02+0.j -4.58629693e+01+0.j -1.07235753e+01+0.j\n -6.30065207e+01+0.j -7.43716279e+01+0.j  3.59770074e+00+0.j\n  4.66286306e+01+0.j  3.52444553e+01+0.j -9.31549756e+01+0.j\n -1.14612161e+01+0.j  6.14758289e+01+0.j  4.93895195e+01+0.j\n  1.65717443e+02+0.j  1.28502681e+02+0.j -6.32489988e+01+0.j\n -5.02446293e+01+0.j  1.53000352e+02+0.j -7.55584086e+01+0.j\n -1.41536960e+02+0.j  4.34816054e+01+0.j  6.22067402e+01+0.j\n -5.70485013e+01+0.j -6.87997268e+01+0.j  2.65261620e+01+0.j\n -1.58723610e+01+0.j  1.69343458e+01+0.j -1.14155927e+02+0.j\n  2.14941599e+01+0.j  9.22153922e+01+0.j  5.22577926e+01+0.j\n -3.33794697e+01+0.j -6.18188548e+01+0.j -7.24726837e+01+0.j\n  1.17629841e+01+0.j  6.66648844e+01+0.j -4.71001150e+00+0.j\n -1.01924009e+02+0.j  1.18884726e+02+0.j -4.07124344e+01+0.j\n -8.90688281e+01+0.j -3.33790420e+01+0.j  3.34555537e+01+0.j\n -9.39120601e+01+0.j -2.13534593e+01+0.j -3.17787145e+01+0.j\n -3.50799852e+00+0.j  9.37359458e+01+0.j  1.03140742e+02+0.j\n  1.90826726e+02+0.j  5.12648185e+00+0.j  4.44935946e+01+0.j\n -2.51569850e+00+0.j  9.38023859e+00+0.j  6.44059502e+01+0.j\n -1.16465458e+02+0.j  6.75556003e+01+0.j  5.61748750e+01+0.j\n  4.08826245e+01+0.j -1.47737663e+01+0.j -5.13722700e+01+0.j\n -1.40081161e+01+0.j  5.09248626e+01+0.j -3.59291907e+01+0.j\n  1.46948500e+01+0.j  5.20820360e+01+0.j  8.06163815e+01+0.j\n  3.91423962e+01+0.j -1.22602613e+02+0.j  3.62798778e+01+0.j\n  2.51208359e+01+0.j  3.22615712e+01+0.j -2.22160546e+00+0.j].\nReshape your data either using array.reshape(-1, 1) if your data has a single feature or array.reshape(1, -1) if it contains a single sample.",
     "output_type": "error",
     "traceback": [
      "\u001b[0;31m---------------------------------------------------------------------------\u001b[0m",
      "\u001b[0;31mValueError\u001b[0m                                Traceback (most recent call last)",
      "\u001b[0;32m<ipython-input-312-fe64e9a4845e>\u001b[0m in \u001b[0;36m<module>\u001b[0;34m()\u001b[0m\n\u001b[1;32m      1\u001b[0m \u001b[0;32mfrom\u001b[0m \u001b[0msklearn\u001b[0m\u001b[0;34m.\u001b[0m\u001b[0mneighbors\u001b[0m \u001b[0;32mimport\u001b[0m \u001b[0mKNeighborsClassifier\u001b[0m\u001b[0;34m\u001b[0m\u001b[0m\n\u001b[1;32m      2\u001b[0m \u001b[0mclassifier\u001b[0m \u001b[0;34m=\u001b[0m \u001b[0mKNeighborsClassifier\u001b[0m\u001b[0;34m(\u001b[0m\u001b[0mn_neighbors\u001b[0m \u001b[0;34m=\u001b[0m \u001b[0;36m5\u001b[0m\u001b[0;34m)\u001b[0m\u001b[0;34m\u001b[0m\u001b[0m\n\u001b[0;32m----> 3\u001b[0;31m \u001b[0mclassifier\u001b[0m\u001b[0;34m.\u001b[0m\u001b[0mfit\u001b[0m\u001b[0;34m(\u001b[0m\u001b[0mWn\u001b[0m\u001b[0;34m.\u001b[0m\u001b[0mT\u001b[0m\u001b[0;34m,\u001b[0m \u001b[0mface_train\u001b[0m\u001b[0;34m.\u001b[0m\u001b[0mT\u001b[0m\u001b[0;34m.\u001b[0m\u001b[0mravel\u001b[0m\u001b[0;34m(\u001b[0m\u001b[0;34m)\u001b[0m\u001b[0;34m)\u001b[0m\u001b[0;34m\u001b[0m\u001b[0m\n\u001b[0m\u001b[1;32m      4\u001b[0m \u001b[0;34m\u001b[0m\u001b[0m\n\u001b[1;32m      5\u001b[0m \u001b[0mPCA\u001b[0m \u001b[0;34m=\u001b[0m \u001b[0mnp\u001b[0m\u001b[0;34m.\u001b[0m\u001b[0marray\u001b[0m\u001b[0;34m(\u001b[0m\u001b[0;34m[\u001b[0m\u001b[0meigvecs\u001b[0m\u001b[0;34m[\u001b[0m\u001b[0;34m:\u001b[0m\u001b[0;34m,\u001b[0m\u001b[0mi\u001b[0m\u001b[0;34m]\u001b[0m \u001b[0;32mfor\u001b[0m \u001b[0mi\u001b[0m \u001b[0;32min\u001b[0m \u001b[0mrange\u001b[0m \u001b[0;34m(\u001b[0m\u001b[0mM\u001b[0m\u001b[0;34m)\u001b[0m\u001b[0;34m]\u001b[0m\u001b[0;34m)\u001b[0m\u001b[0;34m\u001b[0m\u001b[0m\n",
      "\u001b[0;32m~/anaconda3/lib/python3.7/site-packages/sklearn/neighbors/base.py\u001b[0m in \u001b[0;36mfit\u001b[0;34m(self, X, y)\u001b[0m\n\u001b[1;32m    763\u001b[0m         \"\"\"\n\u001b[1;32m    764\u001b[0m         \u001b[0;32mif\u001b[0m \u001b[0;32mnot\u001b[0m \u001b[0misinstance\u001b[0m\u001b[0;34m(\u001b[0m\u001b[0mX\u001b[0m\u001b[0;34m,\u001b[0m \u001b[0;34m(\u001b[0m\u001b[0mKDTree\u001b[0m\u001b[0;34m,\u001b[0m \u001b[0mBallTree\u001b[0m\u001b[0;34m)\u001b[0m\u001b[0;34m)\u001b[0m\u001b[0;34m:\u001b[0m\u001b[0;34m\u001b[0m\u001b[0m\n\u001b[0;32m--> 765\u001b[0;31m             \u001b[0mX\u001b[0m\u001b[0;34m,\u001b[0m \u001b[0my\u001b[0m \u001b[0;34m=\u001b[0m \u001b[0mcheck_X_y\u001b[0m\u001b[0;34m(\u001b[0m\u001b[0mX\u001b[0m\u001b[0;34m,\u001b[0m \u001b[0my\u001b[0m\u001b[0;34m,\u001b[0m \u001b[0;34m\"csr\"\u001b[0m\u001b[0;34m,\u001b[0m \u001b[0mmulti_output\u001b[0m\u001b[0;34m=\u001b[0m\u001b[0;32mTrue\u001b[0m\u001b[0;34m)\u001b[0m\u001b[0;34m\u001b[0m\u001b[0m\n\u001b[0m\u001b[1;32m    766\u001b[0m \u001b[0;34m\u001b[0m\u001b[0m\n\u001b[1;32m    767\u001b[0m         \u001b[0;32mif\u001b[0m \u001b[0my\u001b[0m\u001b[0;34m.\u001b[0m\u001b[0mndim\u001b[0m \u001b[0;34m==\u001b[0m \u001b[0;36m1\u001b[0m \u001b[0;32mor\u001b[0m \u001b[0my\u001b[0m\u001b[0;34m.\u001b[0m\u001b[0mndim\u001b[0m \u001b[0;34m==\u001b[0m \u001b[0;36m2\u001b[0m \u001b[0;32mand\u001b[0m \u001b[0my\u001b[0m\u001b[0;34m.\u001b[0m\u001b[0mshape\u001b[0m\u001b[0;34m[\u001b[0m\u001b[0;36m1\u001b[0m\u001b[0;34m]\u001b[0m \u001b[0;34m==\u001b[0m \u001b[0;36m1\u001b[0m\u001b[0;34m:\u001b[0m\u001b[0;34m\u001b[0m\u001b[0m\n",
      "\u001b[0;32m~/anaconda3/lib/python3.7/site-packages/sklearn/utils/validation.py\u001b[0m in \u001b[0;36mcheck_X_y\u001b[0;34m(X, y, accept_sparse, dtype, order, copy, force_all_finite, ensure_2d, allow_nd, multi_output, ensure_min_samples, ensure_min_features, y_numeric, warn_on_dtype, estimator)\u001b[0m\n\u001b[1;32m    571\u001b[0m     X = check_array(X, accept_sparse, dtype, order, copy, force_all_finite,\n\u001b[1;32m    572\u001b[0m                     \u001b[0mensure_2d\u001b[0m\u001b[0;34m,\u001b[0m \u001b[0mallow_nd\u001b[0m\u001b[0;34m,\u001b[0m \u001b[0mensure_min_samples\u001b[0m\u001b[0;34m,\u001b[0m\u001b[0;34m\u001b[0m\u001b[0m\n\u001b[0;32m--> 573\u001b[0;31m                     ensure_min_features, warn_on_dtype, estimator)\n\u001b[0m\u001b[1;32m    574\u001b[0m     \u001b[0;32mif\u001b[0m \u001b[0mmulti_output\u001b[0m\u001b[0;34m:\u001b[0m\u001b[0;34m\u001b[0m\u001b[0m\n\u001b[1;32m    575\u001b[0m         y = check_array(y, 'csr', force_all_finite=True, ensure_2d=False,\n",
      "\u001b[0;32m~/anaconda3/lib/python3.7/site-packages/sklearn/utils/validation.py\u001b[0m in \u001b[0;36mcheck_array\u001b[0;34m(array, accept_sparse, dtype, order, copy, force_all_finite, ensure_2d, allow_nd, ensure_min_samples, ensure_min_features, warn_on_dtype, estimator)\u001b[0m\n\u001b[1;32m    439\u001b[0m                     \u001b[0;34m\"Reshape your data either using array.reshape(-1, 1) if \"\u001b[0m\u001b[0;34m\u001b[0m\u001b[0m\n\u001b[1;32m    440\u001b[0m                     \u001b[0;34m\"your data has a single feature or array.reshape(1, -1) \"\u001b[0m\u001b[0;34m\u001b[0m\u001b[0m\n\u001b[0;32m--> 441\u001b[0;31m                     \"if it contains a single sample.\".format(array))\n\u001b[0m\u001b[1;32m    442\u001b[0m             \u001b[0marray\u001b[0m \u001b[0;34m=\u001b[0m \u001b[0mnp\u001b[0m\u001b[0;34m.\u001b[0m\u001b[0matleast_2d\u001b[0m\u001b[0;34m(\u001b[0m\u001b[0marray\u001b[0m\u001b[0;34m)\u001b[0m\u001b[0;34m\u001b[0m\u001b[0m\n\u001b[1;32m    443\u001b[0m             \u001b[0;31m# To ensure that array flags are maintained\u001b[0m\u001b[0;34m\u001b[0m\u001b[0;34m\u001b[0m\u001b[0m\n",
      "\u001b[0;31mValueError\u001b[0m: Expected 2D array, got 1D array instead:\narray=[ 5.75176780e+02+0.j -3.71624219e+02+0.j  1.31813148e+03+0.j\n  9.13552753e+02+0.j -1.76372287e+02+0.j  7.80575212e+00+0.j\n -4.55187906e+02+0.j -6.74820723e+02+0.j -2.52478335e+02+0.j\n  2.30872896e+02+0.j  4.53774817e+02+0.j  3.77541332e+02+0.j\n -2.50829234e+02+0.j  3.50616034e+02+0.j -2.88208243e+02+0.j\n  3.48797186e+02+0.j  7.56477576e+01+0.j  2.70918060e+02+0.j\n  2.92232819e+02+0.j -1.74185893e+02+0.j  3.07602222e+01+0.j\n  3.76830015e+02+0.j  1.66244735e+02+0.j -2.31079304e+02+0.j\n -5.05663909e+01+0.j  1.55322203e+02+0.j -3.64086584e+01+0.j\n  4.12042504e+01+0.j  6.72168214e+01+0.j  9.65751347e+01+0.j\n -3.35034116e+01+0.j -8.43101311e+01+0.j -2.93100894e+02+0.j\n  1.00285464e+02+0.j -3.47790217e+01+0.j  1.14901108e+02+0.j\n -6.31580200e+01+0.j -1.09283308e+00+0.j  4.11883513e+00+0.j\n  1.36532384e+02+0.j  2.85153065e+01+0.j -6.73008362e+01+0.j\n  3.10834785e+01+0.j -9.92701422e+01+0.j  5.04563271e+01+0.j\n -1.54829733e+02+0.j -4.71150963e+01+0.j -3.96928927e+01+0.j\n  8.45007515e+01+0.j  1.05382888e+02+0.j -8.60823544e+01+0.j\n -2.46717249e+02+0.j -4.58629693e+01+0.j -1.07235753e+01+0.j\n -6.30065207e+01+0.j -7.43716279e+01+0.j  3.59770074e+00+0.j\n  4.66286306e+01+0.j  3.52444553e+01+0.j -9.31549756e+01+0.j\n -1.14612161e+01+0.j  6.14758289e+01+0.j  4.93895195e+01+0.j\n  1.65717443e+02+0.j  1.28502681e+02+0.j -6.32489988e+01+0.j\n -5.02446293e+01+0.j  1.53000352e+02+0.j -7.55584086e+01+0.j\n -1.41536960e+02+0.j  4.34816054e+01+0.j  6.22067402e+01+0.j\n -5.70485013e+01+0.j -6.87997268e+01+0.j  2.65261620e+01+0.j\n -1.58723610e+01+0.j  1.69343458e+01+0.j -1.14155927e+02+0.j\n  2.14941599e+01+0.j  9.22153922e+01+0.j  5.22577926e+01+0.j\n -3.33794697e+01+0.j -6.18188548e+01+0.j -7.24726837e+01+0.j\n  1.17629841e+01+0.j  6.66648844e+01+0.j -4.71001150e+00+0.j\n -1.01924009e+02+0.j  1.18884726e+02+0.j -4.07124344e+01+0.j\n -8.90688281e+01+0.j -3.33790420e+01+0.j  3.34555537e+01+0.j\n -9.39120601e+01+0.j -2.13534593e+01+0.j -3.17787145e+01+0.j\n -3.50799852e+00+0.j  9.37359458e+01+0.j  1.03140742e+02+0.j\n  1.90826726e+02+0.j  5.12648185e+00+0.j  4.44935946e+01+0.j\n -2.51569850e+00+0.j  9.38023859e+00+0.j  6.44059502e+01+0.j\n -1.16465458e+02+0.j  6.75556003e+01+0.j  5.61748750e+01+0.j\n  4.08826245e+01+0.j -1.47737663e+01+0.j -5.13722700e+01+0.j\n -1.40081161e+01+0.j  5.09248626e+01+0.j -3.59291907e+01+0.j\n  1.46948500e+01+0.j  5.20820360e+01+0.j  8.06163815e+01+0.j\n  3.91423962e+01+0.j -1.22602613e+02+0.j  3.62798778e+01+0.j\n  2.51208359e+01+0.j  3.22615712e+01+0.j -2.22160546e+00+0.j].\nReshape your data either using array.reshape(-1, 1) if your data has a single feature or array.reshape(1, -1) if it contains a single sample."
     ]
    }
   ],
   "source": [
    "from sklearn.neighbors import KNeighborsClassifier\n",
    "classifier = KNeighborsClassifier(n_neighbors = 5)\n",
    "classifier.fit(Wn.T, face_train.T.ravel())\n",
    "\n",
    "PCA = np.array([eigvecs[:,i] for i in range (M)])\n",
    "W = np.dot(face_test_n[:,0].T, PCA.T)\n",
    "\n",
    "Wn = np.dot(norm_face[:,9].T, PCA.T)\n",
    "\n",
    "print(W.shape)\n",
    "np.linalg.norm(W - Wn)"
   ]
  },
  {
   "cell_type": "code",
   "execution_count": null,
   "metadata": {},
   "outputs": [],
   "source": []
  }
 ],
 "metadata": {
  "kernelspec": {
   "display_name": "Python 3",
   "language": "python",
   "name": "python3"
  },
  "language_info": {
   "codemirror_mode": {
    "name": "ipython",
    "version": 3
   },
   "file_extension": ".py",
   "mimetype": "text/x-python",
   "name": "python",
   "nbconvert_exporter": "python",
   "pygments_lexer": "ipython3",
   "version": "3.7.0"
  }
 },
 "nbformat": 4,
 "nbformat_minor": 2
}
