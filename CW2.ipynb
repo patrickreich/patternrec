{
 "cells": [
  {
   "cell_type": "markdown",
   "metadata": {},
   "source": [
    "# Coursework 2 \n",
    "### Perform k-nearest neighbour (KNN) retrieval experiments according to standard practices in pattern recognition. Use retrieval error (ie @rank1, @rank10) as the performance metric to evaluate different methods. Your baseline approach is KNN on provided features. Use distance metric learning methods to improve a baseline performance."
   ]
  },
  {
   "cell_type": "markdown",
   "metadata": {},
   "source": [
    "#### So, firstly, we need to create a baseline, which is KNN on provided features. "
   ]
  },
  {
   "cell_type": "code",
   "execution_count": 9,
   "metadata": {},
   "outputs": [],
   "source": [
    "from scipy.io import loadmat\n",
    "train_idxs = loadmat('cuhk03_new_protocol_config_labeled.mat')['train_idx'].flatten()"
   ]
  },
  {
   "cell_type": "markdown",
   "metadata": {},
   "source": [
    "## Load features"
   ]
  },
  {
   "cell_type": "code",
   "execution_count": 10,
   "metadata": {},
   "outputs": [
    {
     "name": "stdout",
     "output_type": "stream",
     "text": [
      "Data shape: (14096, 2048)\n"
     ]
    }
   ],
   "source": [
    "import json\n",
    "import numpy as np\n",
    "import matplotlib.pyplot as plt\n",
    "\n",
    "with open(\"PR_data/feature_data.json\", \"r\") as file:\n",
    "    features = json.load(file)\n",
    "    \n",
    "data_features = np.asarray(features)\n",
    "\n",
    "print('Data shape: {}'.format(data_features.shape))"
   ]
  },
  {
   "cell_type": "markdown",
   "metadata": {},
   "source": [
    "## Load data"
   ]
  },
  {
   "cell_type": "code",
   "execution_count": 11,
   "metadata": {},
   "outputs": [
    {
     "name": "stdout",
     "output_type": "stream",
     "text": [
      "training indexes : (7368,)\n",
      "query indexes : (1400,)\n",
      "gallery indexes : (5328,)\n"
     ]
    }
   ],
   "source": [
    "#Load labels\n",
    "labelss = loadmat('cuhk03_new_protocol_config_labeled.mat')['labels'].flatten()\n",
    "\n",
    "#Load camId\n",
    "cam_Ids = loadmat('cuhk03_new_protocol_config_labeled.mat')['camId'].flatten()\n",
    "\n",
    "#Load indexes\n",
    "train_idxs = loadmat('cuhk03_new_protocol_config_labeled.mat')['train_idx'].flatten()\n",
    "query_idxs = loadmat('cuhk03_new_protocol_config_labeled.mat')['query_idx'].flatten()\n",
    "gallery_idxs = loadmat('cuhk03_new_protocol_config_labeled.mat')['gallery_idx'].flatten()\n",
    "\n",
    "#Load training indexes\n",
    "print(\"training indexes : {}\".format(train_idxs.shape))\n",
    "print(\"query indexes : {}\".format( query_idxs.shape))\n",
    "print(\"gallery indexes : {}\".format( gallery_idxs.shape))"
   ]
  },
  {
   "cell_type": "code",
   "execution_count": 12,
   "metadata": {},
   "outputs": [],
   "source": [
    "#converting to python index notation\n",
    "\n",
    "train_idxs = train_idxs - 1\n",
    "query_idxs = query_idxs - 1\n",
    "gallery_idxs = gallery_idxs - 1"
   ]
  },
  {
   "cell_type": "markdown",
   "metadata": {},
   "source": [
    "## Separate the features and data into training, query and gallery sets "
   ]
  },
  {
   "cell_type": "code",
   "execution_count": 246,
   "metadata": {},
   "outputs": [],
   "source": [
    "train_f = []\n",
    "train_label = []\n",
    "train_camid = []\n",
    "# divide the features data into training \n",
    "for i in range (len(train_idxs)):\n",
    "    train_f.append(data_features[train_idxs[i]])\n",
    "    train_camid.append(cam_Ids[train_idxs[i]])\n",
    "    train_label.append(labelss[train_idxs[i]])\n",
    "    \n",
    "train_f = np.asarray(train_f)    \n",
    "train_label = np.asarray(train_label)\n",
    "train_camid = np.asarray(train_camid)"
   ]
  },
  {
   "cell_type": "code",
   "execution_count": 14,
   "metadata": {},
   "outputs": [],
   "source": [
    "#features, cam, label data into gallery\n",
    "query_f = []\n",
    "query_camid = []\n",
    "query_label = []\n",
    "\n",
    "for i in range (len(query_idxs)):\n",
    "    query_f.append(data_features[query_idxs[i]])\n",
    "    query_camid.append(cam_Ids[query_idxs[i]])\n",
    "    query_label.append(labelss[query_idxs[i]])\n",
    "    \n",
    "query_f = np.asarray(query_f) \n",
    "query_label = np.asarray(query_label)\n",
    "query_camid = np.asarray(query_camid)"
   ]
  },
  {
   "cell_type": "code",
   "execution_count": 15,
   "metadata": {},
   "outputs": [],
   "source": [
    "#features, cam, label data into gallery\n",
    "gallery_f = []\n",
    "gallery_camid = []\n",
    "gallery_label = []\n",
    "\n",
    "for i in range (len(gallery_idxs)):\n",
    "    gallery_f.append(data_features[gallery_idxs[i]])\n",
    "    gallery_camid.append(cam_Ids[gallery_idxs[i]])\n",
    "    gallery_label.append(labelss[gallery_idxs[i]])\n",
    "       \n",
    "gallery_f = np.asarray(gallery_f)  \n",
    "gallery_camid = np.asarray(gallery_camid)  \n",
    "gallery_label = np.asarray(gallery_label)  "
   ]
  },
  {
   "cell_type": "markdown",
   "metadata": {},
   "source": [
    "### Concatenate query and gallery features/labels/cam ids"
   ]
  },
  {
   "cell_type": "code",
   "execution_count": 16,
   "metadata": {},
   "outputs": [
    {
     "name": "stdout",
     "output_type": "stream",
     "text": [
      "[   3.    3.    6. ... 1461. 1463. 1463.]\n",
      "(5328, 2050)\n"
     ]
    }
   ],
   "source": [
    "#stacking labels, cam ids and features\n",
    "\n",
    "query = np.vstack((query_f.T, query_label, query_camid)) #transpose feature matrix to match dimensions \n",
    "gallery = np.vstack((gallery_f.T, gallery_label, gallery_camid)) #transpose feature matrix to match dimensions \n",
    "\n",
    "#transpose back to get right shape\n",
    "query = query.T\n",
    "gallery = gallery.T\n",
    "\n",
    "print(query[:,-2])\n",
    "print(gallery.shape)"
   ]
  },
  {
   "cell_type": "markdown",
   "metadata": {},
   "source": [
    "## Remove the repetitions of cam ids and labels and perform NN classification"
   ]
  },
  {
   "cell_type": "markdown",
   "metadata": {},
   "source": [
    "## Nearest Neighbor Classification"
   ]
  },
  {
   "cell_type": "code",
   "execution_count": 191,
   "metadata": {},
   "outputs": [
    {
     "name": "stdout",
     "output_type": "stream",
     "text": [
      "(1400, 1, 20)\n",
      "--- 154.1351978778839 seconds ---\n",
      "(1400, 1, 20)\n"
     ]
    }
   ],
   "source": [
    "from sklearn.neighbors import NearestNeighbors\n",
    "from sklearn.neighbors import KNeighborsClassifier\n",
    "\n",
    "k = 20 #number of nearest neighbors parameter\n",
    "\n",
    "rank = []\n",
    "distance = []\n",
    "idx = []\n",
    "\n",
    "import time\n",
    "start_time = time.time()\n",
    "\n",
    "##sqeuclidean instead of euclidean for computing efficientcy. As we are only interested in the ranklists\n",
    "##and not the actual values of the distances.\n",
    "\n",
    "for i in range (len(query[:,0])):\n",
    "    \n",
    "    ##getting rid of label/camid repetions \n",
    "    gallery_no_rep = gallery[~np.logical_and((gallery[:,-1] == query[i, -1]), (gallery[:,-2] == query[i, -2]))]\n",
    "    \n",
    "    NN = NearestNeighbors(n_neighbors = k, metric = 'sqeuclidean') #setting up NN\n",
    "    NN.fit(gallery_no_rep[:,:-2], gallery_no_rep[:,-2])\n",
    "\n",
    "   \n",
    "    query_f_test = query_f[i,:].reshape(1,-1)\n",
    "    dist, idxs = NN.kneighbors(query_f_test)\n",
    "    \n",
    "    distance.append(dist)\n",
    "    idx.append(idxs)\n",
    "\n",
    "distance = np.asarray(distance)\n",
    "idx = np.asarray(idx)\n",
    "\n",
    "print(idx.shape)\n",
    "\n",
    "##creating ranklist of predicted labels (1400x10)\n",
    "for i in range (len(query[:,0])):\n",
    "    row_rank = []\n",
    "    for j in range (len(idx[0,:])):\n",
    "        row_rank.append(gallery[idx[i,j],-2])\n",
    "    rank.append(row_rank)\n",
    "    \n",
    "rank = np.asarray(rank)     \n",
    "\n",
    "    \n",
    "print(\"--- %s seconds ---\" % (time.time() - start_time))\n",
    "\n",
    "print(rank.shape)"
   ]
  },
  {
   "cell_type": "code",
   "execution_count": 192,
   "metadata": {},
   "outputs": [
    {
     "name": "stdout",
     "output_type": "stream",
     "text": [
      "(1400, 20)\n",
      "[[1367.  739. 1426. ...  660.   11.  115.]\n",
      " [ 509.  232.  232. ...  723.  742.  738.]\n",
      " [   6.    6.    6. ...  678.  647.  738.]\n",
      " ...\n",
      " [1418. 1418. 1461. ...  802. 1449.  872.]\n",
      " [1463. 1463. 1463. ...  905.  346.  381.]\n",
      " [1463. 1463.  884. ...  259.  879.   40.]]\n"
     ]
    }
   ],
   "source": [
    "rank = np.squeeze(rank)\n",
    "print(rank.shape)\n",
    "print(rank)"
   ]
  },
  {
   "cell_type": "markdown",
   "metadata": {},
   "source": [
    "## Creating a Match/No Match array "
   ]
  },
  {
   "cell_type": "code",
   "execution_count": 193,
   "metadata": {},
   "outputs": [
    {
     "name": "stdout",
     "output_type": "stream",
     "text": [
      "[[0 0 0 ... 0 0 0]\n",
      " [0 0 0 ... 0 0 0]\n",
      " [1 1 1 ... 0 0 0]\n",
      " ...\n",
      " [0 0 1 ... 0 0 0]\n",
      " [1 1 1 ... 0 0 0]\n",
      " [1 1 0 ... 0 0 0]]\n"
     ]
    }
   ],
   "source": [
    "query_label = query_label.reshape(1400,1)\n",
    "\n",
    "rank_bin1 = []\n",
    "\n",
    "for i in range (len(rank[:,0])):\n",
    "    rank_bin = []\n",
    "    for j in range (len(rank[0,:])): \n",
    "        if (rank[i,j] == query_label[i]):   ##if match, set 1, otherwise set 0\n",
    "            rank_bin.append(1)\n",
    "        else:\n",
    "            rank_bin.append(0)\n",
    "    rank_bin1.append(rank_bin)\n",
    "    \n",
    "    \n",
    "rank_bin1 = np.asarray(rank_bin1)   ##array of label matches and mismatches\n",
    "print(rank_bin1)"
   ]
  },
  {
   "cell_type": "markdown",
   "metadata": {},
   "source": [
    "## Rank calculation"
   ]
  },
  {
   "cell_type": "code",
   "execution_count": 194,
   "metadata": {},
   "outputs": [
    {
     "name": "stdout",
     "output_type": "stream",
     "text": [
      "Accuracy\n",
      "rank 1: 0.47\n",
      "rank 5: 0.6735714285714286\n",
      "rank 10: 0.7564285714285715\n"
     ]
    }
   ],
   "source": [
    "rank_1 = np.sum(rank_bin1[:,0])/1400\n",
    "r5 = rank_bin1[:,:5].sum(axis = 1)/5\n",
    "rank_5 = np.count_nonzero(r5)/1400\n",
    "r10 = rank_bin1[:,:10].sum(axis = 1)/10\n",
    "rank_10 = np.count_nonzero(r10)/1400\n",
    "\n",
    "print(\"Accuracy\")\n",
    "print(\"rank 1: %s\" % (rank_1))\n",
    "print(\"rank 5: %s\" % (rank_5))\n",
    "print(\"rank 10: %s\" % (rank_10))"
   ]
  },
  {
   "cell_type": "markdown",
   "metadata": {},
   "source": [
    "## Finding precisions and recalls for calculating the mAP"
   ]
  },
  {
   "cell_type": "markdown",
   "metadata": {},
   "source": [
    "### Test"
   ]
  },
  {
   "cell_type": "code",
   "execution_count": 22,
   "metadata": {},
   "outputs": [
    {
     "name": "stdout",
     "output_type": "stream",
     "text": [
      "[0.0, 0.0, 0.0, 0.0, 1.0, 1.0, 1.0, 1.0, 1.0, 1.0]\n"
     ]
    }
   ],
   "source": [
    "X = [0, 0, 0, 0, 1, 0, 0, 0, 0, 0]\n",
    "\n",
    "total = 0\n",
    "precision = []\n",
    "recall = []\n",
    "\n",
    "for i in range (len(X)):\n",
    "    total += X[i]\n",
    "    precision.append(total/(i+1))\n",
    "    recall.append(total/np.sum(X))\n",
    "print(recall)"
   ]
  },
  {
   "cell_type": "code",
   "execution_count": 23,
   "metadata": {},
   "outputs": [
    {
     "data": {
      "image/png": "[encoded data removed]",
      "text/plain": [
       "<matplotlib.figure.Figure at 0x183ab43a58>"
      ]
     },
     "metadata": {},
     "output_type": "display_data"
    }
   ],
   "source": [
    "plt.plot(recall, precision, 'o-')\n",
    "plt.show()"
   ]
  },
  {
   "cell_type": "code",
   "execution_count": 24,
   "metadata": {},
   "outputs": [
    {
     "name": "stdout",
     "output_type": "stream",
     "text": [
      "Actual row [1 1 0 0 1 0 0 0 0 0]\n",
      "Actual precision [1.         1.         0.66666667 0.5        0.6       ]\n",
      "Actual recall [0.33333333 0.66666667 0.66666667 0.66666667 1.        ]\n",
      "Max precision [1.         1.         0.66666667 0.6        0.6       ]\n"
     ]
    },
    {
     "data": {
      "image/png": "[encoded data removed]",
      "text/plain": [
       "<matplotlib.figure.Figure at 0x18514c32e8>"
      ]
     },
     "metadata": {},
     "output_type": "display_data"
    },
    {
     "name": "stdout",
     "output_type": "stream",
     "text": [
      "[0.77333333]\n",
      "[0.85454545]\n"
     ]
    }
   ],
   "source": [
    "total = 0\n",
    "precision = []\n",
    "recall = []\n",
    "\n",
    "row = 8\n",
    "clm = 5\n",
    "print(\"Actual row %s\" % (rank_bin1[row, :]))\n",
    "\n",
    "for i in range (len(rank_bin1[row,:clm])):\n",
    "    total += rank_bin1[row,i]\n",
    "    precision.append(total/(i+1))\n",
    "    recall.append(total/np.sum(rank_bin1[row,:clm]))\n",
    "\n",
    "precision = np.asarray(precision)\n",
    "recall = np.asarray(recall)\n",
    "\n",
    "recall1 = [0,0.1,0.2,0.3,0.4,0.5,0.6,0.7,0.8,0.9,1]\n",
    "recall1 = np.asarray(recall1)\n",
    "\n",
    "i = recall1.shape[0]-2\n",
    "j = recall.shape[0]-2\n",
    "\n",
    "print(\"Actual precision %s\" % (precision))\n",
    "print(\"Actual recall %s\" % (recall))\n",
    "\n",
    "plt.plot(recall,precision, '--')\n",
    "\n",
    "\n",
    "\n",
    "##interpolation of precisions by 11 step recalls\n",
    "#print(\"Interp precision %s\" %(precision_int))\n",
    "\n",
    "\n",
    "#while i>0:       \n",
    "#    if precision_int[i+1]>precision_int[i]:\n",
    "#        precision_int[i] = precision_int[i+1]\n",
    "#    i=i-1\n",
    "while j>=0:       \n",
    "    if precision[j+1]>precision[j]:\n",
    "        precision[j] = precision[j+1]\n",
    "    j=j-1\n",
    "    \n",
    "precision_int=np.interp(recall1, recall, precision)\n",
    "\n",
    "print(\"Max precision %s\" %(precision))\n",
    "\n",
    "plt.plot(recall,precision, '-x')\n",
    "plt.plot(recall1, precision_int, 'o-')\n",
    "plt.show()\n",
    "AP = np.sum(precision)/(precision.shape)\n",
    "AP_int = np.sum(precision_int)/(precision_int.shape)\n",
    "print(AP)\n",
    "print(AP_int)"
   ]
  },
  {
   "cell_type": "markdown",
   "metadata": {},
   "source": [
    "## Finding mAP"
   ]
  },
  {
   "cell_type": "code",
   "execution_count": 198,
   "metadata": {
    "scrolled": true
   },
   "outputs": [
    {
     "name": "stderr",
     "output_type": "stream",
     "text": [
      "/Users/adilzhannussipzhan/anaconda3/lib/python3.6/site-packages/ipykernel_launcher.py:14: RuntimeWarning: invalid value encountered in long_scalars\n",
      "  \n"
     ]
    },
    {
     "name": "stdout",
     "output_type": "stream",
     "text": [
      "mAP: [0.45192857]\n",
      "mAP: [0.51244048]\n"
     ]
    }
   ],
   "source": [
    "#mAP for rank1\n",
    "\n",
    "clm = 5\n",
    "mAP =[]   \n",
    "mAP_int=[]  ## mAP array of interpolated precision values\n",
    "\n",
    "for row in range(1400):\n",
    "    total = 0\n",
    "    recall = []\n",
    "    precision = []\n",
    "    for i in range (len(rank_bin1[row,:clm])):\n",
    "        total += rank_bin1[row,i]\n",
    "        precision.append(total/(i+1))   #calculate precision\n",
    "        recall.append(total/np.sum(rank_bin1[row,:clm]))    #calculate recall\n",
    "\n",
    "    precision = np.asarray(precision)\n",
    "    recall = np.asarray(recall)\n",
    "    \n",
    "    recall1 = [0,0.1,0.2,0.3,0.4,0.5,0.6,0.7,0.8,0.9,1]     #11 recall values\n",
    "    recall1 = np.asarray(recall1)\n",
    "\n",
    "    i = recall1.shape[0]-2\n",
    "    j = recall.shape[0]-2\n",
    "    \n",
    "    \n",
    "    ##maximizing precision (smoothening)\n",
    "    while j>=0:       \n",
    "        if precision[j+1]>precision[j]:  \n",
    "            precision[j] = precision[j+1]\n",
    "        j=j-1\n",
    "    \n",
    "    ##interpolation of precision to 11 values \n",
    "    precision_int=np.interp(recall1, recall, precision)\n",
    "    \n",
    "    AP = np.sum(precision)/(precision.shape)   ##average precision \n",
    "    AP_int = np.sum(precision_int)/(precision_int.shape)   ##average interpolated precision \n",
    "    \n",
    "    mAP.append(AP)\n",
    "    mAP_int.append(AP_int)\n",
    "        \n",
    "mAP = np.asarray(mAP)\n",
    "mAP_int = np.asarray(mAP_int)\n",
    "mAP_int = np.nan_to_num(mAP_int)\n",
    "\n",
    "\n",
    "mAP_total = np.sum(mAP, axis = 0)/1400\n",
    "mAP_int_total = np.sum(mAP_int, axis = 0)/1400\n",
    "\n",
    "print(\"mAP: %s\" %(mAP_total))\n",
    "print(\"mAP: %s\" %(mAP_int_total))"
   ]
  },
  {
   "cell_type": "markdown",
   "metadata": {},
   "source": [
    "## Improvement "
   ]
  },
  {
   "cell_type": "markdown",
   "metadata": {},
   "source": [
    "## PCA"
   ]
  },
  {
   "cell_type": "code",
   "execution_count": 181,
   "metadata": {},
   "outputs": [
    {
     "name": "stdout",
     "output_type": "stream",
     "text": [
      "(7368, 2048)\n"
     ]
    }
   ],
   "source": [
    "print(train_f.shape)\n"
   ]
  },
  {
   "cell_type": "code",
   "execution_count": 247,
   "metadata": {},
   "outputs": [
    {
     "data": {
      "text/plain": [
       "KernelPCA(alpha=1.0, coef0=1, copy_X=True, degree=3, eigen_solver='auto',\n",
       "     fit_inverse_transform=False, gamma=None, kernel='cosine',\n",
       "     kernel_params=None, max_iter=None, n_components=200, n_jobs=1,\n",
       "     random_state=None, remove_zero_eig=False, tol=0)"
      ]
     },
     "execution_count": 247,
     "metadata": {},
     "output_type": "execute_result"
    }
   ],
   "source": [
    "from sklearn.decomposition import PCA\n",
    "from sklearn.decomposition import KernelPCA\n",
    "\n",
    "N = 200\n",
    "pca = PCA(n_components = N)\n",
    "pca.fit(train_f)\n",
    "kpca = KernelPCA(n_components = N, kernel = 'cosine')\n",
    "kpca.fit(train_f)"
   ]
  },
  {
   "cell_type": "code",
   "execution_count": 248,
   "metadata": {},
   "outputs": [],
   "source": [
    "#concatenate labels and camera IDs to the train feature vectors\n",
    "train_f = np.vstack((train_f.T, train_label, train_camid)) \n",
    "#transpose feature matrix to match dimensions \n",
    "\n",
    "train_f = train_f.T"
   ]
  },
  {
   "cell_type": "code",
   "execution_count": 249,
   "metadata": {},
   "outputs": [
    {
     "name": "stdout",
     "output_type": "stream",
     "text": [
      "(1400, 1, 10)\n",
      "--- 326.03559398651123 seconds ---\n",
      "(1400, 1, 10)\n"
     ]
    }
   ],
   "source": [
    "k = 10 #number of nearest neighbors parameter\n",
    "\n",
    "rank = []\n",
    "distance = []\n",
    "idx = []\n",
    "\n",
    "import time\n",
    "start_time = time.time()\n",
    "\n",
    "##sqeuclidean instead of euclidean for computing efficientcy. As we are only interested in the ranklists\n",
    "##and not the actual values of the distances.\n",
    "\n",
    "for i in range (len(query[:,0])):\n",
    "    \n",
    "    ##getting rid of label/camid repetions \n",
    "    gallery_no_rep = gallery[~np.logical_and((gallery[:,-1] == query[i, -1]), (gallery[:,-2] == query[i, -2]))]\n",
    "    \n",
    "    query_f_test = query_f[i,:].reshape(1,-1)\n",
    "    query_f_pca = pca.transform(query_f_test)\n",
    "\n",
    "    gallery_f_pca = pca.transform(gallery_no_rep[:,:-2])\n",
    "    \n",
    "    NN = NearestNeighbors(n_neighbors = k, metric = 'sqeuclidean') #setting up NN\n",
    "    NN.fit(gallery_f_pca, gallery_no_rep[:,-2])\n",
    "\n",
    "   \n",
    "    #query_f_test = query_f[i,:].reshape(1,-1)\n",
    "    dist, idxs = NN.kneighbors(query_f_pca)\n",
    "    \n",
    "    distance.append(dist)\n",
    "    idx.append(idxs)\n",
    "\n",
    "distance = np.asarray(distance)\n",
    "idx = np.asarray(idx)\n",
    "\n",
    "print(idx.shape)\n",
    "\n",
    "##creating ranklist of predicted labels (1400x10)\n",
    "for i in range (len(query[:,0])):\n",
    "    row_rank = []\n",
    "    for j in range (len(idx[0,:])):\n",
    "        row_rank.append(gallery[idx[i,j],-2])\n",
    "    rank.append(row_rank)\n",
    "    \n",
    "rank = np.asarray(rank)     \n",
    "\n",
    "    \n",
    "print(\"--- %s seconds ---\" % (time.time() - start_time))\n",
    "\n",
    "print(rank.shape)"
   ]
  },
  {
   "cell_type": "code",
   "execution_count": 250,
   "metadata": {},
   "outputs": [
    {
     "name": "stdout",
     "output_type": "stream",
     "text": [
      "(1400, 10)\n",
      "[[1367.  739. 1426. ... 1449.   51. 1367.]\n",
      " [ 509.  232.  232. ... 1426.  171.    3.]\n",
      " [   6.    6.    6. ...  678.  675.  647.]\n",
      " ...\n",
      " [1418. 1418. 1461. ... 1461. 1418. 1293.]\n",
      " [1463. 1463. 1463. ... 1435.  884.  905.]\n",
      " [1463. 1463.  884. ...  346.  346.  879.]]\n"
     ]
    }
   ],
   "source": [
    "rank = np.squeeze(rank)\n",
    "print(rank.shape)\n",
    "print(rank)"
   ]
  },
  {
   "cell_type": "code",
   "execution_count": 251,
   "metadata": {},
   "outputs": [
    {
     "name": "stdout",
     "output_type": "stream",
     "text": [
      "[[0 0 0 ... 0 0 0]\n",
      " [0 0 0 ... 0 0 1]\n",
      " [1 1 1 ... 0 0 0]\n",
      " ...\n",
      " [0 0 1 ... 1 0 0]\n",
      " [1 1 1 ... 0 0 0]\n",
      " [1 1 0 ... 0 0 0]]\n"
     ]
    }
   ],
   "source": [
    "query_label = query_label.reshape(1400,1)\n",
    "\n",
    "rank_bin1 = []\n",
    "\n",
    "for i in range (len(rank[:,0])):\n",
    "    rank_bin = []\n",
    "    for j in range (len(rank[0,:])): \n",
    "        if (rank[i,j] == query_label[i]):   ##if match, set 1, otherwise set 0\n",
    "            rank_bin.append(1)\n",
    "        else:\n",
    "            rank_bin.append(0)\n",
    "    rank_bin1.append(rank_bin)\n",
    "    \n",
    "    \n",
    "rank_bin1 = np.asarray(rank_bin1)   ##array of label matches and mismatches\n",
    "print(rank_bin1)"
   ]
  },
  {
   "cell_type": "code",
   "execution_count": 252,
   "metadata": {},
   "outputs": [
    {
     "name": "stdout",
     "output_type": "stream",
     "text": [
      "Accuracy\n",
      "rank 1: 0.4692857142857143\n",
      "rank 5: 0.6785714285714286\n",
      "rank 10: 0.7564285714285715\n"
     ]
    }
   ],
   "source": [
    "rank_1 = np.sum(rank_bin1[:,0])/1400\n",
    "r5 = rank_bin1[:,:5].sum(axis = 1)/5\n",
    "rank_5 = np.count_nonzero(r5)/1400\n",
    "r10 = rank_bin1[:,:10].sum(axis = 1)/5\n",
    "rank_10 = np.count_nonzero(r10)/1400\n",
    "\n",
    "print(\"Accuracy\")\n",
    "print(\"rank 1: %s\" % (rank_1))\n",
    "print(\"rank 5: %s\" % (rank_5))\n",
    "print(\"rank 10: %s\" % (rank_10))"
   ]
  },
  {
   "cell_type": "markdown",
   "metadata": {},
   "source": [
    "### Plotting PCA"
   ]
  },
  {
   "cell_type": "code",
   "execution_count": 245,
   "metadata": {},
   "outputs": [
    {
     "name": "stdout",
     "output_type": "stream",
     "text": [
      "(5324, 3)\n"
     ]
    },
    {
     "data": {
      "image/png": "[encoded data removed]",
      "text/plain": [
       "<matplotlib.figure.Figure at 0x18514a3be0>"
      ]
     },
     "metadata": {},
     "output_type": "display_data"
    }
   ],
   "source": [
    "import matplotlib.pyplot as plt\n",
    "from mpl_toolkits.mplot3d import Axes3D\n",
    "from pylab import *\n",
    "print(gallery_f_pca.shape)\n",
    "#fig1=plt.figure()\n",
    "#ax1=fig1.add_subplot(111, projection ='3d')\n",
    "figpca = plt.figure()\n",
    "ax=figpca.add_subplot(111, projection ='3d')\n",
    "xs1=gallery_f[:,0]\n",
    "ys1=gallery_f[:,1]\n",
    "zs1=gallery_f[:,2]\n",
    "xs=gallery_f_pca[2000:4000,0]\n",
    "ys=gallery_f_pca[2000:4000,1]\n",
    "zs=gallery_f_pca[2000:4000,2]\n",
    "xs2=gallery_f_pca[:2000,0]\n",
    "ys2=gallery_f_pca[:2000,1]\n",
    "zs2=gallery_f_pca[:2000,2]\n",
    "xs3=gallery_f_pca[4000:5324,0]\n",
    "ys3=gallery_f_pca[4000:5324,1]\n",
    "zs3=gallery_f_pca[4000:5324,2]\n",
    "#colmap = cm.ScalarMappable(cmap=cm.hsv)\n",
    "#colmap.set_array(zs)\n",
    "#cb1=fig1.colorbar(colmap)\n",
    "#cb = figpca.colorbar(colmap)\n",
    "ax.scatter(xs,ys,zs,c='g')\n",
    "ax.scatter(xs2,ys2,zs2,c='g')\n",
    "ax.scatter(xs3,ys3,zs3,c='g')\n",
    "#ax1.scatter(xs1,ys1,zs1,c='y')\n",
    "#ax1.set_xlabel('first component')\n",
    "#ax1.set_ylabel('second component')\n",
    "#ax1.set_zlabel('third component')\n",
    "ax.set_xlabel('PCA rep of 1st')\n",
    "ax.set_ylabel('PCA rep of 2nd')\n",
    "ax.set_zlabel('PCA rep of 3rd')\n",
    "#plt.savefig('without pca first 3 columns.png', format='png', dpi=300)\n",
    "plt.savefig('with pca first 3 columns.png', format='png', dpi=300)\n",
    "plt.show()\n"
   ]
  },
  {
   "cell_type": "markdown",
   "metadata": {},
   "source": [
    "## KPCA"
   ]
  },
  {
   "cell_type": "code",
   "execution_count": 133,
   "metadata": {},
   "outputs": [],
   "source": [
    "train_f = np.vstack((train_f.T, train_label, train_camid)) #transpose feature matrix to match dimensions \n",
    "\n",
    "train_f = train_f.T"
   ]
  },
  {
   "cell_type": "code",
   "execution_count": 134,
   "metadata": {},
   "outputs": [
    {
     "name": "stdout",
     "output_type": "stream",
     "text": [
      "(1400, 1, 10)\n",
      "--- 10420.601171970367 seconds ---\n",
      "(1400, 1, 10)\n"
     ]
    }
   ],
   "source": [
    "#kernelPCA with cosine \n",
    "\n",
    "\n",
    "k = 10 #number of nearest neighbors parameter\n",
    "\n",
    "rank = []\n",
    "distance = []\n",
    "idx = []\n",
    "\n",
    "import time\n",
    "start_time = time.time()\n",
    "\n",
    "##sqeuclidean instead of euclidean for computing efficientcy. As we are only interested in the ranklists\n",
    "##and not the actual values of the distances.\n",
    "\n",
    "for i in range (len(query[:,0])):\n",
    "    \n",
    "    ##getting rid of label/camid repetions \n",
    "    gallery_no_rep = gallery[~np.logical_and((gallery[:,-1] == query[i, -1]), (gallery[:,-2] == query[i, -2]))]\n",
    "    \n",
    "    query_f_test = query_f[i,:].reshape(1,-1)\n",
    "    query_f_kpca = kpca.transform(query_f_test)\n",
    "\n",
    "    gallery_f_kpca = kpca.transform(gallery_no_rep[:,:-2])\n",
    "    \n",
    "    NN = NearestNeighbors(n_neighbors = k, metric = 'sqeuclidean') #setting up NN\n",
    "    NN.fit(gallery_f_kpca, gallery_no_rep[:,-2])\n",
    "\n",
    "   \n",
    "    #query_f_test = query_f[i,:].reshape(1,-1)\n",
    "    distkpca, idxskpca = NN.kneighbors(query_f_kpca)\n",
    "    \n",
    "    distance.append(distkpca)\n",
    "    idx.append(idxskpca)\n",
    "\n",
    "distance = np.asarray(distance)\n",
    "idx = np.asarray(idx)\n",
    "\n",
    "print(idx.shape)\n",
    "\n",
    "##creating ranklist of predicted labels (1400x10)\n",
    "for i in range (len(query[:,0])):\n",
    "    row_rank = []\n",
    "    for j in range (len(idx[0,:])):\n",
    "        row_rank.append(gallery[idx[i,j],-2])\n",
    "    rank.append(row_rank)\n",
    "    \n",
    "rank = np.asarray(rank)     \n",
    "\n",
    "    \n",
    "print(\"--- %s seconds ---\" % (time.time() - start_time))\n",
    "\n",
    "print(rank.shape)"
   ]
  },
  {
   "cell_type": "code",
   "execution_count": 135,
   "metadata": {},
   "outputs": [
    {
     "name": "stdout",
     "output_type": "stream",
     "text": [
      "(1400, 10)\n",
      "[[1367.   51.  739. ... 1449.  115.  660.]\n",
      " [ 509.  232.  232. ...  509.  742.  171.]\n",
      " [   6.    6.    6. ...   76.  647.  675.]\n",
      " ...\n",
      " [1418. 1418. 1461. ... 1461. 1418. 1293.]\n",
      " [1463. 1463. 1463. ...  905. 1204.  884.]\n",
      " [1463. 1463.  884. ...  884.  879.  346.]]\n"
     ]
    }
   ],
   "source": [
    "rank = np.squeeze(rank)\n",
    "print(rank.shape)\n",
    "print(rank)"
   ]
  },
  {
   "cell_type": "code",
   "execution_count": 136,
   "metadata": {},
   "outputs": [
    {
     "name": "stdout",
     "output_type": "stream",
     "text": [
      "[[0 0 0 ... 0 0 0]\n",
      " [0 0 0 ... 0 0 0]\n",
      " [1 1 1 ... 0 0 0]\n",
      " ...\n",
      " [0 0 1 ... 1 0 0]\n",
      " [1 1 1 ... 0 0 0]\n",
      " [1 1 0 ... 0 0 0]]\n"
     ]
    }
   ],
   "source": [
    "query_label = query_label.reshape(1400,1)\n",
    "\n",
    "rank_bin1 = []\n",
    "\n",
    "for i in range (len(rank[:,0])):\n",
    "    rank_bin = []\n",
    "    for j in range (len(rank[0,:])): \n",
    "        if (rank[i,j] == query_label[i]):   ##if match, set 1, otherwise set 0\n",
    "            rank_bin.append(1)\n",
    "        else:\n",
    "            rank_bin.append(0)\n",
    "    rank_bin1.append(rank_bin)\n",
    "    \n",
    "    \n",
    "rank_bin1 = np.asarray(rank_bin1)   ##array of label matches and mismatches\n",
    "print(rank_bin1)"
   ]
  },
  {
   "cell_type": "code",
   "execution_count": 137,
   "metadata": {},
   "outputs": [
    {
     "name": "stdout",
     "output_type": "stream",
     "text": [
      "Accuracy\n",
      "rank 1: 0.4764285714285714\n",
      "rank 5: 0.6785714285714286\n",
      "rank 10: 0.7564285714285715\n"
     ]
    }
   ],
   "source": [
    "rank_1 = np.sum(rank_bin1[:,0])/1400\n",
    "r5 = rank_bin1[:,:5].sum(axis = 1)/5\n",
    "rank_5 = np.count_nonzero(r5)/1400\n",
    "r10 = rank_bin1[:,:10].sum(axis = 1)/5\n",
    "rank_10 = np.count_nonzero(r10)/1400\n",
    "\n",
    "print(\"Accuracy\")\n",
    "print(\"rank 1: %s\" % (rank_1))\n",
    "print(\"rank 5: %s\" % (rank_5))\n",
    "print(\"rank 10: %s\" % (rank_10))"
   ]
  },
  {
   "cell_type": "markdown",
   "metadata": {},
   "source": [
    "### LMNN"
   ]
  },
  {
   "cell_type": "code",
   "execution_count": null,
   "metadata": {},
   "outputs": [],
   "source": [
    "## large margin nearest neighbour "
   ]
  },
  {
   "cell_type": "code",
   "execution_count": 63,
   "metadata": {},
   "outputs": [],
   "source": [
    "# this is our data\n",
    "X = query_f\n",
    "# these are our constraints\n",
    "Y = gallery_f\n",
    "\n",
    "# function to plot the results\n",
    "def plot(X, Y):\n",
    "    x_min, x_max = X[:, 0].min() - .5, X[:, 0].max() + .5\n",
    "    y_min, y_max = X[:, 1].min() - .5, X[:, 1].max() + .5\n",
    "    plt.figure(2, figsize=(8, 6))\n",
    "\n",
    "    # clean the figure\n",
    "    plt.clf()\n",
    "\n",
    "    plt.scatter(X[:, 0], X[:, 1],cmap=plt.cm.Paired)\n",
    "    plt.xlabel('Sepal length')\n",
    "    plt.ylabel('Sepal width')\n",
    "\n",
    "    plt.xlim(x_min, x_max)\n",
    "    plt.ylim(y_min, y_max)\n",
    "    plt.xticks(())\n",
    "    plt.yticks(())\n",
    "\n",
    "    plt.show()\n",
    "    \n"
   ]
  },
  {
   "cell_type": "code",
   "execution_count": 128,
   "metadata": {},
   "outputs": [
    {
     "name": "stderr",
     "output_type": "stream",
     "text": [
      "/Users/adilzhannussipzhan/anaconda3/lib/python3.6/site-packages/metric_learn/lmnn.py:62: UserWarning: use_pca does nothing for the python_LMNN implementation\n",
      "  warnings.warn('use_pca does nothing for the python_LMNN implementation')\n"
     ]
    },
    {
     "name": "stdout",
     "output_type": "stream",
     "text": [
      "(1400, 1, 5)\n",
      "--- 2463.008589744568 seconds ---\n",
      "(1400, 1, 5)\n"
     ]
    }
   ],
   "source": [
    "from metric_learn import LMNN\n",
    "from mpl_toolkits.mplot3d import Axes3D\n",
    "\n",
    "k = 5 \n",
    "\n",
    "rank = []\n",
    "distance = []\n",
    "idx = []\n",
    "\n",
    "import time\n",
    "start_time = time.time()\n",
    "\n",
    "lmnn = LMNN(k,learn_rate = 1e-6)\n",
    "lmnn.fit(train_f, train_label)\n",
    "\n",
    "for i in range (len(query[:,0])):\n",
    "    \n",
    "    ##getting rid of label/camid repetions \n",
    "    gallery_no_rep = gallery[~np.logical_and((gallery[:,-1] == query[i, -1]), (gallery[:,-2] == query[i, -2]))]\n",
    "    \n",
    "    query_f_test = query_f[i,:].reshape(1,-1)\n",
    "    query_f_lmnn = lmnn.transform(query_f_test)\n",
    "\n",
    "    gallery_f_lmnn = lmnn.transform(gallery_no_rep[:,:-2])\n",
    "\n",
    "    \n",
    "    NN = NearestNeighbors(n_neighbors = k, metric = 'sqeuclidean') #setting up NN\n",
    "    NN.fit(gallery_f_lmnn, gallery_no_rep[:,-2])\n",
    "    \n",
    "    dist, idxs = NN.kneighbors(query_f_lmnn)\n",
    "    \n",
    "    distance.append(dist)\n",
    "    idx.append(idxs)\n",
    "\n",
    "distance = np.asarray(distance)\n",
    "idx = np.asarray(idx)\n",
    "\n",
    "print(idx.shape)\n",
    "\n",
    "##creating ranklist of predicted labels (1400x10)\n",
    "for i in range (len(query[:,0])):\n",
    "    row_rank = []\n",
    "    for j in range (len(idx[0,:])):\n",
    "        row_rank.append(gallery[idx[i,j],-2])\n",
    "    rank.append(row_rank)\n",
    "    \n",
    "rank = np.asarray(rank)     \n",
    "\n",
    "    \n",
    "print(\"--- %s seconds ---\" % (time.time() - start_time))\n",
    "\n",
    "print(rank.shape)"
   ]
  },
  {
   "cell_type": "code",
   "execution_count": 129,
   "metadata": {},
   "outputs": [
    {
     "name": "stdout",
     "output_type": "stream",
     "text": [
      "(1400, 5)\n",
      "[[1367. 1368.  739. 1367. 1367.]\n",
      " [ 509.  171.  232.  723.  232.]\n",
      " [   6.    6.    6.    6.   76.]\n",
      " ...\n",
      " [1418. 1418. 1461. 1418. 1418.]\n",
      " [1463. 1463. 1463.  905.  905.]\n",
      " [1463. 1463. 1463.  884.  884.]]\n"
     ]
    }
   ],
   "source": [
    "rank = np.squeeze(rank)\n",
    "print(rank.shape)\n",
    "print(rank)"
   ]
  },
  {
   "cell_type": "code",
   "execution_count": 130,
   "metadata": {
    "scrolled": true
   },
   "outputs": [
    {
     "name": "stdout",
     "output_type": "stream",
     "text": [
      "[[0 0 0 0 0]\n",
      " [0 0 0 0 0]\n",
      " [1 1 1 1 0]\n",
      " ...\n",
      " [0 0 1 0 0]\n",
      " [1 1 1 0 0]\n",
      " [1 1 1 0 0]]\n"
     ]
    }
   ],
   "source": [
    "query_label = query_label.reshape(1400,1)\n",
    "\n",
    "rank_bin1 = []\n",
    "\n",
    "for i in range (len(rank[:,0])):\n",
    "    rank_bin = []\n",
    "    for j in range (len(rank[0,:])): \n",
    "        if (rank[i,j] == query_label[i]):   ##if match, set 1, otherwise set 0\n",
    "            rank_bin.append(1)\n",
    "        else:\n",
    "            rank_bin.append(0)\n",
    "    rank_bin1.append(rank_bin)\n",
    "    \n",
    "    \n",
    "rank_bin1 = np.asarray(rank_bin1)   ##array of label matches and mismatches\n",
    "print(rank_bin1)"
   ]
  },
  {
   "cell_type": "code",
   "execution_count": 131,
   "metadata": {},
   "outputs": [
    {
     "name": "stdout",
     "output_type": "stream",
     "text": [
      "Accuracy\n",
      "rank 1: 0.45357142857142857\n",
      "rank 5: 0.665\n",
      "rank 10: 0.665\n"
     ]
    }
   ],
   "source": [
    "rank_1 = np.sum(rank_bin1[:,0])/1400\n",
    "r5 = rank_bin1[:,:5].sum(axis = 1)\n",
    "rank_5 = np.count_nonzero(r5)/1400\n",
    "r10 = rank_bin1[:,:10].sum(axis = 1)\n",
    "rank_10 = np.count_nonzero(r10)/1400\n",
    "\n",
    "print(\"Accuracy\")\n",
    "print(\"rank 1: %s\" % (rank_1))\n",
    "print(\"rank 5: %s\" % (rank_5))\n",
    "print(\"rank 10: %s\" % (rank_10))"
   ]
  }
 ],
 "metadata": {
  "kernelspec": {
   "display_name": "Python 3",
   "language": "python",
   "name": "python3"
  },
  "language_info": {
   "codemirror_mode": {
    "name": "ipython",
    "version": 3
   },
   "file_extension": ".py",
   "mimetype": "text/x-python",
   "name": "python",
   "nbconvert_exporter": "python",
   "pygments_lexer": "ipython3",
   "version": "3.6.4"
  }
 },
 "nbformat": 4,
 "nbformat_minor": 2
}
