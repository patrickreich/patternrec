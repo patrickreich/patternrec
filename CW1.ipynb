{
 "cells": [
  {
   "cell_type": "code",
   "execution_count": 1255,
   "metadata": {},
   "outputs": [],
   "source": [
    "import scipy.io as sc\n",
    "faces = sc.loadmat('face.mat')"
   ]
  },
  {
   "cell_type": "code",
   "execution_count": 1256,
   "metadata": {},
   "outputs": [
    {
     "data": {
      "text/plain": [
       "{'__header__': b'MATLAB 5.0 MAT-file, Platform: PCWIN, Created on: Sat May 27 02:07:24 2006',\n",
       " '__version__': '1.0',\n",
       " '__globals__': [],\n",
       " 'X': array([[106, 130, 191, ...,  70, 183,  77],\n",
       "        [103, 129, 185, ...,  62, 250,  72],\n",
       "        [103, 130, 174, ...,  83, 163,  68],\n",
       "        ...,\n",
       "        [ 37,  40,  22, ...,  87, 102,  93],\n",
       "        [ 36,  36,  19, ...,  89,  95, 103],\n",
       "        [ 41,  35,  17, ...,  94, 106, 110]], dtype=uint8),\n",
       " 'l': array([[ 1,  1,  1,  1,  1,  1,  1,  1,  1,  1,  2,  2,  2,  2,  2,  2,\n",
       "          2,  2,  2,  2,  3,  3,  3,  3,  3,  3,  3,  3,  3,  3,  4,  4,\n",
       "          4,  4,  4,  4,  4,  4,  4,  4,  5,  5,  5,  5,  5,  5,  5,  5,\n",
       "          5,  5,  6,  6,  6,  6,  6,  6,  6,  6,  6,  6,  7,  7,  7,  7,\n",
       "          7,  7,  7,  7,  7,  7,  8,  8,  8,  8,  8,  8,  8,  8,  8,  8,\n",
       "          9,  9,  9,  9,  9,  9,  9,  9,  9,  9, 10, 10, 10, 10, 10, 10,\n",
       "         10, 10, 10, 10, 11, 11, 11, 11, 11, 11, 11, 11, 11, 11, 12, 12,\n",
       "         12, 12, 12, 12, 12, 12, 12, 12, 13, 13, 13, 13, 13, 13, 13, 13,\n",
       "         13, 13, 14, 14, 14, 14, 14, 14, 14, 14, 14, 14, 15, 15, 15, 15,\n",
       "         15, 15, 15, 15, 15, 15, 16, 16, 16, 16, 16, 16, 16, 16, 16, 16,\n",
       "         17, 17, 17, 17, 17, 17, 17, 17, 17, 17, 18, 18, 18, 18, 18, 18,\n",
       "         18, 18, 18, 18, 19, 19, 19, 19, 19, 19, 19, 19, 19, 19, 20, 20,\n",
       "         20, 20, 20, 20, 20, 20, 20, 20, 21, 21, 21, 21, 21, 21, 21, 21,\n",
       "         21, 21, 22, 22, 22, 22, 22, 22, 22, 22, 22, 22, 23, 23, 23, 23,\n",
       "         23, 23, 23, 23, 23, 23, 24, 24, 24, 24, 24, 24, 24, 24, 24, 24,\n",
       "         25, 25, 25, 25, 25, 25, 25, 25, 25, 25, 26, 26, 26, 26, 26, 26,\n",
       "         26, 26, 26, 26, 27, 27, 27, 27, 27, 27, 27, 27, 27, 27, 28, 28,\n",
       "         28, 28, 28, 28, 28, 28, 28, 28, 29, 29, 29, 29, 29, 29, 29, 29,\n",
       "         29, 29, 30, 30, 30, 30, 30, 30, 30, 30, 30, 30, 31, 31, 31, 31,\n",
       "         31, 31, 31, 31, 31, 31, 32, 32, 32, 32, 32, 32, 32, 32, 32, 32,\n",
       "         33, 33, 33, 33, 33, 33, 33, 33, 33, 33, 34, 34, 34, 34, 34, 34,\n",
       "         34, 34, 34, 34, 35, 35, 35, 35, 35, 35, 35, 35, 35, 35, 36, 36,\n",
       "         36, 36, 36, 36, 36, 36, 36, 36, 37, 37, 37, 37, 37, 37, 37, 37,\n",
       "         37, 37, 38, 38, 38, 38, 38, 38, 38, 38, 38, 38, 39, 39, 39, 39,\n",
       "         39, 39, 39, 39, 39, 39, 40, 40, 40, 40, 40, 40, 40, 40, 40, 40,\n",
       "         41, 41, 41, 41, 41, 41, 41, 41, 41, 41, 42, 42, 42, 42, 42, 42,\n",
       "         42, 42, 42, 42, 43, 43, 43, 43, 43, 43, 43, 43, 43, 43, 44, 44,\n",
       "         44, 44, 44, 44, 44, 44, 44, 44, 45, 45, 45, 45, 45, 45, 45, 45,\n",
       "         45, 45, 46, 46, 46, 46, 46, 46, 46, 46, 46, 46, 47, 47, 47, 47,\n",
       "         47, 47, 47, 47, 47, 47, 48, 48, 48, 48, 48, 48, 48, 48, 48, 48,\n",
       "         49, 49, 49, 49, 49, 49, 49, 49, 49, 49, 50, 50, 50, 50, 50, 50,\n",
       "         50, 50, 50, 50, 51, 51, 51, 51, 51, 51, 51, 51, 51, 51, 52, 52,\n",
       "         52, 52, 52, 52, 52, 52, 52, 52]], dtype=uint8)}"
      ]
     },
     "execution_count": 1256,
     "metadata": {},
     "output_type": "execute_result"
    }
   ],
   "source": [
    "import scipy.io as sio\n",
    "import numpy as np\n",
    "import matplotlib.pyplot as plt\n",
    "faces_content = sio.loadmat('face.mat')\n",
    "faces_content\n"
   ]
  },
  {
   "cell_type": "markdown",
   "metadata": {},
   "source": [
    "## Now we will split data into training and test using ratio of 80%-20%"
   ]
  },
  {
   "cell_type": "code",
   "execution_count": 1257,
   "metadata": {},
   "outputs": [
    {
     "name": "stdout",
     "output_type": "stream",
     "text": [
      "[[221  99  58 ...  93 227 100]\n",
      " [225 100  58 ...  95 232 102]\n",
      " [226 100  57 ...  81 235 132]\n",
      " ...\n",
      " [ 79 114 167 ...  88  43  44]\n",
      " [ 78 118 171 ... 100  45  44]\n",
      " [ 80 120 171 ...  91  46  47]]\n",
      "[[38 40  6 28  7 41 32 24  8 22  1 44 36 30 32 51 48 17  1 25 46  1 42 47\n",
      "  23 33 18 33 20 15 13 46  6 20 42 44 52 42 28  6 50 22  4 39 30 21 20  6\n",
      "   8  3 22  1 46 43 40  1 15 27 14 22 13  3  7  3 48  2 18 41 48 20  7 52\n",
      "  26  9 38 32 19 51 49 17 51 40 21 23 34 51  6 20 25 31 36 17 11 34  7 37\n",
      "  19 46 47 32  9 44 35 42 10 52 49 46 30 10  2 35 20 15 16 16 50 51 17  9\n",
      "  25 29  7 33 32 15 11 42  1 44 23  2 15 28 52  4 12 49 11 28 33 18 27 12\n",
      "  17 45 13 41 12 38 37 35 14 37 26 30 41 42 26 24 14  4 51  5  7 20 29 48\n",
      "  31 22  8  4 31  3 39 52 49 22  3 36 31 16 36 37 14 22 11 42 37 40 22 41\n",
      "  19 22 45 21 24 26  7  3 22 31 23 13 12 17 45 42  5 28 46  8 33 34  2 29\n",
      "  44 26 23 17  9 12 51 12 15 16  2 36 34 11 38 14 24 27 41 32 33 43 25 35\n",
      "  41  2 33 30 27 23 41  1 37 13 29 29  8 19 44 51 28 30 50 19 48  9 31 26\n",
      "   2 37 40  9 27  4 52  6  5 28  6 21 43 47 45 13 23  7 40 38 14 19  3 40\n",
      "   5 47  1 39 21 37 46 10 39 35 31 30 18 37 26 10 50 10 48 17  7 31  5 35\n",
      "  38 40 21 28 23 15 15 34 19 36 14 48  5 27 33 21  9 43 13 52 47 50 49 39\n",
      "  10  9 44 27 12 36 30  6 43 33 26 38 48 45  5 11 39 50 28 48  4 39  6 43\n",
      "  47 13 30  3 19 38 46 17 16 25 21  4  4 13 19 51 45 29 43 40 49 15 29 50\n",
      "  18 52 10 34 45 44 34 20 25 47 12 41 27  8 34  3 17 34  9 18  9  4 49 20\n",
      "  32 40 48  8 28  1 36 20]]\n",
      "[[43 11 26 24 32  2 14 27 39 10 44 42 16 45 38  8 33 14 43 30  4 10 35 24\n",
      "  36 23  5 35 21  3  5 31 32 18 50 11 16 49 49 18 16 25 35 51 32 35 27 25\n",
      "  16 50 14 47 13 23 37  1  8  2 12 26 47 24 19 24 15 25 11 38  8 46 41 29\n",
      "   2 43 31 39 29  7 45 36 10 12 25 42 46 39 52 18 49 29 52 34 24 50 21 45\n",
      "  44 18  6 24 47  5 11 16]]\n"
     ]
    },
    {
     "data": {
      "text/plain": [
       "<matplotlib.image.AxesImage at 0x1a2b0ae438>"
      ]
     },
     "execution_count": 1257,
     "metadata": {},
     "output_type": "execute_result"
    },
    {
     "data": {
      "image/png": "[encoded data removed]",
      "text/plain": [
       "<Figure size 432x288 with 1 Axes>"
      ]
     },
     "metadata": {},
     "output_type": "display_data"
    }
   ],
   "source": [
    "from sklearn.utils import shuffle\n",
    "from sklearn.model_selection import train_test_split\n",
    "import collections \n",
    "from itertools import groupby\n",
    "\n",
    "face_data = faces_content['X']\n",
    "face_id = faces_content['l']\n",
    "\n",
    "X_train, X_test = train_test_split(face_data.T, test_size = 0.2, random_state = 0)\n",
    "Y_train, Y_test = train_test_split(face_id.T, test_size = 0.2, random_state = 0)\n",
    "\n",
    "face_train = X_train.T\n",
    "face_train_id = Y_train.T\n",
    "face_test = X_test.T\n",
    "face_test_id = Y_test.T\n",
    "\n",
    "print(face_train)\n",
    "print(face_train_id)\n",
    "print(face_test_id)\n",
    "\n",
    "face_5 = np.reshape(face_train[:,27],(46,56))\n",
    "plt.imshow(face_5.T, cmap = 'gist_gray')\n",
    "\n",
    "#face_n = np.reshape(face_data[:,379],(46,56))\n",
    "#plt.imshow(face_n.T, cmap = 'gist_gray')\n",
    "\n",
    "#idx_trainid=np.argsort(np.abs(face_train_id)) #sort the eigenavalues in descending order\n",
    "#face_train_id_sort = face_train_id[idx_trainid]\n",
    "\n",
    "\n",
    "    "
   ]
  },
  {
   "cell_type": "markdown",
   "metadata": {},
   "source": [
    "### Seing How Evenly split the data is"
   ]
  },
  {
   "cell_type": "code",
   "execution_count": 1258,
   "metadata": {},
   "outputs": [
    {
     "name": "stdout",
     "output_type": "stream",
     "text": [
      "[[ 1  1  1  1  1  1  1  1  1  2  2  2  2  2  2  2  3  3  3  3  3  3  3  3\n",
      "   3  4  4  4  4  4  4  4  4  4  5  5  5  5  5  5  5  6  6  6  6  6  6  6\n",
      "   6  6  7  7  7  7  7  7  7  7  7  8  8  8  8  8  8  8  9  9  9  9  9  9\n",
      "   9  9  9  9 10 10 10 10 10 10 10 11 11 11 11 11 11 12 12 12 12 12 12 12\n",
      "  12 13 13 13 13 13 13 13 13 13 14 14 14 14 14 14 14 15 15 15 15 15 15 15\n",
      "  15 15 16 16 16 16 16 17 17 17 17 17 17 17 17 17 17 18 18 18 18 18 18 19\n",
      "  19 19 19 19 19 19 19 19 20 20 20 20 20 20 20 20 20 20 21 21 21 21 21 21\n",
      "  21 21 22 22 22 22 22 22 22 22 22 22 23 23 23 23 23 23 23 23 24 24 24 24\n",
      "  25 25 25 25 25 25 26 26 26 26 26 26 26 26 27 27 27 27 27 27 27 27 28 28\n",
      "  28 28 28 28 28 28 28 28 29 29 29 29 29 29 29 30 30 30 30 30 30 30 30 30\n",
      "  31 31 31 31 31 31 31 31 32 32 32 32 32 32 32 33 33 33 33 33 33 33 33 33\n",
      "  34 34 34 34 34 34 34 34 34 35 35 35 35 35 35 36 36 36 36 36 36 36 36 37\n",
      "  37 37 37 37 37 37 37 37 38 38 38 38 38 38 38 38 39 39 39 39 39 39 39 40\n",
      "  40 40 40 40 40 40 40 40 40 41 41 41 41 41 41 41 41 41 42 42 42 42 42 42\n",
      "  42 42 43 43 43 43 43 43 43 44 44 44 44 44 44 44 44 45 45 45 45 45 45 45\n",
      "  46 46 46 46 46 46 46 46 47 47 47 47 47 47 47 48 48 48 48 48 48 48 48 48\n",
      "  48 49 49 49 49 49 49 49 50 50 50 50 50 50 50 51 51 51 51 51 51 51 51 51\n",
      "  52 52 52 52 52 52 52 52]]\n",
      "[ 9  7  9  9  7  9  9  7 10  7  6  8  9  7  9  5 10  6  9 10  8 10  8  4\n",
      "  6  8  8 10  7  9  8  7  9  9  6  8  9  8  7 10  9  8  7  8  7  8  7 10\n",
      "  7  7  9  8]\n"
     ]
    }
   ],
   "source": [
    "from itertools import groupby\n",
    "reps = []\n",
    "\n",
    "face_train_id_sorted = np.sort(face_train_id) #sort the train ids in order\n",
    "print(face_train_id_sorted)\n",
    "\n",
    "for i in range (1, 53):\n",
    "    count = 0\n",
    "    for j in range(0, 416):\n",
    "        if (face_train_id_sorted.ravel()[j] == i):\n",
    "            count += 1\n",
    "    reps.append(count)\n",
    "    \n",
    "reps_l = np.asarray(reps)\n",
    "\n",
    "print(reps_l)      \n"
   ]
  },
  {
   "cell_type": "code",
   "execution_count": 1259,
   "metadata": {},
   "outputs": [
    {
     "name": "stdout",
     "output_type": "stream",
     "text": [
      "[ 0  1  2  3  4  5  6  7  8  9 10 11 12 13 14 15 16 17 18 19 20 21 22 23\n",
      " 24 25 26 27 28 29 30 31 32 33 34 35 36 37 38 39 40 41 42 43 44 45 46 47\n",
      " 48 49 50 51]\n"
     ]
    },
    {
     "data": {
      "image/png": "[encoded data removed]",
      "text/plain": [
       "<Figure size 432x288 with 1 Axes>"
      ]
     },
     "metadata": {},
     "output_type": "display_data"
    },
    {
     "name": "stdout",
     "output_type": "stream",
     "text": [
      "8.0\n"
     ]
    }
   ],
   "source": [
    "plt.figure()\n",
    "plt.axis([0,52, 0, 10])\n",
    "index = np.arange(len(reps_l))\n",
    "print (index)\n",
    "plt.bar(index+1, reps_l, color = 'g', edgecolor = 'w')\n",
    "plt.title('Number of images in training set for each respective class')\n",
    "plt.ylabel('Number of images in training set')\n",
    "plt.xlabel('Class')\n",
    "plt.grid(False)\n",
    "plt.savefig('NumberOfReps.pdf', format='pdf', dpi=300)\n",
    "plt.show()\n",
    "\n",
    "\n",
    "avg = sum(reps_l)/len(reps_l)\n",
    "print(avg)"
   ]
  },
  {
   "cell_type": "markdown",
   "metadata": {},
   "source": [
    "# Question 1: PCA"
   ]
  },
  {
   "cell_type": "markdown",
   "metadata": {
    "collapsed": true
   },
   "source": [
    "### As can be seen, the training data of pixels corresponds to the training data of IDs. Next up, we will perform PCA, ie find the eigenvectors and eigenvalues. We don't need to normalise and centralise the data."
   ]
  },
  {
   "cell_type": "code",
   "execution_count": 1260,
   "metadata": {},
   "outputs": [
    {
     "name": "stdout",
     "output_type": "stream",
     "text": [
      "(2576,)\n",
      "(2576,)\n"
     ]
    },
    {
     "data": {
      "image/png": "[encoded data removed]",
      "text/plain": [
       "<Figure size 432x288 with 1 Axes>"
      ]
     },
     "metadata": {},
     "output_type": "display_data"
    }
   ],
   "source": [
    "average_face=np.average(face_train.T, axis = 0)\n",
    "print(average_face.shape)\n",
    "face_aver = np.reshape(average_face,(46,56))\n",
    "plt.imshow(face_aver.T, cmap = 'gist_gray')\n",
    "\n",
    "average_face_test = np.average(face_test.T, axis = 0)\n",
    "print(average_face_test.shape)\n",
    "#face_aver_test = np.reshape(average_face_test,(46,56))\n",
    "#plt.imshow(face_aver_test.T, cmap = 'gist_gray')"
   ]
  },
  {
   "cell_type": "markdown",
   "metadata": {},
   "source": [
    "### Average looks alright"
   ]
  },
  {
   "cell_type": "code",
   "execution_count": 1261,
   "metadata": {},
   "outputs": [
    {
     "name": "stdout",
     "output_type": "stream",
     "text": [
      "(2576, 416)\n",
      "suka\n",
      "[[ 97.05288462 -24.94711538 -65.94711538 ... -30.94711538 103.05288462\n",
      "  -23.94711538]\n",
      " [101.25480769 -23.74519231 -65.74519231 ... -28.74519231 108.25480769\n",
      "  -21.74519231]\n",
      " [105.19471154 -20.80528846 -63.80528846 ... -39.80528846 114.19471154\n",
      "   11.19471154]\n",
      " ...\n",
      " [ -7.82932692  27.17067308  80.17067308 ...   1.17067308 -43.82932692\n",
      "  -42.82932692]\n",
      " [ -6.69471154  33.30528846  86.30528846 ...  15.30528846 -39.69471154\n",
      "  -40.69471154]\n",
      " [ -3.04086538  36.95913462  87.95913462 ...   7.95913462 -37.04086538\n",
      "  -36.04086538]]\n",
      "(2576, 416)\n"
     ]
    }
   ],
   "source": [
    "norm_face_t = face_train.T - average_face.T\n",
    "norm_face = norm_face_t.T\n",
    "print(norm_face.shape)\n",
    "print('suka')\n",
    "print(norm_face)\n",
    "print(norm_face.shape)"
   ]
  },
  {
   "cell_type": "markdown",
   "metadata": {},
   "source": [
    "### Covariance Matrix S"
   ]
  },
  {
   "cell_type": "code",
   "execution_count": 1262,
   "metadata": {},
   "outputs": [
    {
     "name": "stdout",
     "output_type": "stream",
     "text": [
      "[[2717.76643399 2574.59950536 2344.8671066  ... -539.14123752\n",
      "  -585.75412583 -572.52908885]\n",
      " [2574.59950536 2794.33891919 2634.29894369 ... -533.05550804\n",
      "  -576.92153985 -569.14824103]\n",
      " [2344.8671066  2634.29894369 2752.85872203 ... -530.12457817\n",
      "  -569.28540472 -551.53050458]\n",
      " ...\n",
      " [-539.14123752 -533.05550804 -530.12457817 ... 2877.43000532\n",
      "  2743.60654933 2622.85312847]\n",
      " [-585.75412583 -576.92153985 -569.28540472 ... 2743.60654933\n",
      "  2963.05343357 2858.15430265]\n",
      " [-572.52908885 -569.14824103 -551.53050458 ... 2622.85312847\n",
      "  2858.15430265 3003.77958002]]\n",
      "(2576, 2576)\n"
     ]
    }
   ],
   "source": [
    "N=416\n",
    "\n",
    "S = np.dot(norm_face,norm_face.T)/N\n",
    "print(S)\n",
    "print(S.shape)"
   ]
  },
  {
   "cell_type": "markdown",
   "metadata": {},
   "source": [
    "### Find eigvals and eigvecs of S\n"
   ]
  },
  {
   "cell_type": "code",
   "execution_count": 1263,
   "metadata": {},
   "outputs": [
    {
     "name": "stdout",
     "output_type": "stream",
     "text": [
      "[ 9.56846588e+05+0.0000000e+00j  5.31930209e+05+0.0000000e+00j\n",
      "  4.55028542e+05+0.0000000e+00j ...  2.33215619e-13+5.2746482e-14j\n",
      "  2.33215619e-13-5.2746482e-14j -7.96684020e-14+0.0000000e+00j]\n",
      "suka\n",
      "[[-1.14878149e-02+0.j          1.78896422e-02+0.j\n",
      "  -1.52988695e-02+0.j         ... -3.74288638e-05+0.00123131j\n",
      "  -3.74288638e-05-0.00123131j -4.79804257e-04+0.j        ]\n",
      " [-1.24027394e-02+0.j          1.75147272e-02+0.j\n",
      "  -1.62413323e-02+0.j         ... -1.90379107e-04+0.00040518j\n",
      "  -1.90379107e-04-0.00040518j -4.06430253e-04+0.j        ]\n",
      " [-1.30041096e-02+0.j          1.65703203e-02+0.j\n",
      "  -1.86062571e-02+0.j         ... -1.62617279e-04+0.00039535j\n",
      "  -1.62617279e-04-0.00039535j -4.34285555e-05+0.j        ]\n",
      " ...\n",
      " [ 2.85477901e-03+0.j         -4.96944794e-02+0.j\n",
      "  -1.62049717e-03+0.j         ... -9.37833049e-03+0.01602432j\n",
      "  -9.37833049e-03-0.01602432j -7.49886640e-03+0.j        ]\n",
      " [ 2.64786517e-03+0.j         -4.86687095e-02+0.j\n",
      "  -1.53852128e-03+0.j         ... -4.37742162e-03-0.00977295j\n",
      "  -4.37742162e-03+0.00977295j -5.74605506e-03+0.j        ]\n",
      " [ 2.25930783e-03+0.j         -4.97091470e-02+0.j\n",
      "  -6.67263909e-05+0.j         ... -2.51831932e-03-0.008388j\n",
      "  -2.51831932e-03+0.008388j    7.99009499e-03+0.j        ]]\n",
      "(2576,)\n",
      "(2576, 2576)\n",
      "--- 13.011330127716064 seconds ---\n"
     ]
    },
    {
     "name": "stderr",
     "output_type": "stream",
     "text": [
      "/Users/Freshbox/anaconda3/lib/python3.7/site-packages/ipykernel_launcher.py:14: ComplexWarning: Casting complex values to real discards the imaginary part\n",
      "  \n"
     ]
    }
   ],
   "source": [
    "import time\n",
    "start_time = time.time()\n",
    "\n",
    "eigvals, eigvecs = np.linalg.eig(S)\n",
    "\n",
    "print(eigvals)\n",
    "print('suka')\n",
    "print(eigvecs)\n",
    "print(eigvals.shape)\n",
    "print(eigvecs.shape)\n",
    "\n",
    "print(\"--- %s seconds ---\" % (time.time() - start_time))\n",
    "\n",
    "eigvecs_float = eigvecs.astype('float64')"
   ]
  },
  {
   "cell_type": "markdown",
   "metadata": {},
   "source": [
    "### Plotting eigvals of S"
   ]
  },
  {
   "cell_type": "code",
   "execution_count": 1264,
   "metadata": {},
   "outputs": [
    {
     "name": "stderr",
     "output_type": "stream",
     "text": [
      "/Users/Freshbox/anaconda3/lib/python3.7/site-packages/matplotlib/transforms.py:841: ComplexWarning: Casting complex values to real discards the imaginary part\n",
      "  points = np.array(args, dtype=float).reshape(2, 2)\n"
     ]
    },
    {
     "data": {
      "image/png": "[encoded data removed]",
      "text/plain": [
       "<Figure size 432x288 with 1 Axes>"
      ]
     },
     "metadata": {},
     "output_type": "display_data"
    }
   ],
   "source": [
    "plt.figure()\n",
    "plt.axis([-10,416, -10000, 1000000])\n",
    "index = np.arange(len(eigvals))\n",
    "plt.bar(index, eigvals, edgecolor = 'g')\n",
    "plt.title('Eigenvalues as a function of M')\n",
    "plt.ylabel('Eigenvalue')\n",
    "plt.xlabel('M')\n",
    "plt.grid(True)\n",
    "plt.savefig('Eigvals.pdf', format='pdf', dpi=300)\n",
    "plt.show()"
   ]
  },
  {
   "cell_type": "markdown",
   "metadata": {},
   "source": [
    "### Finding the right M"
   ]
  },
  {
   "cell_type": "code",
   "execution_count": 1265,
   "metadata": {},
   "outputs": [
    {
     "name": "stdout",
     "output_type": "stream",
     "text": [
      "[ 9.56846588e+05+0.00000000e+00j  5.31930209e+05+0.00000000e+00j\n",
      "  4.55028542e+05+0.00000000e+00j ...  2.64761094e-14+1.12638798e-13j\n",
      "  2.64761094e-14-1.12638798e-13j -7.96684020e-14+0.00000000e+00j]\n",
      "[[-1.14878149e-02+0.j          1.78896422e-02+0.j\n",
      "  -1.52988695e-02+0.j         ... -3.74288638e-05+0.00123131j\n",
      "  -3.74288638e-05-0.00123131j -4.79804257e-04+0.j        ]\n",
      " [-1.24027394e-02+0.j          1.75147272e-02+0.j\n",
      "  -1.62413323e-02+0.j         ... -1.90379107e-04+0.00040518j\n",
      "  -1.90379107e-04-0.00040518j -4.06430253e-04+0.j        ]\n",
      " [-1.30041096e-02+0.j          1.65703203e-02+0.j\n",
      "  -1.86062571e-02+0.j         ... -1.62617279e-04+0.00039535j\n",
      "  -1.62617279e-04-0.00039535j -4.34285555e-05+0.j        ]\n",
      " ...\n",
      " [ 1.71548238e-03+0.j         -4.78414604e-02+0.j\n",
      "  -1.14228590e-04+0.j         ... -7.70919765e-03+0.02043041j\n",
      "  -7.70919765e-03-0.02043041j -3.04643776e-02+0.j        ]\n",
      " [ 2.78029560e-03+0.j         -4.90756773e-02+0.j\n",
      "  -8.74324780e-04+0.j         ...  2.61798322e-02+0.00222233j\n",
      "   2.61798322e-02-0.00222233j -3.79674337e-04+0.j        ]\n",
      " [ 2.25930783e-03+0.j         -4.97091470e-02+0.j\n",
      "  -6.67263909e-05+0.j         ... -2.51831932e-03-0.008388j\n",
      "  -2.51831932e-03+0.008388j    7.99009499e-03+0.j        ]]\n",
      "(4453595.684160045+0j)\n",
      "(0.7056450621729969+0j)\n",
      "(0.8012852161774592+0j)\n",
      "(0.9005966529737048+0j)\n",
      "(0.9500941016674986+0j)\n",
      "(0.9900387805431519+0j)\n"
     ]
    }
   ],
   "source": [
    "idx=np.argsort(np.abs(eigvals))[::-1] #sort the eigenavalues in descending order\n",
    "eigvals_sort = eigvals[idx]\n",
    "print(eigvals_sort)\n",
    "eigvecs_sort = eigvecs[idx]\n",
    "print(eigvecs_sort)\n",
    "\n",
    "\n",
    "\n",
    "b = sum(eigvals)\n",
    "print(b)\n",
    "\n",
    "b_14 = sum(eigvals[0:13]) #13 eigenvalues give 70.56% reconstruction accuracy\n",
    "print(b_14/b)\n",
    "\n",
    "b_27 = sum(eigvals[0:26]) #13 eigenvalues give 80.12% reconstruction accuracy\n",
    "print(b_27/b)\n",
    "\n",
    "b_66 = sum(eigvals[0:65]) #13 eigenvalues give 90.06% reconstruction accuracy\n",
    "print(b_66/b)\n",
    "\n",
    "b_123 = sum(eigvals[0:122]) #13 eigenvalues give 95.01% reconstruction accuracy\n",
    "print(b_123/b)\n",
    "\n",
    "b_270 = sum(eigvals[0:269]) #13 eigenvalues give 99.00% reconstruction accuracy\n",
    "print(b_270/b)\n",
    "\n"
   ]
  },
  {
   "cell_type": "markdown",
   "metadata": {},
   "source": [
    "## Low-dimensional computation of eigenspace"
   ]
  },
  {
   "cell_type": "markdown",
   "metadata": {},
   "source": [
    "### Covariance S for low-dimensional"
   ]
  },
  {
   "cell_type": "code",
   "execution_count": 1266,
   "metadata": {},
   "outputs": [
    {
     "name": "stdout",
     "output_type": "stream",
     "text": [
      "[[11120.31315522 -2214.71980521  1658.43828234 ...  3244.83321809\n",
      "   2407.66392607 -2700.20243511]\n",
      " [-2214.71980521  8490.92992667  -794.74371655 ... -2851.31993465\n",
      "    514.4675041  -1111.58876092]\n",
      " [ 1658.43828234  -794.74371655 12801.05139024 ...  7184.66988368\n",
      "  -2507.10277373 -2554.08932722]\n",
      " ...\n",
      " [ 3244.83321809 -2851.31993465  7184.66988368 ... 10984.01433865\n",
      "  -1217.92658799 -3357.46842993]\n",
      " [ 2407.66392607   514.4675041  -2507.10277373 ... -1217.92658799\n",
      "   8587.78633153   583.93198958]\n",
      " [-2700.20243511 -1111.58876092 -2554.08932722 ... -3357.46842993\n",
      "    583.93198958 10609.20985918]]\n",
      "(416, 416)\n"
     ]
    }
   ],
   "source": [
    "N=416\n",
    "\n",
    "S_l = np.dot(norm_face.T, norm_face)/N\n",
    "print(S_l)\n",
    "print(S_l.shape)"
   ]
  },
  {
   "cell_type": "markdown",
   "metadata": {},
   "source": [
    "### find eigvals and eigvecs of low-dimensional "
   ]
  },
  {
   "cell_type": "code",
   "execution_count": 1267,
   "metadata": {},
   "outputs": [
    {
     "name": "stdout",
     "output_type": "stream",
     "text": [
      "--- 0.23734521865844727 seconds ---\n",
      "[ 9.56846588e+05  5.31930209e+05  4.55028542e+05  2.47519052e+05\n",
      "  2.17529060e+05  1.50795820e+05  1.25404454e+05  1.08171761e+05\n",
      "  9.18498578e+04  8.05238976e+04  6.36102099e+04  5.77240021e+04\n",
      "  5.57243495e+04  5.19129505e+04  4.47718605e+04  4.31749014e+04\n",
      "  3.64876109e+04  3.50021286e+04  3.40560838e+04  3.05874009e+04\n",
      "  2.88847080e+04  2.61001995e+04  2.56341239e+04  2.44990669e+04\n",
      "  2.35450175e+04  2.12865247e+04  2.06115479e+04  1.93673065e+04\n",
      "  1.89236049e+04  1.86146507e+04  1.79129756e+04  1.67184004e+04\n",
      "  1.58131487e+04  1.55308035e+04  1.49946296e+04  1.35850897e+04\n",
      "  1.34292370e+04  1.31343746e+04  1.26001094e+04  1.26542655e+04\n",
      "  1.21000313e+04  1.18295913e+04  1.09578825e+04  1.06277944e+04\n",
      "  1.04290716e+04  1.00995160e+04  9.96023898e+03  9.65659389e+03\n",
      "  9.49928860e+03  9.32976629e+03  8.96974821e+03  8.83025841e+03\n",
      "  8.56746244e+03  8.34148517e+03  8.07180128e+03  7.89363256e+03\n",
      "  7.70072242e+03  7.68016086e+03  7.36615272e+03  7.29063341e+03\n",
      "  6.98979097e+03  6.75036454e+03  6.63617135e+03  6.54093958e+03\n",
      "  6.28374332e+03  6.21721304e+03  6.00962617e+03  5.94352109e+03\n",
      "  5.86072545e+03  5.73856397e+03  5.37097583e+03  5.50379817e+03\n",
      "  5.47492383e+03 -7.06164169e-12  5.21101427e+03  5.11320385e+03\n",
      "  4.94271145e+03  4.92319406e+03  4.83865468e+03  4.81534619e+03\n",
      "  4.68885155e+03  4.60258919e+03  4.48860866e+03  4.33368446e+03\n",
      "  4.29234649e+03  4.23525549e+03  4.18917122e+03  4.12321766e+03\n",
      "  4.04448642e+03  3.93567895e+03  3.89550372e+03  3.86123846e+03\n",
      "  3.77835850e+03  3.72892104e+03  3.66832575e+03  3.57804380e+03\n",
      "  3.54411412e+03  3.47756887e+03  3.44112406e+03  3.35696787e+03\n",
      "  3.32456700e+03  3.27105777e+03  2.98645213e+03  3.02862456e+03\n",
      "  3.19574625e+03  3.07945468e+03  3.13233987e+03  3.15564461e+03\n",
      "  2.94060393e+03  2.87706236e+03  2.81861839e+03  2.78891139e+03\n",
      "  2.75465012e+03  2.73012253e+03  2.70916253e+03  2.63036900e+03\n",
      "  2.66934110e+03  2.66666564e+03  2.55080787e+03  2.53275912e+03\n",
      "  2.49686602e+03  2.10655837e+03  2.44962207e+03  2.42464665e+03\n",
      "  2.40234021e+03  2.39523802e+03  2.36317713e+03  2.33252287e+03\n",
      "  2.32361817e+03  2.14717942e+03  2.27619453e+03  2.18142214e+03\n",
      "  2.21283572e+03  2.23395474e+03  2.22287468e+03  2.08930300e+03\n",
      "  2.04711570e+03  2.02069310e+03  2.01157024e+03  1.97827377e+03\n",
      "  1.94462944e+03  1.94066922e+03  1.90904079e+03  1.88516771e+03\n",
      "  1.86055972e+03  1.83079932e+03  1.81775555e+03  1.68091098e+03\n",
      "  1.79166255e+03  1.69863308e+03  1.77668665e+03  1.72061547e+03\n",
      "  1.72968311e+03  1.75518033e+03  1.75238891e+03  1.65320048e+03\n",
      "  1.64784146e+03  1.62994922e+03  1.60676938e+03  1.58129582e+03\n",
      "  1.55975635e+03  1.54918583e+03  1.52830294e+03  1.38235415e+03\n",
      "  1.50437827e+03  1.48953751e+03  1.47269882e+03  1.44876681e+03\n",
      "  1.41194513e+03  1.41859155e+03  1.43905705e+03  1.42972779e+03\n",
      "  1.36622270e+03  1.35839357e+03  1.33090294e+03  1.31396798e+03\n",
      "  1.31067421e+03  1.30280793e+03  1.29109484e+03  1.27647760e+03\n",
      "  1.25787477e+03  1.19387483e+03  1.24461034e+03  1.21055690e+03\n",
      "  1.21831014e+03  1.23098656e+03  1.22828840e+03  1.01969760e+03\n",
      "  1.03925198e+03  1.17094549e+03  1.05613530e+03  1.15725520e+03\n",
      "  1.15479935e+03  1.14009271e+03  1.07014065e+03  1.08317262e+03\n",
      "  1.08596050e+03  1.09768142e+03  1.12446899e+03  1.10915175e+03\n",
      "  1.11910568e+03  1.11354352e+03  1.02191282e+03  1.01481306e+03\n",
      "  8.86590370e+02  9.02636925e+02  9.11583830e+02  9.13530256e+02\n",
      "  9.35259706e+02  9.40516918e+02  9.54449787e+02  9.56548633e+02\n",
      "  9.65565709e+02  9.89697991e+02  9.78370974e+02  9.85524704e+02\n",
      "  9.82836039e+02  8.66799797e+01  9.54094175e+01  1.01179066e+02\n",
      "  8.97129366e+02  8.83411680e+02  8.78504344e+02  8.73629977e+02\n",
      "  8.65871518e+02  8.51742693e+02  8.40782567e+02  8.31082159e+02\n",
      "  8.22552047e+02  8.16213768e+02  8.13072961e+02  8.01273310e+02\n",
      "  7.94322508e+02  1.07854829e+02  1.11512449e+02  1.19540957e+02\n",
      "  1.24019039e+02  1.26725148e+02  1.27402781e+02  1.32033209e+02\n",
      "  1.33313516e+02  7.85306507e+02  7.77756157e+02  7.70551894e+02\n",
      "  7.70031905e+02  7.62151559e+02  7.60409982e+02  7.56545452e+02\n",
      "  7.53550058e+02  7.40077163e+02  7.36122405e+02  7.25478352e+02\n",
      "  7.17817520e+02  7.10585624e+02  7.02513752e+02  7.06894357e+02\n",
      "  6.80526191e+02  6.93603471e+02  6.88886887e+02  6.86800380e+02\n",
      "  6.70402634e+02  6.63006598e+02  6.60159036e+02  6.49727904e+02\n",
      "  6.44865039e+02  6.38596845e+02  1.36123717e+02  1.38223076e+02\n",
      "  1.39364909e+02  1.43628640e+02  1.45920226e+02  1.48263154e+02\n",
      "  1.49386833e+02  1.52787297e+02  1.55680175e+02  1.57082255e+02\n",
      "  6.27331074e+02  6.29230529e+02  6.20351178e+02  6.15318757e+02\n",
      "  6.11020955e+02  5.74962124e+02  6.00760644e+02  5.98973912e+02\n",
      "  5.81697132e+02  5.86375784e+02  5.90503314e+02  1.58429367e+02\n",
      "  1.63583504e+02  1.65750918e+02  1.69004858e+02  1.70193196e+02\n",
      "  1.89753833e+02  1.88716889e+02  1.73200832e+02  1.85821457e+02\n",
      "  1.76235330e+02  1.78020820e+02  1.79278205e+02  1.80360189e+02\n",
      "  5.64238196e+02  5.60421589e+02  5.67736673e+02  5.37673607e+02\n",
      "  5.45797140e+02  5.51886829e+02  5.54483565e+02  5.59157754e+02\n",
      "  2.00677953e+02  1.98837358e+02  1.94577874e+02  1.95483787e+02\n",
      "  1.95169588e+02  5.31983389e+02  5.24875231e+02  5.27075256e+02\n",
      "  2.09306514e+02  2.06249845e+02  2.04562709e+02  1.99804742e+02\n",
      "  2.11181877e+02  2.14214561e+02  2.17848412e+02  2.22835136e+02\n",
      "  5.19269666e+02  4.90189685e+02  4.94062201e+02  4.99946598e+02\n",
      "  5.06727937e+02  5.12931772e+02  5.13831715e+02  4.96875741e+02\n",
      "  4.86192350e+02  4.82017348e+02  4.78571000e+02  4.73296985e+02\n",
      "  4.67719425e+02  4.64795208e+02  2.24518068e+02  2.29145593e+02\n",
      "  2.34835730e+02  2.33434661e+02  2.32108292e+02  2.19691529e+02\n",
      "  2.41252724e+02  2.43472344e+02  2.53025149e+02  2.49613003e+02\n",
      "  4.29161349e+02  4.32208644e+02  4.38615717e+02  4.42130299e+02\n",
      "  4.57656302e+02  4.61360854e+02  4.49575371e+02  4.51989065e+02\n",
      "  4.75044303e+02  2.55820592e+02  2.58948156e+02  2.63744471e+02\n",
      "  2.69082374e+02  2.77453064e+02  2.80666704e+02  4.00675783e+02\n",
      "  3.95449928e+02  3.84235197e+02  3.91169612e+02  3.87801107e+02\n",
      "  4.11992902e+02  4.14447637e+02  4.17327867e+02  4.21769517e+02\n",
      "  2.29545517e+02  2.84282903e+02  2.65558698e+02  2.96330575e+02\n",
      "  2.98542119e+02  4.47534917e+02  3.45016288e+02  3.47684867e+02\n",
      "  3.68141241e+02  3.74177366e+02  4.07177372e+02  3.79405366e+02\n",
      "  3.77971742e+02  2.46658396e+02  2.46844641e+02  2.64630055e+02\n",
      "  2.74425284e+02  2.88090582e+02  2.86787302e+02  4.19517815e+02\n",
      "  3.05466941e+02  3.16794565e+02  4.03446087e+02  3.29750304e+02\n",
      "  3.36464488e+02  3.39248197e+02  3.62975108e+02  3.61130883e+02\n",
      "  3.64846792e+02  2.67795104e+02  3.56612352e+02  3.52040054e+02\n",
      "  3.54453773e+02  2.91168835e+02  2.93423757e+02  3.40588868e+02\n",
      "  3.33584369e+02  3.22637334e+02  3.09847410e+02  3.11019094e+02\n",
      "  3.12436018e+02  3.06462316e+02  3.26104562e+02  3.24282595e+02]\n",
      "suka_l\n",
      "[[ 0.03682305  0.02209753 -0.05244275 ...  0.00240229  0.00270005\n",
      "   0.00121191]\n",
      " [-0.05198864  0.01003228  0.06231998 ... -0.06714776  0.01869994\n",
      "  -0.01371267]\n",
      " [ 0.06096035  0.08496223  0.0645004  ... -0.03935992 -0.09956939\n",
      "  -0.10355784]\n",
      " ...\n",
      " [ 0.06257424  0.07929688 -0.00934272 ...  0.03679704 -0.04816534\n",
      "  -0.02107324]\n",
      " [-0.01480523 -0.04346086 -0.02549111 ...  0.04429055 -0.07959246\n",
      "   0.0325707 ]\n",
      " [ 0.01368386 -0.08389392  0.03492622 ...  0.00866656  0.05945409\n",
      "   0.00782143]]\n",
      "(416,)\n",
      "(416, 416)\n"
     ]
    }
   ],
   "source": [
    "start_time = time.time()\n",
    "\n",
    "eigvals_l, eigvecs_l = np.linalg.eig(S_l)\n",
    "\n",
    "print(\"--- %s seconds ---\" % (time.time() - start_time))\n",
    "\n",
    "print(eigvals_l)\n",
    "print('suka_l')\n",
    "print(eigvecs_l)\n",
    "print(eigvals_l.shape)\n",
    "print(eigvecs_l.shape)\n"
   ]
  },
  {
   "cell_type": "code",
   "execution_count": 1268,
   "metadata": {},
   "outputs": [
    {
     "name": "stdout",
     "output_type": "stream",
     "text": [
      "(4.6566128730773926e-09+0j)\n"
     ]
    }
   ],
   "source": [
    "#checking that first 416 eigvals are the same\n",
    "su = sum(eigvals[0:415])\n",
    "su_l = sum(eigvals_l)\n",
    "\n",
    "print(su-su_l)\n",
    "\n"
   ]
  },
  {
   "cell_type": "markdown",
   "metadata": {},
   "source": [
    "## Reconstructed face "
   ]
  },
  {
   "cell_type": "code",
   "execution_count": 1269,
   "metadata": {},
   "outputs": [
    {
     "name": "stdout",
     "output_type": "stream",
     "text": [
      "(2576, 2576)\n",
      "(2576, 123)\n",
      "(2576, 416)\n",
      "(123,)\n"
     ]
    }
   ],
   "source": [
    "M=123\n",
    "\n",
    "PCA = np.array([eigvecs[:,i] for i in range (M)])\n",
    "print(eigvecs_sort.shape)\n",
    "print(PCA.T.shape)\n",
    "\n",
    "#A = norm_face[:,55].T*(eigvecs[:,1]+eigvecs[:,2]+eigvecs[:,3]+eigvecs[:,4]+eigvecs[:,5]+eigvecs[:,6]+eigvecs[:,7]+eigvecs[:,8]+eigvecs[:,9]+eigvecs[:,10]+eigvecs[:,11]+eigvecs[:,12]+eigvecs[:,13]+eigvecs[:,14]+eigvecs[:,15]+eigvecs[:,16]+eigvecs[:,17]+eigvecs[:,18]+eigvecs[:,19])\n",
    "\n",
    "print(norm_face.shape)\n",
    "\n",
    "A = np.dot(norm_face[:,27].T, PCA.T)\n",
    "print(A.shape)\n"
   ]
  },
  {
   "cell_type": "code",
   "execution_count": 1270,
   "metadata": {},
   "outputs": [
    {
     "name": "stdout",
     "output_type": "stream",
     "text": [
      "[139.85528874 144.63631206 134.86781934 ...   6.16673098  21.63379868\n",
      "  21.93805031]\n",
      "(2576,)\n"
     ]
    },
    {
     "data": {
      "text/plain": [
       "<matplotlib.image.AxesImage at 0x1a2bf20b70>"
      ]
     },
     "execution_count": 1270,
     "metadata": {},
     "output_type": "execute_result"
    },
    {
     "data": {
      "image/png": "[encoded data removed]",
      "text/plain": [
       "<Figure size 432x288 with 1 Axes>"
      ]
     },
     "metadata": {},
     "output_type": "display_data"
    }
   ],
   "source": [
    "A_reconstruct = average_face + np.dot(A, PCA)\n",
    "\n",
    "print(A_reconstruct.real)\n",
    "print(A_reconstruct.shape)\n",
    "\n",
    "A_reconstruct = A_reconstruct.real\n",
    "\n",
    "\n",
    "face_recon = A_reconstruct.reshape(46,56)\n",
    "plt.imshow(face_recon.T, cmap = 'gist_gray')"
   ]
  },
  {
   "cell_type": "markdown",
   "metadata": {},
   "source": [
    "## Nearest Neighbor Classification"
   ]
  },
  {
   "cell_type": "code",
   "execution_count": 1271,
   "metadata": {},
   "outputs": [
    {
     "name": "stdout",
     "output_type": "stream",
     "text": [
      "(2576, 104)\n"
     ]
    }
   ],
   "source": [
    "face_test_n_transform = face_test.T - average_face_test.T\n",
    "face_test_n = face_test_n_transform.T\n",
    "print(face_test_n.shape)\n",
    "\n"
   ]
  },
  {
   "cell_type": "code",
   "execution_count": 1272,
   "metadata": {},
   "outputs": [
    {
     "name": "stdout",
     "output_type": "stream",
     "text": [
      "[[ 475.70679148+0.j -903.49080329+0.j -338.08577207+0.j ...\n",
      "   -27.97383764+0.j   65.72539474+0.j   25.3240768 +0.j]\n",
      " [ 428.86685029+0.j -635.61212264+0.j  295.13213514+0.j ...\n",
      "   -52.53641935+0.j   23.02924724+0.j  -37.02473485+0.j]\n",
      " [ 693.5469813 +0.j  314.37953576+0.j -333.44536398+0.j ...\n",
      "    88.21512435+0.j   14.25778572+0.j   21.94695827+0.j]\n",
      " ...\n",
      " [-589.10760016+0.j  -58.63513265+0.j  574.50126662+0.j ...\n",
      "    -1.56420329+0.j    6.36888052+0.j    9.01130817+0.j]\n",
      " [-408.12446495+0.j -676.94623882+0.j  277.59980319+0.j ...\n",
      "  -115.82331192+0.j  -33.61552804+0.j   23.66566634+0.j]\n",
      " [-858.29118612+0.j  -98.60254411+0.j -797.00405441+0.j ...\n",
      "   -18.69220545+0.j   44.57891159+0.j  -11.37804205+0.j]]\n",
      "(416,)\n",
      "[29275.72145368 27270.8220588  30401.13403035 28585.25161659\n",
      " 30370.62916521 24736.1154082  23910.27927598 28514.31569199\n",
      " 26649.98850604 31415.34277905 31094.80372482 28073.08468753\n",
      " 28258.0313638  28049.91861178 30462.53335228 26773.76940191\n",
      " 23791.23685383 24937.01554678 27987.85893675 25962.98763827\n",
      " 29389.79909488 29412.99558388 34733.31688345 26544.9857074\n",
      " 24982.64416243 28455.13854494 31560.72784877 27506.95091485\n",
      " 28811.02263899 28541.6097229  37914.83179733 25392.96716215\n",
      " 29486.08856965 26534.33243038 31407.82839911 28422.53101207\n",
      " 25131.35514984 31117.41838245 26813.84823629 26362.525079\n",
      " 30681.98568319 32046.52892048 31077.95336963 33736.10221437\n",
      " 26391.96658872 26375.82163693 28546.90467593 25120.68714307\n",
      " 25308.70292601 27918.64208689 25977.11112094 28452.24821739\n",
      " 28418.19954219 28077.24614971 29023.83187422 25205.01206959\n",
      " 35797.74522374 29953.45067359 25539.32513207 29816.91238959\n",
      " 30522.60420731 27544.25092961 30233.0915307  27178.92574535\n",
      " 27439.57964696 30552.89471956 30789.68128673 28917.73065095\n",
      " 27412.69315672 26964.18942064 28382.7798061  25054.88504283\n",
      " 24392.41766891 30834.67532071 27966.12319972 26788.78772592\n",
      " 32446.24197617 29694.56796129 27896.03803953 27738.68722941\n",
      " 27305.27049457 29736.61517224 32890.65856593 31931.18176618\n",
      " 24955.3617234  27088.47716934 32353.45562923 31581.3992882\n",
      " 26348.3806805  27635.43471287 28999.58814457 25078.88424631\n",
      " 27044.43563896 26655.92404313 26824.7496337  29741.00612622\n",
      " 34913.92450393 31728.29045805 27750.67869812 29274.03181917\n",
      " 24153.53140907 25103.94146749 28080.55660804 27061.29790674\n",
      " 28512.7656817  28925.62899724 30378.706879   28168.43672183\n",
      " 28738.02382179 33842.9657389  27583.59106847 28192.52650779\n",
      " 27997.40202827 27756.0374977  27530.42316421 27180.43134246\n",
      " 28597.77856845 26687.38952593 27031.65572468 32833.26092311\n",
      " 25022.32619606 27613.49719566 30572.88035309 25474.54321681\n",
      " 31279.87852547 34551.7472716  28019.23124994 30410.41886813\n",
      " 27199.31035328 27644.68053173 26340.68297416 27789.29472536\n",
      " 24618.71811085 27940.65582351 25873.25978347 31295.83110091\n",
      " 27947.68836748 30195.62977563 24781.64678787 34265.62475711\n",
      " 26444.2316188  30167.66528076 26668.96996406 24338.08980665\n",
      " 30445.4899143  30110.90380263 40243.07792332 28273.3343836\n",
      " 27763.36766407 29353.72198554 24563.04887977 26280.83746644\n",
      " 25738.71134379 28951.94135148 27473.45969888 30744.34482944\n",
      " 30782.8433883  24910.46617654 25313.20646653 30600.24850453\n",
      " 24774.48334377 29310.99740512 27248.42470965 29392.31402894\n",
      " 34999.83529449 29458.45395023 24808.7699259  23441.57480012\n",
      " 32087.49538734 33149.52997748 27484.48749451 27620.19794854\n",
      " 31029.80888956 27846.52761556 31289.63697683 27472.33925694\n",
      " 25536.58069303 28904.48115836 27275.69620755 30433.91790929\n",
      " 25256.76126867 27296.27881726 30126.90838374 32021.10894389\n",
      " 26635.53810706 27632.81076744 27274.41635056 28262.29679563\n",
      " 30000.18829672 28558.18022639 28512.1538869  34217.80763331\n",
      " 30861.72235816 25544.10519257 31242.91837368 26195.13302482\n",
      " 29204.3389419  34482.46132229 29755.82461986 29577.14086599\n",
      " 29775.91590611 26044.8636616  29988.18685905 29687.89952529\n",
      " 30758.4453334  27126.25112874 33870.06909327 33585.1114731\n",
      " 26412.15593951 32051.3160262  27309.93102353 26826.03526192\n",
      " 27523.52077531 37603.30020094 31735.21864985 21391.35756772\n",
      " 26614.609928   24841.35359836 26973.45021528 32222.19034311\n",
      " 34331.53604855 25944.03344968 28564.19531064 31019.81895043\n",
      " 26028.16043183 29301.63083583 27715.45412849 27286.05447114\n",
      " 36599.64491076 24622.67626655 27233.12500947 25771.99045751\n",
      " 32347.37235415 26370.09062267 24563.31099316 23972.44960703\n",
      " 28296.89752576 30892.28774619 29846.91404354 24793.61626824\n",
      " 31535.25998873 25826.33525391 27641.37915612 25468.97700491\n",
      " 26222.33862482 26807.79088604 27216.87728293 26205.17223256\n",
      " 25769.22724899 36151.47179262 26347.80823664 23798.65274268\n",
      " 25820.75763329 30028.56249681 25950.08352424 28152.42512291\n",
      " 30811.23591367 26948.96423716 35378.37245521 28283.83655439\n",
      " 29317.25253618 26318.29516742 27993.42642734 32807.81510561\n",
      " 27338.98743892 30985.97647441 30493.08453328 25422.7338962\n",
      " 28036.20622922 32294.00985326 33480.03754249 28857.62518483\n",
      " 33402.47271628 27219.24546541 27768.58049442 29536.00301121\n",
      " 26892.7332502  26492.58617027 31751.29447445 26786.60148945\n",
      " 29813.7306326  31042.8717411  29577.83832474 26811.8659503\n",
      " 33803.69728625 30499.5078594  28315.32807266 31956.60386231\n",
      " 29272.47122691 26300.74277666 29715.52196033 25686.77799479\n",
      " 31150.9365594  25910.97895887 28761.52646068 26738.33107434\n",
      " 30039.69764579 28052.30479157 28775.57689449 32464.98430886\n",
      " 29917.47993235 24924.04351123 31957.9534124  28864.81634703\n",
      " 36321.40882941 28191.04075314 26331.61518694 28025.62574627\n",
      " 29525.28811218 28453.96109637 24555.13867234 27442.92427857\n",
      " 30502.37550003 24537.60571921 31591.86555386 40589.6014909\n",
      " 26301.41888678 25961.09404071 28082.27987762 29193.31545373\n",
      " 28785.85428525 30629.33833762 26840.09912324 29010.36632373\n",
      " 24580.08172669 27131.06280559 26275.65585633 27639.79824337\n",
      " 37179.38010983 26691.04590017 44293.69417131 27618.27470803\n",
      " 27223.84116412 33488.46668761 27366.42691277 26970.54227345\n",
      " 27323.587241   33387.96105437 25960.58807701 28474.49369218\n",
      " 31240.07553145 29360.12938278 33668.68820096 27391.00243972\n",
      " 27337.65989455 26549.22582036 31684.36846002 30458.54478195\n",
      " 26541.87097374 39768.44249468 33380.93368767 29610.26710733\n",
      " 30699.09163782 30684.50693942 30581.79581572 26836.83861379\n",
      " 34872.61224319 31686.66155723 26957.3297291  25599.70325761\n",
      " 30009.93999047 29651.35166269 26478.45621258 27822.38524081\n",
      " 27077.24088886 25443.34147725 26211.13451213 27686.11892411\n",
      " 25471.60259564 27951.19648272 26918.58886694 29552.31335959\n",
      " 32429.8030317  31186.76619804 29204.73891432 27474.66277013\n",
      " 31551.45648524 22158.04096554 28467.81466845 27551.6145349\n",
      " 27102.03422849 26318.443639   31423.03341799 29329.8238467\n",
      " 32031.01227957 28851.35810385 26509.29488022 24073.06946544\n",
      " 27869.24496355 26091.30930083 31752.00313288 26085.84702568\n",
      " 30588.95383518 27672.55209843 24423.31811057 29202.70887623\n",
      " 30649.3320729  27638.78697412 36719.03897891 27613.54687557\n",
      " 30164.01228816 30302.6569632  26117.67719514 31021.91833944\n",
      " 26924.67892798 34280.11703454 28572.85651985 30187.1987822\n",
      " 30891.17323958 25487.86857644 31714.7293294  28721.15455047\n",
      " 29557.34765446 29042.68285512 27396.76999109 28931.78093801]\n",
      "21391.35756772067\n",
      "215\n"
     ]
    }
   ],
   "source": [
    "from sklearn.neighbors import KNeighborsClassifier\n",
    "\n",
    "N = 416\n",
    "PP = 104\n",
    "\n",
    "PCA = np.array([eigvecs[:,i] for i in range (M)])\n",
    "W = np.array([np.dot(face_test_n[:,P].T, PCA.T) for P in range (PP)]) #this thing changed for all the arrays (matrices in matrix)\n",
    "print(W)\n",
    "\n",
    "Wn = np.dot(norm_face.T, PCA.T) \n",
    "\n",
    "\n",
    "\n",
    "\n",
    "Norm = np.array([np.linalg.norm(W - Wn[i,:]) for i in range (N)]) \n",
    "print(Norm.shape)\n",
    "print(Norm)\n",
    "min_norm = min(Norm)\n",
    "print(min_norm)\n",
    "index_min = Norm.argmin()\n",
    "print(index_min)\n",
    "\n"
   ]
  },
  {
   "cell_type": "code",
   "execution_count": 1273,
   "metadata": {},
   "outputs": [
    {
     "name": "stdout",
     "output_type": "stream",
     "text": [
      "(1, 416)\n",
      "29\n"
     ]
    }
   ],
   "source": [
    "print(face_train_id.shape)\n",
    "face_train_id_arg = face_train_id[0, index_min]\n",
    "print(face_train_id_arg)\n"
   ]
  },
  {
   "cell_type": "code",
   "execution_count": 1274,
   "metadata": {},
   "outputs": [
    {
     "data": {
      "text/plain": [
       "<matplotlib.image.AxesImage at 0x1a271be5c0>"
      ]
     },
     "execution_count": 1274,
     "metadata": {},
     "output_type": "execute_result"
    },
    {
     "data": {
      "image/png": "[encoded data removed]",
      "text/plain": [
       "<Figure size 432x288 with 1 Axes>"
      ]
     },
     "metadata": {},
     "output_type": "display_data"
    }
   ],
   "source": [
    "test_image_nn = face_test[:,3].reshape(46,56)\n",
    "plt.imshow(test_image_nn.T, cmap = 'gist_gray')"
   ]
  },
  {
   "cell_type": "code",
   "execution_count": 1275,
   "metadata": {},
   "outputs": [
    {
     "data": {
      "text/plain": [
       "<matplotlib.image.AxesImage at 0x1a2c148d68>"
      ]
     },
     "execution_count": 1275,
     "metadata": {},
     "output_type": "execute_result"
    },
    {
     "data": {
      "image/png": "[encoded data removed]",
      "text/plain": [
       "<Figure size 432x288 with 1 Axes>"
      ]
     },
     "metadata": {},
     "output_type": "display_data"
    }
   ],
   "source": [
    "train_image_nn = face_train[:,index_min].reshape(46,56)\n",
    "plt.imshow(train_image_nn.T, cmap = 'gist_gray')"
   ]
  },
  {
   "cell_type": "code",
   "execution_count": 1276,
   "metadata": {},
   "outputs": [],
   "source": [
    "from sklearn.metrics import accuracy_score\n",
    "#accuracy_score(face_train_id_arg, face_test_id[:,0])\n"
   ]
  },
  {
   "cell_type": "code",
   "execution_count": 1277,
   "metadata": {},
   "outputs": [
    {
     "name": "stderr",
     "output_type": "stream",
     "text": [
      "/Users/Freshbox/anaconda3/lib/python3.7/site-packages/numpy/core/numeric.py:501: ComplexWarning: Casting complex values to real discards the imaginary part\n",
      "  return array(a, dtype, copy=False, order=order)\n"
     ]
    },
    {
     "data": {
      "text/plain": [
       "0.5576923076923077"
      ]
     },
     "execution_count": 1277,
     "metadata": {},
     "output_type": "execute_result"
    }
   ],
   "source": [
    "classifier = KNeighborsClassifier(n_neighbors = 1) #setting up NN\n",
    "\n",
    "face_test_pca = np.dot(face_test_n.T, PCA.T)  #applying PCA to test set as well\n",
    "\n",
    "classifier.fit(Wn, face_train_id.ravel())  #fitting data\n",
    "face_predict = classifier.predict(face_test_pca.real)\n",
    "\n",
    "\n",
    "accuracy_score(face_predict, face_test_id.ravel())  #checking accuracy"
   ]
  },
  {
   "cell_type": "markdown",
   "metadata": {},
   "source": [
    "## Accuracy Graph\n"
   ]
  },
  {
   "cell_type": "code",
   "execution_count": 1278,
   "metadata": {
    "scrolled": true
   },
   "outputs": [
    {
     "name": "stderr",
     "output_type": "stream",
     "text": [
      "/Users/Freshbox/anaconda3/lib/python3.7/site-packages/numpy/core/numeric.py:501: ComplexWarning: Casting complex values to real discards the imaginary part\n",
      "  return array(a, dtype, copy=False, order=order)\n"
     ]
    },
    {
     "name": "stdout",
     "output_type": "stream",
     "text": [
      "[ 4.80769231  8.65384615 10.57692308 17.30769231 25.96153846 27.88461538\n",
      " 26.92307692 29.80769231 33.65384615 37.5        39.42307692 39.42307692\n",
      " 41.34615385 41.34615385 43.26923077 43.26923077 44.23076923 44.23076923\n",
      " 46.15384615 48.07692308 47.11538462 47.11538462 48.07692308 48.07692308\n",
      " 48.07692308 50.         49.03846154 50.96153846 50.96153846 50.96153846\n",
      " 50.96153846 50.         50.         50.         50.         50.96153846\n",
      " 51.92307692 50.96153846 50.96153846 50.96153846 52.88461538 51.92307692\n",
      " 51.92307692 50.96153846 51.92307692 51.92307692 51.92307692 51.92307692\n",
      " 51.92307692 51.92307692 51.92307692 52.88461538 54.80769231 54.80769231\n",
      " 54.80769231 55.76923077 55.76923077 55.76923077 54.80769231 55.76923077\n",
      " 55.76923077 55.76923077 56.73076923 56.73076923 56.73076923 56.73076923\n",
      " 55.76923077 55.76923077 55.76923077 55.76923077 56.73076923 55.76923077\n",
      " 55.76923077 55.76923077 55.76923077 56.73076923 56.73076923 56.73076923\n",
      " 57.69230769 56.73076923 56.73076923 55.76923077 55.76923077 56.73076923\n",
      " 56.73076923 55.76923077 56.73076923 56.73076923 56.73076923 56.73076923\n",
      " 56.73076923 56.73076923 56.73076923 56.73076923 56.73076923 56.73076923\n",
      " 56.73076923 56.73076923 56.73076923 56.73076923 55.76923077 56.73076923\n",
      " 56.73076923 56.73076923 55.76923077 55.76923077 56.73076923 56.73076923\n",
      " 56.73076923 56.73076923 56.73076923 56.73076923 55.76923077 56.73076923\n",
      " 55.76923077 55.76923077 56.73076923 56.73076923 55.76923077 55.76923077\n",
      " 55.76923077 55.76923077 55.76923077 55.76923077 55.76923077 55.76923077\n",
      " 55.76923077 55.76923077 55.76923077 55.76923077 55.76923077 55.76923077\n",
      " 55.76923077 55.76923077 55.76923077 55.76923077 55.76923077 55.76923077\n",
      " 55.76923077 55.76923077 55.76923077 55.76923077 55.76923077 55.76923077\n",
      " 55.76923077 55.76923077 55.76923077 55.76923077 55.76923077 55.76923077\n",
      " 55.76923077 55.76923077 55.76923077 55.76923077 55.76923077 55.76923077\n",
      " 55.76923077 55.76923077 55.76923077 55.76923077 55.76923077 55.76923077\n",
      " 55.76923077 55.76923077 55.76923077 55.76923077 55.76923077 55.76923077\n",
      " 55.76923077 55.76923077 55.76923077 55.76923077 55.76923077 55.76923077\n",
      " 55.76923077 55.76923077 55.76923077 55.76923077 55.76923077 55.76923077\n",
      " 55.76923077 55.76923077 55.76923077 55.76923077 55.76923077 55.76923077\n",
      " 55.76923077 55.76923077 55.76923077 55.76923077 55.76923077 55.76923077\n",
      " 55.76923077 55.76923077 55.76923077 55.76923077 55.76923077 55.76923077\n",
      " 54.80769231 54.80769231 55.76923077 55.76923077 55.76923077 55.76923077\n",
      " 55.76923077 55.76923077 54.80769231 55.76923077 55.76923077 55.76923077\n",
      " 55.76923077 54.80769231 54.80769231 54.80769231 54.80769231 54.80769231\n",
      " 54.80769231 54.80769231 54.80769231 54.80769231 54.80769231 54.80769231\n",
      " 54.80769231 54.80769231 54.80769231 54.80769231 54.80769231 54.80769231\n",
      " 54.80769231 54.80769231 54.80769231 54.80769231 54.80769231 54.80769231\n",
      " 54.80769231 54.80769231 54.80769231 54.80769231 54.80769231 54.80769231\n",
      " 54.80769231 54.80769231 54.80769231 54.80769231 54.80769231 54.80769231\n",
      " 54.80769231 54.80769231 54.80769231 54.80769231 54.80769231 54.80769231\n",
      " 54.80769231 54.80769231 54.80769231 54.80769231 54.80769231 54.80769231\n",
      " 54.80769231 54.80769231 54.80769231 54.80769231 54.80769231 54.80769231\n",
      " 54.80769231 54.80769231 54.80769231 54.80769231 54.80769231 54.80769231\n",
      " 54.80769231 54.80769231 54.80769231 54.80769231 54.80769231 54.80769231\n",
      " 54.80769231 54.80769231 54.80769231 54.80769231 54.80769231 54.80769231\n",
      " 54.80769231 54.80769231 54.80769231 54.80769231 54.80769231 54.80769231\n",
      " 54.80769231 54.80769231 54.80769231 54.80769231 54.80769231 54.80769231\n",
      " 54.80769231 54.80769231 54.80769231 54.80769231 54.80769231 54.80769231\n",
      " 54.80769231 54.80769231 54.80769231 54.80769231 54.80769231 54.80769231\n",
      " 54.80769231 54.80769231 54.80769231 54.80769231 54.80769231 54.80769231\n",
      " 54.80769231 54.80769231 54.80769231 54.80769231 54.80769231 54.80769231\n",
      " 54.80769231 54.80769231 54.80769231 54.80769231 54.80769231 54.80769231\n",
      " 54.80769231 54.80769231 54.80769231 54.80769231 54.80769231 54.80769231\n",
      " 54.80769231 54.80769231 54.80769231 54.80769231 54.80769231 54.80769231\n",
      " 54.80769231 54.80769231 54.80769231 54.80769231 54.80769231 54.80769231\n",
      " 54.80769231 54.80769231 54.80769231 54.80769231 54.80769231 54.80769231\n",
      " 54.80769231 54.80769231 54.80769231 54.80769231 54.80769231 54.80769231\n",
      " 54.80769231 54.80769231 54.80769231 54.80769231 54.80769231 54.80769231\n",
      " 54.80769231 54.80769231 54.80769231 54.80769231 54.80769231 54.80769231\n",
      " 54.80769231 54.80769231 54.80769231 54.80769231 54.80769231 55.76923077\n",
      " 55.76923077 55.76923077 55.76923077 55.76923077 55.76923077 55.76923077\n",
      " 55.76923077 55.76923077 55.76923077 55.76923077 55.76923077 55.76923077\n",
      " 55.76923077 55.76923077 55.76923077 55.76923077 55.76923077 55.76923077\n",
      " 55.76923077 55.76923077 55.76923077 55.76923077 55.76923077 55.76923077\n",
      " 55.76923077 55.76923077 55.76923077 55.76923077 55.76923077 55.76923077\n",
      " 55.76923077 55.76923077 55.76923077 55.76923077 55.76923077 55.76923077\n",
      " 55.76923077 55.76923077 55.76923077 55.76923077 55.76923077 55.76923077\n",
      " 55.76923077 55.76923077]\n",
      "416\n"
     ]
    }
   ],
   "source": [
    "M_min = 1\n",
    "M_max = 417\n",
    "b = 0\n",
    "acc_score = []\n",
    "\n",
    "for M in range(M_min, M_max):\n",
    "    PCA_graph = np.array([eigvecs[:,i] for i in range (M)])\n",
    "    Wn_graph = np.dot(norm_face.T, PCA_graph.T) \n",
    "    face_test_pca_graph = np.dot(face_test_n.T, PCA_graph.T)\n",
    "    \n",
    "    classifier.fit(Wn_graph, face_train_id.ravel())\n",
    "    face_predict_graph = classifier.predict(face_test_pca_graph.real)\n",
    "    acc_score.append(accuracy_score(face_predict_graph, face_test_id.ravel())*100)  #checking accuracy\n",
    "   \n",
    "    b += 1\n",
    "    \n",
    "    \n",
    "acc_score_l = np.asarray(acc_score)\n",
    "print(acc_score_l)\n",
    "\n",
    "print(b)\n",
    "\n"
   ]
  },
  {
   "cell_type": "code",
   "execution_count": 1279,
   "metadata": {},
   "outputs": [
    {
     "data": {
      "image/png": "[encoded data removed]",
      "text/plain": [
       "<Figure size 432x288 with 1 Axes>"
      ]
     },
     "metadata": {},
     "output_type": "display_data"
    }
   ],
   "source": [
    "plt.figure()\n",
    "x=np.arange(0, 2576, 1)\n",
    "plt.axis([0,416, 0, 60])\n",
    "plt.plot(acc_score_l, linewidth = 1.5, c = 'g')\n",
    "plt.title('Recognition Accuracy as a function of M')\n",
    "plt.ylabel('Accuracy (%)')\n",
    "plt.xlabel('M')\n",
    "plt.grid(False)\n",
    "plt.savefig('RecAcc.pdf', format='pdf', dpi=300)\n",
    "plt.show()\n"
   ]
  },
  {
   "cell_type": "markdown",
   "metadata": {},
   "source": [
    "## Confusion Matrix "
   ]
  },
  {
   "cell_type": "code",
   "execution_count": 1280,
   "metadata": {
    "scrolled": true
   },
   "outputs": [
    {
     "name": "stdout",
     "output_type": "stream",
     "text": [
      "(104,)\n",
      "(104,)\n",
      "(47, 47)\n"
     ]
    },
    {
     "data": {
      "image/png": "[encoded data removed]",
      "text/plain": [
       "<Figure size 432x288 with 2 Axes>"
      ]
     },
     "metadata": {},
     "output_type": "display_data"
    }
   ],
   "source": [
    "from sklearn.metrics import confusion_matrix\n",
    "import seaborn as sns\n",
    "\n",
    "plt.figure()\n",
    "conf_mat = confusion_matrix(face_test_id.ravel(), face_predict.ravel())\n",
    "print(face_test_id.ravel().shape)\n",
    "print(face_predict.shape)\n",
    "print(conf_mat.shape)\n",
    "ax = plt.axes()\n",
    "ax.set_title('Nearest Neighbor Confusion Matrix')\n",
    "sns.heatmap(conf_mat_l, ax = ax, cmap=\"GnBu\", linewidth=0.1, yticklabels = False, xticklabels = False,square=True)\n",
    "plt.savefig('Conf_Mat_NN.pdf', format='pdf', dpi=300)\n",
    "plt.show()\n",
    "\n",
    "\n"
   ]
  },
  {
   "cell_type": "markdown",
   "metadata": {},
   "source": [
    "## Alternative Method (array of arrays)"
   ]
  },
  {
   "cell_type": "code",
   "execution_count": 1281,
   "metadata": {},
   "outputs": [
    {
     "data": {
      "text/plain": [
       "\"PP = 104\\nM = 123\\nn = 52\\n\\n\\nPCA = np.array([eigvecs[:,i] for i in range (M)])\\n#W = np.array([np.dot(face_test_n[:,P].T, PCA.T) for P in range (PP)]) #this thing changed for all the arrays (matrices in matrix)\\n#print(W)\\n\\n#finding the classes\\nWns =[[] for _ in range(n)]\\nWns_id = [[] for _ in range(n)]\\ni = 0\\nprint(Wns)\\nprint(Wns_id)\\nprint('SUKA')\\nprint(len(face_train_id.ravel()))\\nwhile i < len(face_train_id.ravel()): \\n    Wns_idx = face_train_id.ravel()[i]\\n    Wns[Wns_idx-1] = face_train[:,i]\\n    Wns_id[Wns_idx-1] = face_train_id.ravel()[i]\\n    i += 1\\nWns = np.asarray(Wns)\\nprint(Wns.shape)\\nprint(Wns_id)\\n\\n\\n#Wn = np.dot(norm_face.T, PCA.T) \\n#print(Wn)\\n\""
      ]
     },
     "execution_count": 1281,
     "metadata": {},
     "output_type": "execute_result"
    }
   ],
   "source": [
    "\"\"\"PP = 104\n",
    "M = 123\n",
    "n = 52\n",
    "\n",
    "\n",
    "PCA = np.array([eigvecs[:,i] for i in range (M)])\n",
    "#W = np.array([np.dot(face_test_n[:,P].T, PCA.T) for P in range (PP)]) #this thing changed for all the arrays (matrices in matrix)\n",
    "#print(W)\n",
    "\n",
    "#finding the classes\n",
    "Wns =[[] for _ in range(n)]\n",
    "Wns_id = [[] for _ in range(n)]\n",
    "i = 0\n",
    "print(Wns)\n",
    "print(Wns_id)\n",
    "print('SUKA')\n",
    "print(len(face_train_id.ravel()))\n",
    "while i < len(face_train_id.ravel()): \n",
    "    Wns_idx = face_train_id.ravel()[i]\n",
    "    Wns[Wns_idx-1] = face_train[:,i]\n",
    "    Wns_id[Wns_idx-1] = face_train_id.ravel()[i]\n",
    "    i += 1\n",
    "Wns = np.asarray(Wns)\n",
    "print(Wns.shape)\n",
    "print(Wns_id)\n",
    "\n",
    "\n",
    "#Wn = np.dot(norm_face.T, PCA.T) \n",
    "#print(Wn)\n",
    "\"\"\""
   ]
  },
  {
   "cell_type": "markdown",
   "metadata": {},
   "source": [
    "## Alternative Method"
   ]
  },
  {
   "cell_type": "markdown",
   "metadata": {},
   "source": [
    "## Creating the PCA-base from each class"
   ]
  },
  {
   "cell_type": "code",
   "execution_count": 1282,
   "metadata": {},
   "outputs": [],
   "source": [
    "from sklearn.preprocessing import normalize\n",
    "\n",
    "norm_face_data = normalize(face_data, axis = 0)\n",
    "test_num = 2\n",
    "total_test = []\n",
    "aver_faces = []\n",
    "all_subs = []\n",
    "\n",
    "for class_id in range (1,53):\n",
    "    train = norm_face_data.T[(class_id - 1)*10 : (class_id*10) - test_num]\n",
    "    test = norm_face_data.T[(class_id)*10 - test_num : (class_id*10)]\n",
    "    \n",
    "    for i in test:\n",
    "        total_test.append(i)\n",
    "\n",
    "    train_aver = np.mean(train, axis = 0)\n",
    "    aver_faces.append(train_aver)\n",
    "    \n",
    "    train_float = train.astype('float64')\n",
    "    \n",
    "    for i in range(8):\n",
    "        \n",
    "        train_float[i] = train_float[i] - train_aver\n",
    "        \n",
    "    cov_mat_l  = np.dot(train_float, train_float.T)/8\n",
    "    \n",
    "    eigenvals_l, eigenvecs_l = np.linalg.eig(cov_mat_l) \n",
    "    \n",
    "    eigenvecs_all = []\n",
    "    \n",
    "    for i in eigenvecs_l:\n",
    "        \n",
    "        vec = np.dot(train_float.T, i)\n",
    "        norm = np.linalg.norm(vec)\n",
    "        \n",
    "        eigenvecs_all.append(vec)\n",
    "    \n",
    "    eigenvecs_all = np.asarray(eigenvecs_all)\n",
    "    \n",
    "    all_subs.append(eigenvecs_all)\n",
    "        "
   ]
  },
  {
   "cell_type": "code",
   "execution_count": 1283,
   "metadata": {},
   "outputs": [
    {
     "name": "stdout",
     "output_type": "stream",
     "text": [
      "(52, 8, 2576)\n"
     ]
    }
   ],
   "source": [
    "total_test = np.asarray(total_test)   #coverting everything to arrays \n",
    "aver_faces = np.asarray(aver_faces)\n",
    "all_subs = np.asarray(all_subs)\n",
    "\n",
    "print(all_subs.shape)\n"
   ]
  },
  {
   "cell_type": "code",
   "execution_count": 1284,
   "metadata": {},
   "outputs": [],
   "source": [
    "from scipy.spatial.distance import euclidean\n",
    "\n",
    "def recon_error(test_face, average_face_class, sub_class):\n",
    "\n",
    "    face = test_face - average_face_class\n",
    "    projected = np.dot(sub_class, face)\n",
    "    \n",
    "    reconstruct = np.add(average_face_class.T, np.dot(projected.T, sub_class))\n",
    "    \n",
    "    error = euclidean (test_face, reconstruct)\n",
    "    \n",
    "    return error, reconstruct\n"
   ]
  },
  {
   "cell_type": "code",
   "execution_count": 1285,
   "metadata": {},
   "outputs": [
    {
     "name": "stdout",
     "output_type": "stream",
     "text": [
      "[[0.38528504 0.57756075 0.5584016  ... 0.55897343 0.45155878 0.53654342]\n",
      " [0.37645406 0.57453294 0.55305564 ... 0.55609672 0.42686468 0.52217243]\n",
      " [0.36117458 0.29097409 0.3951954  ... 0.43090337 0.41978725 0.38712788]\n",
      " ...\n",
      " [0.42122098 0.4889037  0.52182527 ... 0.53698026 0.31589236 0.40709982]\n",
      " [0.42236267 0.43832423 0.49209569 ... 0.46638841 0.42601487 0.3991578 ]\n",
      " [0.40016869 0.39556561 0.48221446 ... 0.48570982 0.31098826 0.32960171]]\n",
      "(104, 52)\n"
     ]
    }
   ],
   "source": [
    "import sys\n",
    "\n",
    "guesstimations = []\n",
    "all_errors = []\n",
    "\n",
    "for img in total_test:\n",
    "    test_img = img.reshape(2576,1)\n",
    "    min_err = sys.float_info.max\n",
    "    guess = -1\n",
    "    \n",
    "    class_errors = []\n",
    "    \n",
    "    for index in range (len(all_subs)):\n",
    "        test_sub = all_subs[index]\n",
    "        test_aver_face = aver_faces[index].reshape(2576,1)\n",
    "        #print(test_sub)\n",
    "        error, _ = recon_error(test_img, test_aver_face, test_sub)\n",
    "        \n",
    "        class_errors.append(error)\n",
    "        \n",
    "        if(error<min_err):\n",
    "            min_err = error\n",
    "            guess = index+1\n",
    "        \n",
    "    guesstimations.append(guess)\n",
    "    all_errors.append(class_errors)\n",
    "    \n",
    "    all_errors_l = np.asarray(all_errors)\n",
    "    \n",
    "print(all_errors_l)\n",
    "print(all_errors_l.shape)\n",
    "\n"
   ]
  },
  {
   "cell_type": "code",
   "execution_count": 1286,
   "metadata": {},
   "outputs": [
    {
     "name": "stdout",
     "output_type": "stream",
     "text": [
      "(104,)\n",
      "(104, 2576)\n"
     ]
    }
   ],
   "source": [
    "min_error_array = []\n",
    "for x in range(0,104):\n",
    "    \n",
    "    minerror = np.argmin(all_errors_l[x, :])\n",
    "    \n",
    "    \n",
    "    min_error_array.append(minerror)\n",
    "    \n",
    "min_error_array_l = np.asarray(min_error_array)\n",
    "\n",
    "print(min_error_array_l.shape)\n",
    "print(total_test.shape)\n"
   ]
  },
  {
   "cell_type": "code",
   "execution_count": 1287,
   "metadata": {},
   "outputs": [],
   "source": [
    "\n",
    "test_id = [0,0,1, 1, 2, 2, 3, 3, 4, 4, 5, 5, 6, 6, 7, 7, 8, 8, 9, 9, 10, 10, 11, 11, 12, 12, 13, 13, 14 , 14, 15, 15, 16, 16, 17, 17, 18, 18, 19, 19, 20, 20, 21, 21, 22,22, 23, 23, 24, 24, 25, 25, 26, 26, 27, 27, 28, 28, 29, 29, 30, 30, 31, 31, 32, 32, 33, 33, 34, 34, 35, 35, 36, 36, 37, 37, 38, 38, 39, 39, 40, 40 , 41, 41, 42, 42, 43, 43, 44, 44, 45, 45, 46, 46, 47, 47, 48, 48, 49, 49, 50, 50, 51, 51]\n"
   ]
  },
  {
   "cell_type": "code",
   "execution_count": 1288,
   "metadata": {},
   "outputs": [
    {
     "name": "stdout",
     "output_type": "stream",
     "text": [
      "(104,)\n"
     ]
    },
    {
     "data": {
      "text/plain": [
       "0.7403846153846154"
      ]
     },
     "execution_count": 1288,
     "metadata": {},
     "output_type": "execute_result"
    }
   ],
   "source": [
    "test_id_l = np.asarray(test_id)\n",
    "print(test_id_l.shape)\n",
    "accuracy_score(min_error_array_l, test_id)"
   ]
  },
  {
   "cell_type": "markdown",
   "metadata": {},
   "source": [
    "## Confusion Matx Alternate Method"
   ]
  },
  {
   "cell_type": "code",
   "execution_count": 1289,
   "metadata": {},
   "outputs": [
    {
     "data": {
      "image/png": "[encoded data removed]",
      "text/plain": [
       "<Figure size 432x288 with 2 Axes>"
      ]
     },
     "metadata": {},
     "output_type": "display_data"
    }
   ],
   "source": [
    "from sklearn.metrics import confusion_matrix\n",
    "import seaborn as sns\n",
    "\n",
    "\n",
    "conf_mat = confusion_matrix(test_id_l.ravel(), min_error_array_l)\n",
    "ax = plt.axes()\n",
    "sns.heatmap(conf_mat, ax = ax, cmap=\"GnBu\", linewidth = 0.1, xticklabels=False, yticklabels=False, square=True)\n",
    "ax.set_title('Alternate Method Confusion Matrix')\n",
    "plt.savefig('Conf_Mat_Alternate.pdf', format='pdf', dpi=300)\n",
    "plt.show()"
   ]
  },
  {
   "cell_type": "markdown",
   "metadata": {},
   "source": [
    "# Question 3: PCA-LDA"
   ]
  },
  {
   "cell_type": "code",
   "execution_count": 1290,
   "metadata": {},
   "outputs": [
    {
     "name": "stderr",
     "output_type": "stream",
     "text": [
      "/Users/Freshbox/anaconda3/lib/python3.7/site-packages/sklearn/utils/validation.py:433: ComplexWarning: Casting complex values to real discards the imaginary part\n",
      "  array = np.array(array, dtype=dtype, order=order, copy=copy)\n",
      "/Users/Freshbox/anaconda3/lib/python3.7/site-packages/sklearn/utils/validation.py:475: DataConversionWarning: Data with input dtype complex128 was converted to float64 by StandardScaler.\n",
      "  warnings.warn(msg, DataConversionWarning)\n"
     ]
    }
   ],
   "source": [
    "from sklearn.preprocessing import StandardScaler\n",
    "\n",
    "sc = StandardScaler()  \n",
    "Wn = sc.fit_transform(Wn.real)  \n",
    "face_test_pca = sc.transform(face_test_pca)"
   ]
  },
  {
   "cell_type": "code",
   "execution_count": 1291,
   "metadata": {},
   "outputs": [
    {
     "name": "stdout",
     "output_type": "stream",
     "text": [
      "(416, 30)\n",
      "(104, 30)\n"
     ]
    }
   ],
   "source": [
    "from sklearn.discriminant_analysis import LinearDiscriminantAnalysis as LDA\n",
    "\n",
    "lda = LDA(n_components=30)  \n",
    "\n",
    "Wn_lda = lda.fit_transform(Wn, face_train_id.ravel())   #applying LDA to the PCA data\n",
    "\n",
    "print(Wn_lda.shape)\n",
    "face_test_pca_lda = lda.transform(face_test_pca)\n",
    "print(face_test_pca_lda.shape)\n",
    "\n",
    "\n",
    " "
   ]
  },
  {
   "cell_type": "code",
   "execution_count": 1292,
   "metadata": {},
   "outputs": [
    {
     "data": {
      "text/plain": [
       "0.9038461538461539"
      ]
     },
     "execution_count": 1292,
     "metadata": {},
     "output_type": "execute_result"
    }
   ],
   "source": [
    "from sklearn.neighbors import KNeighborsClassifier\n",
    "classifier = KNeighborsClassifier(n_neighbors = 1)\n",
    "\n",
    "classifier.fit(Wn_lda, face_train_id.ravel())\n",
    "face_predict_pca_lda = classifier.predict(face_test_pca_lda)\n",
    "accuracy_score(face_predict_pca_lda, face_test_id.ravel())  #checking accuracy\n"
   ]
  },
  {
   "cell_type": "code",
   "execution_count": 1293,
   "metadata": {},
   "outputs": [
    {
     "data": {
      "image/png": "[encoded data removed]",
      "text/plain": [
       "<Figure size 432x288 with 2 Axes>"
      ]
     },
     "metadata": {},
     "output_type": "display_data"
    },
    {
     "name": "stdout",
     "output_type": "stream",
     "text": [
      "Accuracy0.9038461538461539\n"
     ]
    }
   ],
   "source": [
    "from sklearn.metrics import confusion_matrix  \n",
    "from sklearn.metrics import accuracy_score\n",
    "\n",
    "\n",
    "conf_mat_lda = confusion_matrix(face_test_id.T, face_predict_pca_lda)  \n",
    "ax = plt.axes()\n",
    "sns.heatmap(conf_mat_lda,ax = ax, cmap=\"GnBu\", linewidth = 0.1, xticklabels=False, yticklabels=False, square=True)\n",
    "ax.set_title('PCA-LDA Confusion Matrix')\n",
    "plt.savefig('Conf_Mat_PCA-LDA.pdf', format='pdf', dpi=300)\n",
    "plt.show()\n",
    "print('Accuracy' + str(accuracy_score(face_test_id.ravel(), face_predict_pca_lda)))  "
   ]
  },
  {
   "cell_type": "markdown",
   "metadata": {},
   "source": [
    "## PCA-LDA Ensemble"
   ]
  },
  {
   "cell_type": "code",
   "execution_count": null,
   "metadata": {},
   "outputs": [],
   "source": []
  }
 ],
 "metadata": {
  "kernelspec": {
   "display_name": "Python 3",
   "language": "python",
   "name": "python3"
  },
  "language_info": {
   "codemirror_mode": {
    "name": "ipython",
    "version": 3
   },
   "file_extension": ".py",
   "mimetype": "text/x-python",
   "name": "python",
   "nbconvert_exporter": "python",
   "pygments_lexer": "ipython3",
   "version": "3.7.0"
  }
 },
 "nbformat": 4,
 "nbformat_minor": 2
}
