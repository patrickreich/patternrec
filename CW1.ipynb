{
 "cells": [
  {
   "cell_type": "code",
   "execution_count": 44,
   "metadata": {},
   "outputs": [],
   "source": [
    "import scipy.io as sc\n",
    "faces = sc.loadmat('face.mat')"
   ]
  },
  {
   "cell_type": "code",
   "execution_count": 18,
   "metadata": {},
   "outputs": [
    {
     "data": {
      "text/plain": [
       "{'X': array([[106, 130, 191, ...,  70, 183,  77],\n",
       "        [103, 129, 185, ...,  62, 250,  72],\n",
       "        [103, 130, 174, ...,  83, 163,  68],\n",
       "        ...,\n",
       "        [ 37,  40,  22, ...,  87, 102,  93],\n",
       "        [ 36,  36,  19, ...,  89,  95, 103],\n",
       "        [ 41,  35,  17, ...,  94, 106, 110]], dtype=uint8),\n",
       " '__globals__': [],\n",
       " '__header__': b'MATLAB 5.0 MAT-file, Platform: PCWIN, Created on: Sat May 27 02:07:24 2006',\n",
       " '__version__': '1.0',\n",
       " 'l': array([[ 1,  1,  1,  1,  1,  1,  1,  1,  1,  1,  2,  2,  2,  2,  2,  2,\n",
       "          2,  2,  2,  2,  3,  3,  3,  3,  3,  3,  3,  3,  3,  3,  4,  4,\n",
       "          4,  4,  4,  4,  4,  4,  4,  4,  5,  5,  5,  5,  5,  5,  5,  5,\n",
       "          5,  5,  6,  6,  6,  6,  6,  6,  6,  6,  6,  6,  7,  7,  7,  7,\n",
       "          7,  7,  7,  7,  7,  7,  8,  8,  8,  8,  8,  8,  8,  8,  8,  8,\n",
       "          9,  9,  9,  9,  9,  9,  9,  9,  9,  9, 10, 10, 10, 10, 10, 10,\n",
       "         10, 10, 10, 10, 11, 11, 11, 11, 11, 11, 11, 11, 11, 11, 12, 12,\n",
       "         12, 12, 12, 12, 12, 12, 12, 12, 13, 13, 13, 13, 13, 13, 13, 13,\n",
       "         13, 13, 14, 14, 14, 14, 14, 14, 14, 14, 14, 14, 15, 15, 15, 15,\n",
       "         15, 15, 15, 15, 15, 15, 16, 16, 16, 16, 16, 16, 16, 16, 16, 16,\n",
       "         17, 17, 17, 17, 17, 17, 17, 17, 17, 17, 18, 18, 18, 18, 18, 18,\n",
       "         18, 18, 18, 18, 19, 19, 19, 19, 19, 19, 19, 19, 19, 19, 20, 20,\n",
       "         20, 20, 20, 20, 20, 20, 20, 20, 21, 21, 21, 21, 21, 21, 21, 21,\n",
       "         21, 21, 22, 22, 22, 22, 22, 22, 22, 22, 22, 22, 23, 23, 23, 23,\n",
       "         23, 23, 23, 23, 23, 23, 24, 24, 24, 24, 24, 24, 24, 24, 24, 24,\n",
       "         25, 25, 25, 25, 25, 25, 25, 25, 25, 25, 26, 26, 26, 26, 26, 26,\n",
       "         26, 26, 26, 26, 27, 27, 27, 27, 27, 27, 27, 27, 27, 27, 28, 28,\n",
       "         28, 28, 28, 28, 28, 28, 28, 28, 29, 29, 29, 29, 29, 29, 29, 29,\n",
       "         29, 29, 30, 30, 30, 30, 30, 30, 30, 30, 30, 30, 31, 31, 31, 31,\n",
       "         31, 31, 31, 31, 31, 31, 32, 32, 32, 32, 32, 32, 32, 32, 32, 32,\n",
       "         33, 33, 33, 33, 33, 33, 33, 33, 33, 33, 34, 34, 34, 34, 34, 34,\n",
       "         34, 34, 34, 34, 35, 35, 35, 35, 35, 35, 35, 35, 35, 35, 36, 36,\n",
       "         36, 36, 36, 36, 36, 36, 36, 36, 37, 37, 37, 37, 37, 37, 37, 37,\n",
       "         37, 37, 38, 38, 38, 38, 38, 38, 38, 38, 38, 38, 39, 39, 39, 39,\n",
       "         39, 39, 39, 39, 39, 39, 40, 40, 40, 40, 40, 40, 40, 40, 40, 40,\n",
       "         41, 41, 41, 41, 41, 41, 41, 41, 41, 41, 42, 42, 42, 42, 42, 42,\n",
       "         42, 42, 42, 42, 43, 43, 43, 43, 43, 43, 43, 43, 43, 43, 44, 44,\n",
       "         44, 44, 44, 44, 44, 44, 44, 44, 45, 45, 45, 45, 45, 45, 45, 45,\n",
       "         45, 45, 46, 46, 46, 46, 46, 46, 46, 46, 46, 46, 47, 47, 47, 47,\n",
       "         47, 47, 47, 47, 47, 47, 48, 48, 48, 48, 48, 48, 48, 48, 48, 48,\n",
       "         49, 49, 49, 49, 49, 49, 49, 49, 49, 49, 50, 50, 50, 50, 50, 50,\n",
       "         50, 50, 50, 50, 51, 51, 51, 51, 51, 51, 51, 51, 51, 51, 52, 52,\n",
       "         52, 52, 52, 52, 52, 52, 52, 52]], dtype=uint8)}"
      ]
     },
     "execution_count": 18,
     "metadata": {},
     "output_type": "execute_result"
    }
   ],
   "source": [
    "import scipy.io as sio\n",
    "import numpy as np\n",
    "import matplotlib.pyplot as plt\n",
    "faces_content = sio.loadmat('face.mat')\n",
    "faces_content\n"
   ]
  },
  {
   "cell_type": "markdown",
   "metadata": {},
   "source": [
    "## Now we will split data into training and test using ratio of 80%-20%"
   ]
  },
  {
   "cell_type": "code",
   "execution_count": 19,
   "metadata": {},
   "outputs": [
    {
     "name": "stdout",
     "output_type": "stream",
     "text": [
      "(2576, 416)\n",
      "(2576, 104)\n",
      "[[221  99  58 ...  93 227 100]\n",
      " [225 100  58 ...  95 232 102]\n",
      " [226 100  57 ...  81 235 132]\n",
      " ...\n",
      " [ 79 114 167 ...  88  43  44]\n",
      " [ 78 118 171 ... 100  45  44]\n",
      " [ 80 120 171 ...  91  46  47]]\n",
      "[[38 40  6 28  7 41 32 24  8 22  1 44 36 30 32 51 48 17  1 25 46  1 42 47\n",
      "  23 33 18 33 20 15 13 46  6 20 42 44 52 42 28  6 50 22  4 39 30 21 20  6\n",
      "   8  3 22  1 46 43 40  1 15 27 14 22 13  3  7  3 48  2 18 41 48 20  7 52\n",
      "  26  9 38 32 19 51 49 17 51 40 21 23 34 51  6 20 25 31 36 17 11 34  7 37\n",
      "  19 46 47 32  9 44 35 42 10 52 49 46 30 10  2 35 20 15 16 16 50 51 17  9\n",
      "  25 29  7 33 32 15 11 42  1 44 23  2 15 28 52  4 12 49 11 28 33 18 27 12\n",
      "  17 45 13 41 12 38 37 35 14 37 26 30 41 42 26 24 14  4 51  5  7 20 29 48\n",
      "  31 22  8  4 31  3 39 52 49 22  3 36 31 16 36 37 14 22 11 42 37 40 22 41\n",
      "  19 22 45 21 24 26  7  3 22 31 23 13 12 17 45 42  5 28 46  8 33 34  2 29\n",
      "  44 26 23 17  9 12 51 12 15 16  2 36 34 11 38 14 24 27 41 32 33 43 25 35\n",
      "  41  2 33 30 27 23 41  1 37 13 29 29  8 19 44 51 28 30 50 19 48  9 31 26\n",
      "   2 37 40  9 27  4 52  6  5 28  6 21 43 47 45 13 23  7 40 38 14 19  3 40\n",
      "   5 47  1 39 21 37 46 10 39 35 31 30 18 37 26 10 50 10 48 17  7 31  5 35\n",
      "  38 40 21 28 23 15 15 34 19 36 14 48  5 27 33 21  9 43 13 52 47 50 49 39\n",
      "  10  9 44 27 12 36 30  6 43 33 26 38 48 45  5 11 39 50 28 48  4 39  6 43\n",
      "  47 13 30  3 19 38 46 17 16 25 21  4  4 13 19 51 45 29 43 40 49 15 29 50\n",
      "  18 52 10 34 45 44 34 20 25 47 12 41 27  8 34  3 17 34  9 18  9  4 49 20\n",
      "  32 40 48  8 28  1 36 20]]\n",
      "[[43 11 26 24 32  2 14 27 39 10 44 42 16 45 38  8 33 14 43 30  4 10 35 24\n",
      "  36 23  5 35 21  3  5 31 32 18 50 11 16 49 49 18 16 25 35 51 32 35 27 25\n",
      "  16 50 14 47 13 23 37  1  8  2 12 26 47 24 19 24 15 25 11 38  8 46 41 29\n",
      "   2 43 31 39 29  7 45 36 10 12 25 42 46 39 52 18 49 29 52 34 24 50 21 45\n",
      "  44 18  6 24 47  5 11 16]]\n",
      "[[38 40  6 28  7 41 32 24  8 22  1 44 36 30 32 51 48 17  1 25 46  1 42 47\n",
      "  23 33 18 33 20 15 13 46  6 20 42 44 52 42 28  6 50 22  4 39 30 21 20  6\n",
      "   8  3 22  1 46 43 40  1 15 27 14 22 13  3  7  3 48  2 18 41 48 20  7 52\n",
      "  26  9 38 32 19 51 49 17 51 40 21 23 34 51  6 20 25 31 36 17 11 34  7 37\n",
      "  19 46 47 32  9 44 35 42 10 52 49 46 30 10  2 35 20 15 16 16 50 51 17  9\n",
      "  25 29  7 33 32 15 11 42  1 44 23  2 15 28 52  4 12 49 11 28 33 18 27 12\n",
      "  17 45 13 41 12 38 37 35 14 37 26 30 41 42 26 24 14  4 51  5  7 20 29 48\n",
      "  31 22  8  4 31  3 39 52 49 22  3 36 31 16 36 37 14 22 11 42 37 40 22 41\n",
      "  19 22 45 21 24 26  7  3 22 31 23 13 12 17 45 42  5 28 46  8 33 34  2 29\n",
      "  44 26 23 17  9 12 51 12 15 16  2 36 34 11 38 14 24 27 41 32 33 43 25 35\n",
      "  41  2 33 30 27 23 41  1 37 13 29 29  8 19 44 51 28 30 50 19 48  9 31 26\n",
      "   2 37 40  9 27  4 52  6  5 28  6 21 43 47 45 13 23  7 40 38 14 19  3 40\n",
      "   5 47  1 39 21 37 46 10 39 35 31 30 18 37 26 10 50 10 48 17  7 31  5 35\n",
      "  38 40 21 28 23 15 15 34 19 36 14 48  5 27 33 21  9 43 13 52 47 50 49 39\n",
      "  10  9 44 27 12 36 30  6 43 33 26 38 48 45  5 11 39 50 28 48  4 39  6 43\n",
      "  47 13 30  3 19 38 46 17 16 25 21  4  4 13 19 51 45 29 43 40 49 15 29 50\n",
      "  18 52 10 34 45 44 34 20 25 47 12 41 27  8 34  3 17 34  9 18  9  4 49 20\n",
      "  32 40 48  8 28  1 36 20]]\n"
     ]
    },
    {
     "data": {
      "image/png": "[encoded data removed]",
      "text/plain": [
       "<matplotlib.figure.Figure at 0x1a08ad2978>"
      ]
     },
     "metadata": {},
     "output_type": "display_data"
    }
   ],
   "source": [
    "from sklearn.utils import shuffle\n",
    "from sklearn.model_selection import train_test_split\n",
    "import collections \n",
    "from itertools import groupby\n",
    "\n",
    "face_data = faces_content['X']\n",
    "face_id = faces_content['l']\n",
    "\n",
    "X_train, X_test = train_test_split(face_data.T, test_size = 0.2, random_state = 0)\n",
    "Y_train, Y_test = train_test_split(face_id.T, test_size = 0.2, random_state = 0)\n",
    "\n",
    "face_train = X_train.T\n",
    "face_train_id = Y_train.T\n",
    "face_test = X_test.T\n",
    "face_test_id = Y_test.T\n",
    "\n",
    "print(face_train.shape)\n",
    "print(face_test.shape)\n",
    "print(face_train)\n",
    "print(face_train_id)\n",
    "print(face_test_id)\n",
    "\n",
    "face_5 = np.reshape(face_train[:,50],(46,56))\n",
    "plt.imshow(face_5.T, cmap = 'gist_gray')\n",
    "\n",
    "#face_n = np.reshape(face_data[:,379],(46,56))\n",
    "#plt.imshow(face_n.T, cmap = 'gist_gray')\n",
    "\n",
    "#idx_trainid=np.argsort(np.abs(face_train_id)) #sort the eigenavalues in descending order\n",
    "#face_train_id_sort = face_train_id[idx_trainid]\n",
    "print(face_train_id)\n",
    "\n",
    "#print([len(list(group)) for key, group in groupby(face_train_id)])\n",
    "\n",
    "\n",
    "    "
   ]
  },
  {
   "cell_type": "markdown",
   "metadata": {
    "collapsed": true
   },
   "source": [
    "### As can be seen, the training data of pixels corresponds to the training data of IDs. Next up, we will perform PCA, ie find the eigenvectors and eigenvalues. We don't need to normalise and centralise the data."
   ]
  },
  {
   "cell_type": "code",
   "execution_count": 20,
   "metadata": {},
   "outputs": [
    {
     "name": "stdout",
     "output_type": "stream",
     "text": [
      "(2576,)\n",
      "(2576,)\n"
     ]
    },
    {
     "data": {
      "image/png": "[encoded data removed]",
      "text/plain": [
       "<matplotlib.figure.Figure at 0x180774c438>"
      ]
     },
     "metadata": {},
     "output_type": "display_data"
    }
   ],
   "source": [
    "average_face=np.average(face_train.T, axis = 0)\n",
    "print(average_face.shape)\n",
    "face_aver = np.reshape(average_face,(46,56))\n",
    "plt.imshow(face_aver.T, cmap = 'gist_gray')\n",
    "\n",
    "average_face_test = np.average(face_test.T, axis = 0)\n",
    "print(average_face_test.shape)\n",
    "#face_aver_test = np.reshape(average_face_test,(46,56))\n",
    "#plt.imshow(face_aver_test.T, cmap = 'gist_gray')"
   ]
  },
  {
   "cell_type": "markdown",
   "metadata": {},
   "source": [
    "### Average looks alright"
   ]
  },
  {
   "cell_type": "code",
   "execution_count": 21,
   "metadata": {},
   "outputs": [
    {
     "name": "stdout",
     "output_type": "stream",
     "text": [
      "[[ 97.05288462 -24.94711538 -65.94711538 ... -30.94711538 103.05288462\n",
      "  -23.94711538]\n",
      " [101.25480769 -23.74519231 -65.74519231 ... -28.74519231 108.25480769\n",
      "  -21.74519231]\n",
      " [105.19471154 -20.80528846 -63.80528846 ... -39.80528846 114.19471154\n",
      "   11.19471154]\n",
      " ...\n",
      " [ -7.82932692  27.17067308  80.17067308 ...   1.17067308 -43.82932692\n",
      "  -42.82932692]\n",
      " [ -6.69471154  33.30528846  86.30528846 ...  15.30528846 -39.69471154\n",
      "  -40.69471154]\n",
      " [ -3.04086538  36.95913462  87.95913462 ...   7.95913462 -37.04086538\n",
      "  -36.04086538]]\n",
      "suka\n",
      "[[ 97.05288462 -24.94711538 -65.94711538 ... -30.94711538 103.05288462\n",
      "  -23.94711538]\n",
      " [101.25480769 -23.74519231 -65.74519231 ... -28.74519231 108.25480769\n",
      "  -21.74519231]\n",
      " [105.19471154 -20.80528846 -63.80528846 ... -39.80528846 114.19471154\n",
      "   11.19471154]\n",
      " ...\n",
      " [ -7.82932692  27.17067308  80.17067308 ...   1.17067308 -43.82932692\n",
      "  -42.82932692]\n",
      " [ -6.69471154  33.30528846  86.30528846 ...  15.30528846 -39.69471154\n",
      "  -40.69471154]\n",
      " [ -3.04086538  36.95913462  87.95913462 ...   7.95913462 -37.04086538\n",
      "  -36.04086538]]\n",
      "(2576, 416)\n"
     ]
    }
   ],
   "source": [
    "norm_face_t = face_train.T - average_face.T\n",
    "norm_face = norm_face_t.T\n",
    "print(norm_face)\n",
    "print('suka')\n",
    "print(norm_face)\n",
    "print(norm_face.shape)"
   ]
  },
  {
   "cell_type": "markdown",
   "metadata": {},
   "source": [
    "### covariance matrix S"
   ]
  },
  {
   "cell_type": "code",
   "execution_count": 22,
   "metadata": {},
   "outputs": [
    {
     "name": "stdout",
     "output_type": "stream",
     "text": [
      "[[2717.76643399 2574.59950536 2344.8671066  ... -539.14123752\n",
      "  -585.75412583 -572.52908885]\n",
      " [2574.59950536 2794.33891919 2634.29894369 ... -533.05550804\n",
      "  -576.92153985 -569.14824103]\n",
      " [2344.8671066  2634.29894369 2752.85872203 ... -530.12457817\n",
      "  -569.28540472 -551.53050458]\n",
      " ...\n",
      " [-539.14123752 -533.05550804 -530.12457817 ... 2877.43000532\n",
      "  2743.60654933 2622.85312847]\n",
      " [-585.75412583 -576.92153985 -569.28540472 ... 2743.60654933\n",
      "  2963.05343357 2858.15430265]\n",
      " [-572.52908885 -569.14824103 -551.53050458 ... 2622.85312847\n",
      "  2858.15430265 3003.77958002]]\n",
      "(2576, 2576)\n"
     ]
    }
   ],
   "source": [
    "N=416\n",
    "\n",
    "S = np.dot(norm_face,norm_face.T)/N\n",
    "print(S)\n",
    "print(S.shape)"
   ]
  },
  {
   "cell_type": "markdown",
   "metadata": {},
   "source": [
    "### find eigvals and eigvecs of S\n"
   ]
  },
  {
   "cell_type": "code",
   "execution_count": 23,
   "metadata": {},
   "outputs": [
    {
     "name": "stdout",
     "output_type": "stream",
     "text": [
      "[ 9.56846588e+05+0.j  5.31930209e+05+0.j  4.55028542e+05+0.j ...\n",
      " -8.03938822e-14+0.j  1.43613511e-13+0.j  9.47626104e-14+0.j]\n",
      "suka\n",
      "[[-1.14878149e-02+0.j  1.78896422e-02+0.j -1.52988695e-02+0.j ...\n",
      "   7.25045416e-04+0.j -1.13614457e-03+0.j  8.00404069e-04+0.j]\n",
      " [-1.24027394e-02+0.j  1.75147272e-02+0.j -1.62413323e-02+0.j ...\n",
      "   1.38671296e-04+0.j -4.41190631e-04+0.j  3.40457594e-04+0.j]\n",
      " [-1.30041096e-02+0.j  1.65703203e-02+0.j -1.86062571e-02+0.j ...\n",
      "   9.07569072e-05+0.j -2.05312051e-04+0.j  1.71830159e-04+0.j]\n",
      " ...\n",
      " [ 2.85477901e-03+0.j -4.96944794e-02+0.j -1.62049717e-03+0.j ...\n",
      "   2.69652490e-03+0.j  4.67455385e-03+0.j -8.82099720e-03+0.j]\n",
      " [ 2.64786517e-03+0.j -4.86687095e-02+0.j -1.53852128e-03+0.j ...\n",
      "  -2.79952215e-02+0.j -1.87884519e-02+0.j  1.85797064e-02+0.j]\n",
      " [ 2.25930783e-03+0.j -4.97091470e-02+0.j -6.67263909e-05+0.j ...\n",
      "   2.71343890e-02+0.j  9.38745015e-04+0.j  2.64035748e-03+0.j]]\n",
      "(2576,)\n",
      "(2576, 2576)\n"
     ]
    },
    {
     "name": "stderr",
     "output_type": "stream",
     "text": [
      "/Users/adilzhannussipzhan/anaconda3/lib/python3.6/site-packages/ipykernel_launcher.py:9: ComplexWarning: Casting complex values to real discards the imaginary part\n",
      "  if __name__ == '__main__':\n"
     ]
    }
   ],
   "source": [
    "eigvals, eigvecs = np.linalg.eig(S)\n",
    "\n",
    "print(eigvals)\n",
    "print('suka')\n",
    "print(eigvecs)\n",
    "print(eigvals.shape)\n",
    "print(eigvecs.shape)\n",
    "\n",
    "eigvecs_float = eigvecs.astype('float64')"
   ]
  },
  {
   "cell_type": "code",
   "execution_count": 24,
   "metadata": {},
   "outputs": [
    {
     "name": "stderr",
     "output_type": "stream",
     "text": [
      "/Users/adilzhannussipzhan/anaconda3/lib/python3.6/site-packages/numpy/core/numeric.py:492: ComplexWarning: Casting complex values to real discards the imaginary part\n",
      "  return array(a, dtype, copy=False, order=order)\n"
     ]
    },
    {
     "data": {
      "text/plain": [
       "[<matplotlib.lines.Line2D at 0x1a202feba8>]"
      ]
     },
     "execution_count": 24,
     "metadata": {},
     "output_type": "execute_result"
    },
    {
     "data": {
      "image/png": "[encoded data removed]",
      "text/plain": [
       "<matplotlib.figure.Figure at 0x1a0e570550>"
      ]
     },
     "metadata": {},
     "output_type": "display_data"
    }
   ],
   "source": [
    "x=np.arange(0, 2576, 1)\n",
    "\n",
    "\n",
    "plt.axis([0,276,0,1000000])\n",
    "plt.plot(eigvals)"
   ]
  },
  {
   "cell_type": "markdown",
   "metadata": {},
   "source": [
    "### calculating M"
   ]
  },
  {
   "cell_type": "code",
   "execution_count": 25,
   "metadata": {},
   "outputs": [
    {
     "name": "stdout",
     "output_type": "stream",
     "text": [
      "[ 9.56846588e+05+0.j  5.31930209e+05+0.j  4.55028542e+05+0.j ...\n",
      "  1.43613511e-13+0.j  9.47626104e-14+0.j -8.03938822e-14+0.j]\n",
      "[[-1.14878149e-02+0.j  1.78896422e-02+0.j -1.52988695e-02+0.j ...\n",
      "   7.25045416e-04+0.j -1.13614457e-03+0.j  8.00404069e-04+0.j]\n",
      " [-1.24027394e-02+0.j  1.75147272e-02+0.j -1.62413323e-02+0.j ...\n",
      "   1.38671296e-04+0.j -4.41190631e-04+0.j  3.40457594e-04+0.j]\n",
      " [-1.30041096e-02+0.j  1.65703203e-02+0.j -1.86062571e-02+0.j ...\n",
      "   9.07569072e-05+0.j -2.05312051e-04+0.j  1.71830159e-04+0.j]\n",
      " ...\n",
      " [ 2.64786517e-03+0.j -4.86687095e-02+0.j -1.53852128e-03+0.j ...\n",
      "  -2.79952215e-02+0.j -1.87884519e-02+0.j  1.85797064e-02+0.j]\n",
      " [ 2.25930783e-03+0.j -4.97091470e-02+0.j -6.67263909e-05+0.j ...\n",
      "   2.71343890e-02+0.j  9.38745015e-04+0.j  2.64035748e-03+0.j]\n",
      " [ 2.85477901e-03+0.j -4.96944794e-02+0.j -1.62049717e-03+0.j ...\n",
      "   2.69652490e-03+0.j  4.67455385e-03+0.j -8.82099720e-03+0.j]]\n",
      "(4453595.684160045+0j)\n",
      "(0.7056450621729968+0j)\n",
      "(0.8012852161774592+0j)\n",
      "(0.900596652973705+0j)\n",
      "(0.9500941016674986+0j)\n",
      "(0.9900354968035794+0j)\n"
     ]
    }
   ],
   "source": [
    "idx=np.argsort(np.abs(eigvals))[::-1] #sort the eigenavalues in descending order\n",
    "eigvals_sort = eigvals[idx]\n",
    "print(eigvals_sort)\n",
    "eigvecs_sort = eigvecs[idx]\n",
    "print(eigvecs_sort)\n",
    "\n",
    "\n",
    "\n",
    "b = sum(eigvals)\n",
    "print(b)\n",
    "\n",
    "b_14 = sum(eigvals[0:13]) #13 eigenvalues give 70.56% reconstruction accuracy\n",
    "print(b_14/b)\n",
    "\n",
    "b_27 = sum(eigvals[0:26]) #13 eigenvalues give 80.12% reconstruction accuracy\n",
    "print(b_27/b)\n",
    "\n",
    "b_66 = sum(eigvals[0:65]) #13 eigenvalues give 90.06% reconstruction accuracy\n",
    "print(b_66/b)\n",
    "\n",
    "b_123 = sum(eigvals[0:122]) #13 eigenvalues give 95.01% reconstruction accuracy\n",
    "print(b_123/b)\n",
    "\n",
    "b_270 = sum(eigvals[0:269]) #13 eigenvalues give 99.00% reconstruction accuracy\n",
    "print(b_270/b)\n",
    "\n"
   ]
  },
  {
   "cell_type": "markdown",
   "metadata": {},
   "source": [
    "#### low-dimensional computation of eigenspace"
   ]
  },
  {
   "cell_type": "markdown",
   "metadata": {},
   "source": [
    "##### covariance S for low-dimensional"
   ]
  },
  {
   "cell_type": "code",
   "execution_count": 26,
   "metadata": {},
   "outputs": [
    {
     "name": "stdout",
     "output_type": "stream",
     "text": [
      "[[11120.31315522 -2214.71980521  1658.43828234 ...  3244.83321809\n",
      "   2407.66392607 -2700.20243511]\n",
      " [-2214.71980521  8490.92992667  -794.74371655 ... -2851.31993465\n",
      "    514.4675041  -1111.58876092]\n",
      " [ 1658.43828234  -794.74371655 12801.05139024 ...  7184.66988368\n",
      "  -2507.10277373 -2554.08932722]\n",
      " ...\n",
      " [ 3244.83321809 -2851.31993465  7184.66988368 ... 10984.01433865\n",
      "  -1217.92658799 -3357.46842993]\n",
      " [ 2407.66392607   514.4675041  -2507.10277373 ... -1217.92658799\n",
      "   8587.78633153   583.93198958]\n",
      " [-2700.20243511 -1111.58876092 -2554.08932722 ... -3357.46842993\n",
      "    583.93198958 10609.20985918]]\n",
      "(416, 416)\n"
     ]
    }
   ],
   "source": [
    "N=416\n",
    "\n",
    "S_l = np.dot(norm_face.T, norm_face)/N\n",
    "print(S_l)\n",
    "print(S_l.shape)"
   ]
  },
  {
   "cell_type": "markdown",
   "metadata": {},
   "source": [
    "#### find eigvals and eigvecs of low-dimensional "
   ]
  },
  {
   "cell_type": "code",
   "execution_count": 27,
   "metadata": {},
   "outputs": [
    {
     "name": "stdout",
     "output_type": "stream",
     "text": [
      "[9.56846588e+05 5.31930209e+05 4.55028542e+05 2.47519052e+05\n",
      " 2.17529060e+05 1.50795820e+05 1.25404454e+05 1.08171761e+05\n",
      " 9.18498578e+04 8.05238976e+04 6.36102099e+04 5.77240021e+04\n",
      " 5.57243495e+04 5.19129505e+04 4.47718605e+04 4.31749014e+04\n",
      " 3.64876109e+04 3.50021286e+04 3.40560838e+04 3.05874009e+04\n",
      " 2.88847080e+04 2.61001995e+04 2.56341239e+04 2.44990669e+04\n",
      " 2.35450175e+04 2.12865247e+04 2.06115479e+04 1.93673065e+04\n",
      " 1.89236049e+04 1.86146507e+04 1.79129756e+04 1.67184004e+04\n",
      " 1.58131487e+04 1.55308035e+04 1.49946296e+04 1.35850897e+04\n",
      " 1.34292370e+04 1.31343746e+04 1.26001094e+04 1.26542655e+04\n",
      " 1.21000313e+04 1.18295913e+04 1.09578825e+04 1.06277944e+04\n",
      " 1.04290716e+04 1.00995160e+04 9.96023898e+03 9.65659389e+03\n",
      " 9.49928860e+03 9.32976629e+03 8.96974821e+03 8.83025841e+03\n",
      " 8.56746244e+03 8.34148517e+03 8.07180128e+03 7.89363256e+03\n",
      " 7.70072242e+03 7.68016086e+03 7.36615272e+03 7.29063341e+03\n",
      " 6.98979097e+03 6.75036454e+03 6.63617135e+03 6.54093958e+03\n",
      " 6.28374332e+03 6.21721304e+03 6.00962617e+03 5.94352109e+03\n",
      " 5.86072545e+03 5.73856397e+03 5.50379817e+03 5.47492383e+03\n",
      " 5.37097583e+03 5.11320385e+03 5.21101427e+03 2.94689289e-12\n",
      " 4.94271145e+03 4.92319406e+03 4.83865468e+03 4.81534619e+03\n",
      " 4.68885155e+03 4.60258919e+03 4.48860866e+03 4.33368446e+03\n",
      " 4.29234649e+03 4.23525549e+03 4.18917122e+03 4.12321766e+03\n",
      " 4.04448642e+03 3.93567895e+03 3.89550372e+03 3.86123846e+03\n",
      " 3.77835850e+03 3.72892104e+03 3.66832575e+03 3.57804380e+03\n",
      " 3.54411412e+03 3.47756887e+03 3.44112406e+03 3.35696787e+03\n",
      " 3.32456700e+03 3.27105777e+03 3.19574625e+03 3.15564461e+03\n",
      " 3.13233987e+03 3.07945468e+03 3.02862456e+03 2.87706236e+03\n",
      " 2.98645213e+03 2.94060393e+03 2.81861839e+03 2.78891139e+03\n",
      " 2.75465012e+03 2.73012253e+03 2.70916253e+03 2.63036900e+03\n",
      " 2.66934110e+03 2.66666564e+03 2.55080787e+03 2.53275912e+03\n",
      " 2.49686602e+03 2.44962207e+03 2.42464665e+03 2.40234021e+03\n",
      " 2.39523802e+03 2.36317713e+03 2.33252287e+03 2.32361817e+03\n",
      " 2.08930300e+03 2.10655837e+03 2.14717942e+03 2.27619453e+03\n",
      " 2.18142214e+03 2.21283572e+03 2.22287468e+03 2.23395474e+03\n",
      " 2.04711570e+03 2.02069310e+03 2.01157024e+03 1.97827377e+03\n",
      " 1.94462944e+03 1.94066922e+03 1.90904079e+03 1.88516771e+03\n",
      " 1.86055972e+03 1.83079932e+03 1.81775555e+03 1.68091098e+03\n",
      " 1.79166255e+03 1.69863308e+03 1.77668665e+03 1.72061547e+03\n",
      " 1.72968311e+03 1.75518033e+03 1.75238891e+03 1.65320048e+03\n",
      " 1.64784146e+03 1.62994922e+03 1.60676938e+03 1.58129582e+03\n",
      " 1.55975635e+03 1.54918583e+03 1.52830294e+03 1.50437827e+03\n",
      " 1.48953751e+03 1.47269882e+03 1.41859155e+03 1.44876681e+03\n",
      " 1.43905705e+03 1.42972779e+03 1.41194513e+03 1.38235415e+03\n",
      " 1.36622270e+03 1.35839357e+03 1.22828840e+03 1.23098656e+03\n",
      " 1.24461034e+03 1.25787477e+03 1.27647760e+03 1.33090294e+03\n",
      " 1.29109484e+03 1.30280793e+03 1.31067421e+03 1.31396798e+03\n",
      " 1.21831014e+03 1.21055690e+03 1.19387483e+03 1.17094549e+03\n",
      " 1.08596050e+03 1.15725520e+03 1.15479935e+03 1.14009271e+03\n",
      " 1.09768142e+03 1.12446899e+03 1.10915175e+03 1.11910568e+03\n",
      " 1.11354352e+03 1.08317262e+03 1.07014065e+03 1.05613530e+03\n",
      " 1.03925198e+03 1.01481306e+03 1.01969760e+03 1.02191282e+03\n",
      " 9.78370974e+02 9.89697991e+02 9.82836039e+02 9.85524704e+02\n",
      " 9.65565709e+02 9.56548633e+02 9.54449787e+02 9.40516918e+02\n",
      " 9.35259706e+02 9.13530256e+02 9.11583830e+02 8.65871518e+02\n",
      " 8.73629977e+02 8.78504344e+02 8.83411680e+02 8.86590370e+02\n",
      " 9.02636925e+02 8.97129366e+02 8.66799797e+01 9.54094175e+01\n",
      " 1.01179066e+02 1.07854829e+02 8.51742693e+02 8.40782567e+02\n",
      " 8.31082159e+02 8.22552047e+02 8.16213768e+02 8.13072961e+02\n",
      " 8.01273310e+02 7.94322508e+02 7.77756157e+02 7.70551894e+02\n",
      " 7.85306507e+02 1.11512449e+02 1.19540957e+02 1.24019039e+02\n",
      " 1.26725148e+02 1.27402781e+02 1.32033209e+02 1.36123717e+02\n",
      " 1.33313516e+02 7.70031905e+02 7.62151559e+02 7.60409982e+02\n",
      " 7.56545452e+02 7.53550058e+02 7.40077163e+02 7.36122405e+02\n",
      " 7.25478352e+02 7.17817520e+02 7.02513752e+02 7.06894357e+02\n",
      " 7.10585624e+02 1.38223076e+02 1.39364909e+02 1.43628640e+02\n",
      " 1.45920226e+02 1.52787297e+02 1.48263154e+02 1.49386833e+02\n",
      " 1.55680175e+02 1.57082255e+02 6.93603471e+02 6.88886887e+02\n",
      " 6.86800380e+02 6.80526191e+02 6.70402634e+02 6.63006598e+02\n",
      " 6.60159036e+02 6.49727904e+02 6.44865039e+02 6.38596845e+02\n",
      " 6.27331074e+02 6.29230529e+02 6.20351178e+02 6.15318757e+02\n",
      " 6.11020955e+02 5.64238196e+02 6.00760644e+02 5.98973912e+02\n",
      " 5.74962124e+02 5.81697132e+02 5.86375784e+02 5.90503314e+02\n",
      " 1.58429367e+02 1.63583504e+02 1.65750918e+02 1.69004858e+02\n",
      " 1.70193196e+02 1.73200832e+02 1.89753833e+02 1.88716889e+02\n",
      " 1.85821457e+02 1.76235330e+02 1.80360189e+02 1.78020820e+02\n",
      " 1.79278205e+02 5.37673607e+02 5.60421589e+02 5.67736673e+02\n",
      " 1.94577874e+02 1.95483787e+02 1.95169588e+02 5.45797140e+02\n",
      " 5.51886829e+02 5.54483565e+02 5.59157754e+02 2.04562709e+02\n",
      " 2.00677953e+02 1.98837358e+02 5.31983389e+02 5.19269666e+02\n",
      " 5.24875231e+02 5.27075256e+02 2.11181877e+02 2.09306514e+02\n",
      " 2.06249845e+02 1.99804742e+02 2.14214561e+02 2.17848412e+02\n",
      " 2.22835136e+02 2.24518068e+02 4.82017348e+02 4.86192350e+02\n",
      " 4.90189685e+02 4.94062201e+02 4.99946598e+02 5.06727937e+02\n",
      " 5.12931772e+02 5.13831715e+02 4.96875741e+02 2.19691529e+02\n",
      " 2.29145593e+02 2.34835730e+02 2.33434661e+02 2.32108292e+02\n",
      " 2.41252724e+02 2.43472344e+02 4.78571000e+02 4.38615717e+02\n",
      " 4.42130299e+02 4.73296985e+02 4.67719425e+02 4.64795208e+02\n",
      " 4.57656302e+02 4.61360854e+02 4.49575371e+02 4.51989065e+02\n",
      " 4.75044303e+02 2.29545517e+02 2.49613003e+02 2.53025149e+02\n",
      " 2.55820592e+02 2.58948156e+02 2.63744471e+02 4.32208644e+02\n",
      " 4.29161349e+02 3.84235197e+02 3.91169612e+02 3.95449928e+02\n",
      " 4.00675783e+02 4.11992902e+02 4.14447637e+02 4.17327867e+02\n",
      " 4.21769517e+02 2.69082374e+02 2.77453064e+02 2.80666704e+02\n",
      " 2.84282903e+02 2.65558698e+02 2.96330575e+02 2.98542119e+02\n",
      " 3.45016288e+02 3.47684867e+02 3.87801107e+02 3.68141241e+02\n",
      " 3.74177366e+02 4.07177372e+02 3.79405366e+02 3.77971742e+02\n",
      " 4.47534917e+02 2.46658396e+02 2.46844641e+02 2.64630055e+02\n",
      " 2.74425284e+02 2.88090582e+02 2.86787302e+02 4.19517815e+02\n",
      " 3.05466941e+02 3.16794565e+02 4.03446087e+02 3.29750304e+02\n",
      " 3.36464488e+02 3.39248197e+02 3.62975108e+02 3.61130883e+02\n",
      " 3.64846792e+02 2.67795104e+02 3.56612352e+02 3.52040054e+02\n",
      " 3.54453773e+02 2.91168835e+02 2.93423757e+02 3.33584369e+02\n",
      " 3.40588868e+02 3.22637334e+02 3.09847410e+02 3.11019094e+02\n",
      " 3.12436018e+02 3.06462316e+02 3.26104562e+02 3.24282595e+02]\n",
      "suka_l\n",
      "[[ 0.03682305  0.02209753 -0.05244275 ... -0.00240229 -0.00270005\n",
      "  -0.00121191]\n",
      " [-0.05198864  0.01003228  0.06231998 ...  0.06714776 -0.01869994\n",
      "   0.01371267]\n",
      " [ 0.06096035  0.08496223  0.0645004  ...  0.03935992  0.09956939\n",
      "   0.10355784]\n",
      " ...\n",
      " [ 0.06257424  0.07929688 -0.00934272 ... -0.03679704  0.04816534\n",
      "   0.02107324]\n",
      " [-0.01480523 -0.04346086 -0.02549111 ... -0.04429055  0.07959246\n",
      "  -0.0325707 ]\n",
      " [ 0.01368386 -0.08389392  0.03492622 ... -0.00866656 -0.05945409\n",
      "  -0.00782143]]\n",
      "(416,)\n",
      "(416, 416)\n"
     ]
    }
   ],
   "source": [
    "eigvals_l, eigvecs_l = np.linalg.eig(S_l)\n",
    "\n",
    "print(eigvals_l)\n",
    "print('suka_l')\n",
    "print(eigvecs_l)\n",
    "print(eigvals_l.shape)\n",
    "print(eigvecs_l.shape)\n"
   ]
  },
  {
   "cell_type": "code",
   "execution_count": 28,
   "metadata": {},
   "outputs": [
    {
     "name": "stdout",
     "output_type": "stream",
     "text": [
      "(5.587935447692871e-09+0j)\n"
     ]
    }
   ],
   "source": [
    "#checking that first 416 eigvals are the same\n",
    "su = sum(eigvals[0:415])\n",
    "su_l = sum(eigvals_l)\n",
    "\n",
    "print(su-su_l)\n",
    "\n"
   ]
  },
  {
   "cell_type": "markdown",
   "metadata": {},
   "source": [
    "# Reconstructed face "
   ]
  },
  {
   "cell_type": "code",
   "execution_count": 78,
   "metadata": {},
   "outputs": [
    {
     "name": "stdout",
     "output_type": "stream",
     "text": [
      "(2576, 2576)\n",
      "(2576, 100)\n",
      "(2576, 416)\n",
      "(100,)\n"
     ]
    }
   ],
   "source": [
    "M=100\n",
    "\n",
    "PCA = np.array([eigvecs[:,i] for i in range (M)])\n",
    "print(eigvecs_sort.shape)\n",
    "print(PCA.T.shape)\n",
    "\n",
    "#A = norm_face[:,55].T*(eigvecs[:,1]+eigvecs[:,2]+eigvecs[:,3]+eigvecs[:,4]+eigvecs[:,5]+eigvecs[:,6]+eigvecs[:,7]+eigvecs[:,8]+eigvecs[:,9]+eigvecs[:,10]+eigvecs[:,11]+eigvecs[:,12]+eigvecs[:,13]+eigvecs[:,14]+eigvecs[:,15]+eigvecs[:,16]+eigvecs[:,17]+eigvecs[:,18]+eigvecs[:,19])\n",
    "\n",
    "print(norm_face.shape)\n",
    "\n",
    "A = np.dot(norm_face[:,1].T, PCA.T)\n",
    "print(A.shape)\n"
   ]
  },
  {
   "cell_type": "code",
   "execution_count": 79,
   "metadata": {},
   "outputs": [
    {
     "name": "stdout",
     "output_type": "stream",
     "text": [
      "[109.04841948 106.74693888 101.51041468 ...  99.25766002  92.67459186\n",
      "  97.10274888]\n",
      "(2576,)\n"
     ]
    },
    {
     "data": {
      "text/plain": [
       "<matplotlib.image.AxesImage at 0x1a244ae5f8>"
      ]
     },
     "execution_count": 79,
     "metadata": {},
     "output_type": "execute_result"
    },
    {
     "data": {
      "image/png": "[encoded data removed]",
      "text/plain": [
       "<matplotlib.figure.Figure at 0x1a2033c2e8>"
      ]
     },
     "metadata": {},
     "output_type": "display_data"
    }
   ],
   "source": [
    "A_reconstruct = average_face + np.dot(A, PCA)\n",
    "\n",
    "print(A_reconstruct.real)\n",
    "print(A_reconstruct.shape)\n",
    "\n",
    "A_reconstruct = A_reconstruct.real\n",
    "\n",
    "\n",
    "face_recon = A_reconstruct.reshape(46,56)\n",
    "plt.imshow(face_recon.T, cmap = 'gist_gray')"
   ]
  },
  {
   "cell_type": "markdown",
   "metadata": {},
   "source": [
    "## Nearest Neighbor Classification"
   ]
  },
  {
   "cell_type": "code",
   "execution_count": 277,
   "metadata": {},
   "outputs": [
    {
     "name": "stdout",
     "output_type": "stream",
     "text": [
      "(2576, 104)\n"
     ]
    }
   ],
   "source": [
    "face_test_n_transform = face_test.T - average_face_test.T\n",
    "face_test_n = face_test_n_transform.T\n",
    "print(face_test_n.shape)\n",
    "\n"
   ]
  },
  {
   "cell_type": "code",
   "execution_count": 269,
   "metadata": {},
   "outputs": [
    {
     "name": "stdout",
     "output_type": "stream",
     "text": [
      "[[ 475.70679148+0.j -903.49080329+0.j -338.08577207+0.j ...\n",
      "    90.80692668+0.j   35.42071678+0.j   82.51491296+0.j]\n",
      " [ 428.86685029+0.j -635.61212264+0.j  295.13213514+0.j ...\n",
      "   -29.09285556+0.j   67.36505751+0.j  111.18824262+0.j]\n",
      " [ 693.5469813 +0.j  314.37953576+0.j -333.44536398+0.j ...\n",
      "   -45.2760749 +0.j  -37.29053356+0.j  -34.3545113 +0.j]\n",
      " ...\n",
      " [-589.10760016+0.j  -58.63513265+0.j  574.50126662+0.j ...\n",
      "    24.16929229+0.j   32.15877427+0.j  -20.12422587+0.j]\n",
      " [-408.12446495+0.j -676.94623882+0.j  277.59980319+0.j ...\n",
      "   -43.92220475+0.j  -67.53845861+0.j   29.17713741+0.j]\n",
      " [-858.29118612+0.j  -98.60254411+0.j -797.00405441+0.j ...\n",
      "  -167.21314896+0.j   15.97957674+0.j   -2.07538185+0.j]]\n",
      "(416,)\n",
      "[29072.14732545 27107.71552725 30229.5055721  28317.36070284\n",
      " 30149.74364164 24484.16128769 23754.87031066 28359.208406\n",
      " 26402.05775407 31228.18626589 30855.91223748 27831.97493974\n",
      " 28013.90286898 27880.3350128  30224.42712251 26585.45065276\n",
      " 23547.38755253 24742.26732734 27731.9259545  25716.77721015\n",
      " 29090.58007301 29163.5323204  34502.23825451 26263.94180083\n",
      " 24810.17586668 28172.99380461 31358.48378848 27284.65004102\n",
      " 28651.14122787 28357.76630965 37791.31984281 25169.67469136\n",
      " 29334.06014837 26336.51871812 31229.80964454 28197.57808896\n",
      " 24951.83773086 30940.7139926  26632.25950891 26191.98211451\n",
      " 30488.64572236 31744.2841773  30977.72844656 33462.01738588\n",
      " 26185.67501509 26135.56465347 28337.35019582 24941.07991052\n",
      " 25162.97749525 27794.76172523 25792.67068689 28164.67412782\n",
      " 28208.68550333 27805.29362538 28766.13390168 25010.72523284\n",
      " 35586.60954526 29779.8307452  25358.29852327 29588.15334556\n",
      " 30332.03148946 27321.47860052 30087.76205339 26912.64067276\n",
      " 27211.00907222 30423.57765558 30614.52469525 28713.11619579\n",
      " 27200.37842533 26702.40001999 28235.90606446 24780.60168761\n",
      " 24118.22967683 30663.48199158 27836.8893029  26437.76958761\n",
      " 32314.10102687 29497.60307806 27733.39518962 27502.7193577\n",
      " 27173.76612796 29518.45580101 32754.90652836 31767.49627761\n",
      " 24748.58159364 26829.81315759 32218.44868407 31359.47676425\n",
      " 26200.38388517 27445.26082921 28756.84311313 24794.00986566\n",
      " 26856.0855811  26464.68666875 26603.76249505 29533.70580496\n",
      " 34714.75680289 31571.57670852 27537.47098443 29009.90651433\n",
      " 23880.92562562 24752.94171912 27906.65870566 26837.27450686\n",
      " 28373.03807411 28778.45769582 30203.79025273 27948.40477091\n",
      " 28554.19850835 33689.190624   27246.29669878 27945.13897621\n",
      " 27881.56545153 27602.11775114 27348.93717199 27002.96282738\n",
      " 28373.84651526 26485.45898117 26854.75452515 32683.59067509\n",
      " 24821.32902238 27350.56749949 30435.35544473 25245.57309781\n",
      " 31057.79443343 34370.50684105 27725.90172916 30258.83649844\n",
      " 27016.62580688 27427.94823998 25989.81680098 27586.04189373\n",
      " 24467.51672692 27712.13834106 25506.36454292 31087.67918005\n",
      " 27705.850458   30042.92355767 24625.88701129 34060.81721347\n",
      " 26177.42688663 30022.7253931  26368.75003338 24177.77001986\n",
      " 30232.56145765 29966.28164736 40081.24734424 27954.08994588\n",
      " 27634.0117058  29073.75409744 24381.45796981 26058.13355942\n",
      " 25573.89852964 28676.90814889 27288.07810586 30555.45305569\n",
      " 30526.80626392 24709.1667058  25148.73341976 30472.14096723\n",
      " 24597.58406258 29198.67082941 27060.06937259 29245.32809924\n",
      " 34730.10559084 29213.23334115 24611.96949629 23263.62244748\n",
      " 31822.95816152 32960.84415895 27337.52997824 27505.01176586\n",
      " 30790.27486039 27699.96288419 31073.9638487  27110.93930429\n",
      " 25351.56597864 28654.36048866 27081.32378121 30242.34530879\n",
      " 25062.48513568 27143.22545022 29835.10166845 31839.10599669\n",
      " 26468.31134608 27471.36811448 26988.6258383  28097.69777899\n",
      " 29775.09033288 28313.47173888 28294.98122926 34058.20179797\n",
      " 30714.59337069 25301.55140149 31040.43384384 26082.10310141\n",
      " 28993.22978556 34323.78133996 29596.78940971 29412.83639912\n",
      " 29587.95347579 25824.04559101 29775.57700397 29524.85971125\n",
      " 30508.18738682 26924.04897288 33691.5707806  33476.80707907\n",
      " 26266.66497791 31801.39724313 27108.5331329  26693.43485129\n",
      " 27294.1070303  37458.00624503 31561.24998988 21206.5022263\n",
      " 26433.28438792 24616.39011389 26612.07531751 31953.42992217\n",
      " 34185.06179247 25775.45814188 28402.06139963 30843.05725065\n",
      " 25818.5888731  29103.31841527 27531.85132524 27112.14007546\n",
      " 36392.72840018 24354.1701955  27067.93647537 25626.28743179\n",
      " 32147.81986991 26126.38597327 24388.90877772 23775.0258158\n",
      " 28128.59126443 30764.58959971 29592.07283214 24614.08636107\n",
      " 31345.62952747 25536.0103774  27476.54724823 25222.15206192\n",
      " 26088.99800754 26522.43481106 27039.38028058 26015.61364048\n",
      " 25426.26815402 35967.44005903 26105.71981157 23579.56520718\n",
      " 25632.03799015 29851.93107675 25757.80276041 27964.35425809\n",
      " 30637.50477679 26778.82666838 35119.93038922 28145.80002046\n",
      " 29043.27632649 26128.02572451 27793.67537278 32661.0705248\n",
      " 27190.42930235 30769.36347375 30318.52963664 25203.60806088\n",
      " 27802.13770632 32193.34759569 33253.3587801  28632.27696738\n",
      " 33214.65236504 26891.71404899 27640.73331525 29401.07328017\n",
      " 26658.53207086 26230.03433502 31609.44977736 26594.55833558\n",
      " 29645.24205472 30842.25776216 29382.27038352 26524.85614911\n",
      " 33589.86565939 30262.59671366 28093.58883507 31822.56960352\n",
      " 29091.71989207 26094.50370206 29474.85156506 25486.24961296\n",
      " 30992.53750383 25744.94921785 28561.70464326 26436.84526785\n",
      " 29910.86084912 27844.26793903 28530.8861647  32286.78600216\n",
      " 29778.47075314 24765.38752157 31815.11936637 28679.16353582\n",
      " 36160.54839936 27969.78372935 26119.94382604 27850.55371606\n",
      " 29386.2240205  28232.68632221 24394.18450222 27233.6867072\n",
      " 30355.95253883 24159.39037448 31487.27600663 40358.56454509\n",
      " 25892.53281456 25746.75941642 27955.59229406 29034.85628069\n",
      " 28427.05967583 30411.13380742 26667.00750916 28830.19387914\n",
      " 24442.89319523 26912.19311784 26065.43938992 27535.87837279\n",
      " 37042.28727993 26317.59651417 44144.5905077  27420.25021933\n",
      " 26976.08180273 33372.60057295 27187.61567569 26652.46999659\n",
      " 27047.91000848 33182.35397207 25589.26456256 28322.8552721\n",
      " 30944.24801993 29168.37356213 33446.35415808 27248.81487574\n",
      " 27093.65183978 26374.7587058  31329.23769647 30350.5852203\n",
      " 26352.14218113 39588.64211624 33237.4418621  29343.84534904\n",
      " 30552.52833527 30500.33096555 30354.8070504  26532.97194495\n",
      " 34751.48400292 31458.82557283 26791.51327588 25386.02074218\n",
      " 29727.11991652 29465.15993538 26287.73770651 27619.45776934\n",
      " 26914.00425945 25240.66438927 25897.58027063 27470.06315931\n",
      " 25277.95323144 27728.42197623 26765.84039222 29367.91130667\n",
      " 32327.29632999 30908.69731181 29066.11542376 27347.3914696\n",
      " 31220.55129041 21923.79344702 28204.85351808 27261.37387557\n",
      " 26846.28164235 26133.1309321  31221.14299059 29104.79422626\n",
      " 31877.39994492 28631.12614069 26228.22387226 23908.94239422\n",
      " 27504.71141512 25805.46197015 31558.66224213 25916.39752274\n",
      " 30380.28688473 27426.84240334 24207.77000831 29027.21397304\n",
      " 30464.17199429 27429.06587308 36557.4451945  27445.59681642\n",
      " 29893.69032262 30117.26944776 25947.71025774 30843.22020965\n",
      " 26717.41107152 34170.21668262 28418.74466641 29996.80324803\n",
      " 30688.85150577 25307.37675852 31492.43007142 28434.80983687\n",
      " 29335.38419422 28781.44611343 27245.08761228 28767.23779921]\n",
      "21206.502226295528\n",
      "215\n"
     ]
    }
   ],
   "source": [
    "from sklearn.neighbors import KNeighborsClassifier\n",
    "\n",
    "N = 416\n",
    "PP = 104\n",
    "\n",
    "PCA = np.array([eigvecs[:,i] for i in range (M)])\n",
    "W = np.array([np.dot(face_test_n[:,P].T, PCA.T) for P in range (PP)]) #this thing changed for all the arrays (matrices in matrix)\n",
    "print(W)\n",
    "#W_i = np.array([norm_face[:,i] for i in range (N)])\n",
    "\n",
    "Wn = np.dot(norm_face.T, PCA.T) \n",
    "\n",
    "\n",
    "# Wn= Wn.reshape(1,-1)\n",
    "\n",
    "#classifier = KNeighborsClassifier(n_neighbors = 1)\n",
    "#classifier.fit(Wn.T, face_train_id.T.ravel())\n",
    "#face_predict = classifier.predict(face_test)\n",
    "\n",
    "\n",
    "Norm = np.array([np.linalg.norm(W - Wn[i,:]) for i in range (N)]) \n",
    "print(Norm.shape)\n",
    "print(Norm)\n",
    "min_norm = min(Norm)\n",
    "print(min_norm)\n",
    "index_min = Norm.argmin()\n",
    "print(index_min)\n",
    "\n"
   ]
  },
  {
   "cell_type": "code",
   "execution_count": 257,
   "metadata": {},
   "outputs": [
    {
     "name": "stdout",
     "output_type": "stream",
     "text": [
      "(1, 416)\n",
      "32\n"
     ]
    }
   ],
   "source": [
    "print(face_train_id.shape)\n",
    "face_train_id_arg = face_train_id[0, index_min]\n",
    "print(face_train_id_arg)\n"
   ]
  },
  {
   "cell_type": "code",
   "execution_count": 258,
   "metadata": {},
   "outputs": [
    {
     "data": {
      "text/plain": [
       "<matplotlib.image.AxesImage at 0x1a1ebba7b8>"
      ]
     },
     "execution_count": 258,
     "metadata": {},
     "output_type": "execute_result"
    },
    {
     "data": {
      "image/png": "[encoded data removed]",
      "text/plain": [
       "<matplotlib.figure.Figure at 0x1a1e8c1550>"
      ]
     },
     "metadata": {},
     "output_type": "display_data"
    }
   ],
   "source": [
    "test_image_nn = face_test[:,P].reshape(46,56)\n",
    "plt.imshow(test_image_nn.T, cmap = 'gist_gray')"
   ]
  },
  {
   "cell_type": "code",
   "execution_count": 259,
   "metadata": {},
   "outputs": [
    {
     "data": {
      "text/plain": [
       "<matplotlib.image.AxesImage at 0x1a1ecbad30>"
      ]
     },
     "execution_count": 259,
     "metadata": {},
     "output_type": "execute_result"
    },
    {
     "data": {
      "image/png": "[encoded data removed]",
      "text/plain": [
       "<matplotlib.figure.Figure at 0x1a1eb59518>"
      ]
     },
     "metadata": {},
     "output_type": "display_data"
    }
   ],
   "source": [
    "train_image_nn = face_train[:,index_min].reshape(46,56)\n",
    "plt.imshow(train_image_nn.T, cmap = 'gist_gray')"
   ]
  },
  {
   "cell_type": "code",
   "execution_count": 247,
   "metadata": {},
   "outputs": [],
   "source": [
    "from sklearn.metrics import accuracy_score\n",
    "#accuracy_score(face_train_id_arg, face_test_id[:,0])\n"
   ]
  },
  {
   "cell_type": "markdown",
   "metadata": {},
   "source": [
    "need to check all the faces from NN classification somehow, then need to do alternative method"
   ]
  },
  {
   "cell_type": "code",
   "execution_count": 276,
   "metadata": {},
   "outputs": [
    {
     "name": "stdout",
     "output_type": "stream",
     "text": [
      "(416, 100)\n",
      "(416,)\n",
      "(2576, 104)\n"
     ]
    },
    {
     "name": "stderr",
     "output_type": "stream",
     "text": [
      "/Users/adilzhannussipzhan/anaconda3/lib/python3.6/site-packages/numpy/core/numeric.py:492: ComplexWarning: Casting complex values to real discards the imaginary part\n",
      "  return array(a, dtype, copy=False, order=order)\n"
     ]
    },
    {
     "ename": "ValueError",
     "evalue": "query data dimension must match training data dimension",
     "output_type": "error",
     "traceback": [
      "\u001b[0;31m---------------------------------------------------------------------------\u001b[0m",
      "\u001b[0;31mValueError\u001b[0m                                Traceback (most recent call last)",
      "\u001b[0;32m<ipython-input-276-19d4b9618893>\u001b[0m in \u001b[0;36m<module>\u001b[0;34m()\u001b[0m\n\u001b[1;32m      4\u001b[0m \u001b[0mclassifier\u001b[0m\u001b[0;34m.\u001b[0m\u001b[0mfit\u001b[0m\u001b[0;34m(\u001b[0m\u001b[0mWn\u001b[0m\u001b[0;34m,\u001b[0m \u001b[0mface_train_id\u001b[0m\u001b[0;34m.\u001b[0m\u001b[0mT\u001b[0m\u001b[0;34m.\u001b[0m\u001b[0mravel\u001b[0m\u001b[0;34m(\u001b[0m\u001b[0;34m)\u001b[0m\u001b[0;34m)\u001b[0m\u001b[0;34m\u001b[0m\u001b[0m\n\u001b[1;32m      5\u001b[0m \u001b[0mprint\u001b[0m\u001b[0;34m(\u001b[0m\u001b[0mface_test\u001b[0m\u001b[0;34m.\u001b[0m\u001b[0mshape\u001b[0m\u001b[0;34m)\u001b[0m\u001b[0;34m\u001b[0m\u001b[0m\n\u001b[0;32m----> 6\u001b[0;31m \u001b[0mface_predict\u001b[0m \u001b[0;34m=\u001b[0m \u001b[0mclassifier\u001b[0m\u001b[0;34m.\u001b[0m\u001b[0mpredict\u001b[0m\u001b[0;34m(\u001b[0m\u001b[0mface_test\u001b[0m\u001b[0;34m)\u001b[0m\u001b[0;34m\u001b[0m\u001b[0m\n\u001b[0m",
      "\u001b[0;32m~/anaconda3/lib/python3.6/site-packages/sklearn/neighbors/classification.py\u001b[0m in \u001b[0;36mpredict\u001b[0;34m(self, X)\u001b[0m\n\u001b[1;32m    143\u001b[0m         \u001b[0mX\u001b[0m \u001b[0;34m=\u001b[0m \u001b[0mcheck_array\u001b[0m\u001b[0;34m(\u001b[0m\u001b[0mX\u001b[0m\u001b[0;34m,\u001b[0m \u001b[0maccept_sparse\u001b[0m\u001b[0;34m=\u001b[0m\u001b[0;34m'csr'\u001b[0m\u001b[0;34m)\u001b[0m\u001b[0;34m\u001b[0m\u001b[0m\n\u001b[1;32m    144\u001b[0m \u001b[0;34m\u001b[0m\u001b[0m\n\u001b[0;32m--> 145\u001b[0;31m         \u001b[0mneigh_dist\u001b[0m\u001b[0;34m,\u001b[0m \u001b[0mneigh_ind\u001b[0m \u001b[0;34m=\u001b[0m \u001b[0mself\u001b[0m\u001b[0;34m.\u001b[0m\u001b[0mkneighbors\u001b[0m\u001b[0;34m(\u001b[0m\u001b[0mX\u001b[0m\u001b[0;34m)\u001b[0m\u001b[0;34m\u001b[0m\u001b[0m\n\u001b[0m\u001b[1;32m    146\u001b[0m \u001b[0;34m\u001b[0m\u001b[0m\n\u001b[1;32m    147\u001b[0m         \u001b[0mclasses_\u001b[0m \u001b[0;34m=\u001b[0m \u001b[0mself\u001b[0m\u001b[0;34m.\u001b[0m\u001b[0mclasses_\u001b[0m\u001b[0;34m\u001b[0m\u001b[0m\n",
      "\u001b[0;32m~/anaconda3/lib/python3.6/site-packages/sklearn/neighbors/base.py\u001b[0m in \u001b[0;36mkneighbors\u001b[0;34m(self, X, n_neighbors, return_distance)\u001b[0m\n\u001b[1;32m    383\u001b[0m                 delayed(self._tree.query, check_pickle=False)(\n\u001b[1;32m    384\u001b[0m                     X[s], n_neighbors, return_distance)\n\u001b[0;32m--> 385\u001b[0;31m                 \u001b[0;32mfor\u001b[0m \u001b[0ms\u001b[0m \u001b[0;32min\u001b[0m \u001b[0mgen_even_slices\u001b[0m\u001b[0;34m(\u001b[0m\u001b[0mX\u001b[0m\u001b[0;34m.\u001b[0m\u001b[0mshape\u001b[0m\u001b[0;34m[\u001b[0m\u001b[0;36m0\u001b[0m\u001b[0;34m]\u001b[0m\u001b[0;34m,\u001b[0m \u001b[0mn_jobs\u001b[0m\u001b[0;34m)\u001b[0m\u001b[0;34m\u001b[0m\u001b[0m\n\u001b[0m\u001b[1;32m    386\u001b[0m             )\n\u001b[1;32m    387\u001b[0m             \u001b[0;32mif\u001b[0m \u001b[0mreturn_distance\u001b[0m\u001b[0;34m:\u001b[0m\u001b[0;34m\u001b[0m\u001b[0m\n",
      "\u001b[0;32m~/anaconda3/lib/python3.6/site-packages/sklearn/externals/joblib/parallel.py\u001b[0m in \u001b[0;36m__call__\u001b[0;34m(self, iterable)\u001b[0m\n\u001b[1;32m    777\u001b[0m             \u001b[0;31m# was dispatched. In particular this covers the edge\u001b[0m\u001b[0;34m\u001b[0m\u001b[0;34m\u001b[0m\u001b[0m\n\u001b[1;32m    778\u001b[0m             \u001b[0;31m# case of Parallel used with an exhausted iterator.\u001b[0m\u001b[0;34m\u001b[0m\u001b[0;34m\u001b[0m\u001b[0m\n\u001b[0;32m--> 779\u001b[0;31m             \u001b[0;32mwhile\u001b[0m \u001b[0mself\u001b[0m\u001b[0;34m.\u001b[0m\u001b[0mdispatch_one_batch\u001b[0m\u001b[0;34m(\u001b[0m\u001b[0miterator\u001b[0m\u001b[0;34m)\u001b[0m\u001b[0;34m:\u001b[0m\u001b[0;34m\u001b[0m\u001b[0m\n\u001b[0m\u001b[1;32m    780\u001b[0m                 \u001b[0mself\u001b[0m\u001b[0;34m.\u001b[0m\u001b[0m_iterating\u001b[0m \u001b[0;34m=\u001b[0m \u001b[0;32mTrue\u001b[0m\u001b[0;34m\u001b[0m\u001b[0m\n\u001b[1;32m    781\u001b[0m             \u001b[0;32melse\u001b[0m\u001b[0;34m:\u001b[0m\u001b[0;34m\u001b[0m\u001b[0m\n",
      "\u001b[0;32m~/anaconda3/lib/python3.6/site-packages/sklearn/externals/joblib/parallel.py\u001b[0m in \u001b[0;36mdispatch_one_batch\u001b[0;34m(self, iterator)\u001b[0m\n\u001b[1;32m    623\u001b[0m                 \u001b[0;32mreturn\u001b[0m \u001b[0;32mFalse\u001b[0m\u001b[0;34m\u001b[0m\u001b[0m\n\u001b[1;32m    624\u001b[0m             \u001b[0;32melse\u001b[0m\u001b[0;34m:\u001b[0m\u001b[0;34m\u001b[0m\u001b[0m\n\u001b[0;32m--> 625\u001b[0;31m                 \u001b[0mself\u001b[0m\u001b[0;34m.\u001b[0m\u001b[0m_dispatch\u001b[0m\u001b[0;34m(\u001b[0m\u001b[0mtasks\u001b[0m\u001b[0;34m)\u001b[0m\u001b[0;34m\u001b[0m\u001b[0m\n\u001b[0m\u001b[1;32m    626\u001b[0m                 \u001b[0;32mreturn\u001b[0m \u001b[0;32mTrue\u001b[0m\u001b[0;34m\u001b[0m\u001b[0m\n\u001b[1;32m    627\u001b[0m \u001b[0;34m\u001b[0m\u001b[0m\n",
      "\u001b[0;32m~/anaconda3/lib/python3.6/site-packages/sklearn/externals/joblib/parallel.py\u001b[0m in \u001b[0;36m_dispatch\u001b[0;34m(self, batch)\u001b[0m\n\u001b[1;32m    586\u001b[0m         \u001b[0mdispatch_timestamp\u001b[0m \u001b[0;34m=\u001b[0m \u001b[0mtime\u001b[0m\u001b[0;34m.\u001b[0m\u001b[0mtime\u001b[0m\u001b[0;34m(\u001b[0m\u001b[0;34m)\u001b[0m\u001b[0;34m\u001b[0m\u001b[0m\n\u001b[1;32m    587\u001b[0m         \u001b[0mcb\u001b[0m \u001b[0;34m=\u001b[0m \u001b[0mBatchCompletionCallBack\u001b[0m\u001b[0;34m(\u001b[0m\u001b[0mdispatch_timestamp\u001b[0m\u001b[0;34m,\u001b[0m \u001b[0mlen\u001b[0m\u001b[0;34m(\u001b[0m\u001b[0mbatch\u001b[0m\u001b[0;34m)\u001b[0m\u001b[0;34m,\u001b[0m \u001b[0mself\u001b[0m\u001b[0;34m)\u001b[0m\u001b[0;34m\u001b[0m\u001b[0m\n\u001b[0;32m--> 588\u001b[0;31m         \u001b[0mjob\u001b[0m \u001b[0;34m=\u001b[0m \u001b[0mself\u001b[0m\u001b[0;34m.\u001b[0m\u001b[0m_backend\u001b[0m\u001b[0;34m.\u001b[0m\u001b[0mapply_async\u001b[0m\u001b[0;34m(\u001b[0m\u001b[0mbatch\u001b[0m\u001b[0;34m,\u001b[0m \u001b[0mcallback\u001b[0m\u001b[0;34m=\u001b[0m\u001b[0mcb\u001b[0m\u001b[0;34m)\u001b[0m\u001b[0;34m\u001b[0m\u001b[0m\n\u001b[0m\u001b[1;32m    589\u001b[0m         \u001b[0mself\u001b[0m\u001b[0;34m.\u001b[0m\u001b[0m_jobs\u001b[0m\u001b[0;34m.\u001b[0m\u001b[0mappend\u001b[0m\u001b[0;34m(\u001b[0m\u001b[0mjob\u001b[0m\u001b[0;34m)\u001b[0m\u001b[0;34m\u001b[0m\u001b[0m\n\u001b[1;32m    590\u001b[0m \u001b[0;34m\u001b[0m\u001b[0m\n",
      "\u001b[0;32m~/anaconda3/lib/python3.6/site-packages/sklearn/externals/joblib/_parallel_backends.py\u001b[0m in \u001b[0;36mapply_async\u001b[0;34m(self, func, callback)\u001b[0m\n\u001b[1;32m    109\u001b[0m     \u001b[0;32mdef\u001b[0m \u001b[0mapply_async\u001b[0m\u001b[0;34m(\u001b[0m\u001b[0mself\u001b[0m\u001b[0;34m,\u001b[0m \u001b[0mfunc\u001b[0m\u001b[0;34m,\u001b[0m \u001b[0mcallback\u001b[0m\u001b[0;34m=\u001b[0m\u001b[0;32mNone\u001b[0m\u001b[0;34m)\u001b[0m\u001b[0;34m:\u001b[0m\u001b[0;34m\u001b[0m\u001b[0m\n\u001b[1;32m    110\u001b[0m         \u001b[0;34m\"\"\"Schedule a func to be run\"\"\"\u001b[0m\u001b[0;34m\u001b[0m\u001b[0m\n\u001b[0;32m--> 111\u001b[0;31m         \u001b[0mresult\u001b[0m \u001b[0;34m=\u001b[0m \u001b[0mImmediateResult\u001b[0m\u001b[0;34m(\u001b[0m\u001b[0mfunc\u001b[0m\u001b[0;34m)\u001b[0m\u001b[0;34m\u001b[0m\u001b[0m\n\u001b[0m\u001b[1;32m    112\u001b[0m         \u001b[0;32mif\u001b[0m \u001b[0mcallback\u001b[0m\u001b[0;34m:\u001b[0m\u001b[0;34m\u001b[0m\u001b[0m\n\u001b[1;32m    113\u001b[0m             \u001b[0mcallback\u001b[0m\u001b[0;34m(\u001b[0m\u001b[0mresult\u001b[0m\u001b[0;34m)\u001b[0m\u001b[0;34m\u001b[0m\u001b[0m\n",
      "\u001b[0;32m~/anaconda3/lib/python3.6/site-packages/sklearn/externals/joblib/_parallel_backends.py\u001b[0m in \u001b[0;36m__init__\u001b[0;34m(self, batch)\u001b[0m\n\u001b[1;32m    330\u001b[0m         \u001b[0;31m# Don't delay the application, to avoid keeping the input\u001b[0m\u001b[0;34m\u001b[0m\u001b[0;34m\u001b[0m\u001b[0m\n\u001b[1;32m    331\u001b[0m         \u001b[0;31m# arguments in memory\u001b[0m\u001b[0;34m\u001b[0m\u001b[0;34m\u001b[0m\u001b[0m\n\u001b[0;32m--> 332\u001b[0;31m         \u001b[0mself\u001b[0m\u001b[0;34m.\u001b[0m\u001b[0mresults\u001b[0m \u001b[0;34m=\u001b[0m \u001b[0mbatch\u001b[0m\u001b[0;34m(\u001b[0m\u001b[0;34m)\u001b[0m\u001b[0;34m\u001b[0m\u001b[0m\n\u001b[0m\u001b[1;32m    333\u001b[0m \u001b[0;34m\u001b[0m\u001b[0m\n\u001b[1;32m    334\u001b[0m     \u001b[0;32mdef\u001b[0m \u001b[0mget\u001b[0m\u001b[0;34m(\u001b[0m\u001b[0mself\u001b[0m\u001b[0;34m)\u001b[0m\u001b[0;34m:\u001b[0m\u001b[0;34m\u001b[0m\u001b[0m\n",
      "\u001b[0;32m~/anaconda3/lib/python3.6/site-packages/sklearn/externals/joblib/parallel.py\u001b[0m in \u001b[0;36m__call__\u001b[0;34m(self)\u001b[0m\n\u001b[1;32m    129\u001b[0m \u001b[0;34m\u001b[0m\u001b[0m\n\u001b[1;32m    130\u001b[0m     \u001b[0;32mdef\u001b[0m \u001b[0m__call__\u001b[0m\u001b[0;34m(\u001b[0m\u001b[0mself\u001b[0m\u001b[0;34m)\u001b[0m\u001b[0;34m:\u001b[0m\u001b[0;34m\u001b[0m\u001b[0m\n\u001b[0;32m--> 131\u001b[0;31m         \u001b[0;32mreturn\u001b[0m \u001b[0;34m[\u001b[0m\u001b[0mfunc\u001b[0m\u001b[0;34m(\u001b[0m\u001b[0;34m*\u001b[0m\u001b[0margs\u001b[0m\u001b[0;34m,\u001b[0m \u001b[0;34m**\u001b[0m\u001b[0mkwargs\u001b[0m\u001b[0;34m)\u001b[0m \u001b[0;32mfor\u001b[0m \u001b[0mfunc\u001b[0m\u001b[0;34m,\u001b[0m \u001b[0margs\u001b[0m\u001b[0;34m,\u001b[0m \u001b[0mkwargs\u001b[0m \u001b[0;32min\u001b[0m \u001b[0mself\u001b[0m\u001b[0;34m.\u001b[0m\u001b[0mitems\u001b[0m\u001b[0;34m]\u001b[0m\u001b[0;34m\u001b[0m\u001b[0m\n\u001b[0m\u001b[1;32m    132\u001b[0m \u001b[0;34m\u001b[0m\u001b[0m\n\u001b[1;32m    133\u001b[0m     \u001b[0;32mdef\u001b[0m \u001b[0m__len__\u001b[0m\u001b[0;34m(\u001b[0m\u001b[0mself\u001b[0m\u001b[0;34m)\u001b[0m\u001b[0;34m:\u001b[0m\u001b[0;34m\u001b[0m\u001b[0m\n",
      "\u001b[0;32m~/anaconda3/lib/python3.6/site-packages/sklearn/externals/joblib/parallel.py\u001b[0m in \u001b[0;36m<listcomp>\u001b[0;34m(.0)\u001b[0m\n\u001b[1;32m    129\u001b[0m \u001b[0;34m\u001b[0m\u001b[0m\n\u001b[1;32m    130\u001b[0m     \u001b[0;32mdef\u001b[0m \u001b[0m__call__\u001b[0m\u001b[0;34m(\u001b[0m\u001b[0mself\u001b[0m\u001b[0;34m)\u001b[0m\u001b[0;34m:\u001b[0m\u001b[0;34m\u001b[0m\u001b[0m\n\u001b[0;32m--> 131\u001b[0;31m         \u001b[0;32mreturn\u001b[0m \u001b[0;34m[\u001b[0m\u001b[0mfunc\u001b[0m\u001b[0;34m(\u001b[0m\u001b[0;34m*\u001b[0m\u001b[0margs\u001b[0m\u001b[0;34m,\u001b[0m \u001b[0;34m**\u001b[0m\u001b[0mkwargs\u001b[0m\u001b[0;34m)\u001b[0m \u001b[0;32mfor\u001b[0m \u001b[0mfunc\u001b[0m\u001b[0;34m,\u001b[0m \u001b[0margs\u001b[0m\u001b[0;34m,\u001b[0m \u001b[0mkwargs\u001b[0m \u001b[0;32min\u001b[0m \u001b[0mself\u001b[0m\u001b[0;34m.\u001b[0m\u001b[0mitems\u001b[0m\u001b[0;34m]\u001b[0m\u001b[0;34m\u001b[0m\u001b[0m\n\u001b[0m\u001b[1;32m    132\u001b[0m \u001b[0;34m\u001b[0m\u001b[0m\n\u001b[1;32m    133\u001b[0m     \u001b[0;32mdef\u001b[0m \u001b[0m__len__\u001b[0m\u001b[0;34m(\u001b[0m\u001b[0mself\u001b[0m\u001b[0;34m)\u001b[0m\u001b[0;34m:\u001b[0m\u001b[0;34m\u001b[0m\u001b[0m\n",
      "\u001b[0;32msklearn/neighbors/binary_tree.pxi\u001b[0m in \u001b[0;36msklearn.neighbors.kd_tree.BinaryTree.query\u001b[0;34m()\u001b[0m\n",
      "\u001b[0;31mValueError\u001b[0m: query data dimension must match training data dimension"
     ]
    }
   ],
   "source": [
    "classifier = KNeighborsClassifier(n_neighbors = 1)\n",
    "print(Wn.shape)\n",
    "print(face_train_id.T.ravel().shape)\n",
    "classifier.fit(Wn, face_train_id.T.ravel())\n",
    "print(face_test.shape)\n",
    "face_predict = classifier.predict(face_test)\n"
   ]
  },
  {
   "cell_type": "code",
   "execution_count": null,
   "metadata": {},
   "outputs": [],
   "source": []
  }
 ],
 "metadata": {
  "kernelspec": {
   "display_name": "Python 3",
   "language": "python",
   "name": "python3"
  },
  "language_info": {
   "codemirror_mode": {
    "name": "ipython",
    "version": 3
   },
   "file_extension": ".py",
   "mimetype": "text/x-python",
   "name": "python",
   "nbconvert_exporter": "python",
   "pygments_lexer": "ipython3",
   "version": "3.6.4"
  }
 },
 "nbformat": 4,
 "nbformat_minor": 2
}
